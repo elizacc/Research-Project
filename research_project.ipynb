{
 "cells": [
  {
   "cell_type": "code",
   "execution_count": 1,
   "id": "559da0b1",
   "metadata": {
    "ExecuteTime": {
     "end_time": "2022-07-29T18:51:41.508148Z",
     "start_time": "2022-07-29T18:51:32.051435Z"
    }
   },
   "outputs": [],
   "source": [
    "import numpy as np\n",
    "import pandas as pd\n",
    "import requests\n",
    "import networkx as nx\n",
    "import matplotlib.pyplot as plt\n",
    "import seaborn as sns\n",
    "from tqdm.notebook import tqdm\n",
    "from gensim.models import Word2Vec\n",
    "from sklearn.metrics.pairwise import rbf_kernel\n",
    "from sklearn.metrics import mean_squared_error\n",
    "from scipy.sparse import csr_matrix, diags\n",
    "from scipy.sparse.linalg import eigs"
   ]
  },
  {
   "cell_type": "markdown",
   "id": "ef871447",
   "metadata": {},
   "source": [
    "## Algorithms"
   ]
  },
  {
   "cell_type": "code",
   "execution_count": 2,
   "id": "13fa37be",
   "metadata": {
    "ExecuteTime": {
     "end_time": "2022-07-29T18:51:55.392172Z",
     "start_time": "2022-07-29T18:51:55.373175Z"
    }
   },
   "outputs": [],
   "source": [
    "# Algorithm 1\n",
    "def CN_VEC(X, A, S, k):\n",
    "    \"\"\"\n",
    "    X: array, Covariates of all nodes. For nodes which covariates are unknown array contains NaN\n",
    "    A: array, Adjacency matrix of the graph (now weighted)\n",
    "    S: array of indexes, Set of nodes with known covariates\n",
    "    k: number of neighbors\n",
    "    \"\"\"\n",
    "    all_nodes = set(np.arange(A.shape[0]))\n",
    "    no_cov_nodes = all_nodes - set(S)\n",
    "    X_hat = X.copy()\n",
    "    C = A.dot(A).A\n",
    "    \n",
    "    for node_i in tqdm(no_cov_nodes):\n",
    "        Ci = np.ones_like(C) * C[node_i]\n",
    "        Ci[:, node_i] = 0\n",
    "        np.fill_diagonal(Ci, 0)\n",
    "        \n",
    "        Cj = C.copy()\n",
    "        Cj[:, node_i] = 0\n",
    "        np.fill_diagonal(Cj, 0)\n",
    "        \n",
    "        dists = np.sum((Ci**2 - 2) * (Ci >= 2) + (Cj**2 - 2) * (Cj >= 2) - 2 * Ci * Cj, axis=1)[S]\n",
    "        \n",
    "        idxs = np.argsort(dists)[:k]\n",
    "        ktop = np.array(S)[idxs]\n",
    "        X_hat[node_i] = np.mean(X[ktop])\n",
    "        \n",
    "    return X_hat"
   ]
  },
  {
   "cell_type": "code",
   "execution_count": 3,
   "id": "b74dfbde",
   "metadata": {
    "ExecuteTime": {
     "end_time": "2022-07-29T18:51:56.036174Z",
     "start_time": "2022-07-29T18:51:56.017185Z"
    }
   },
   "outputs": [],
   "source": [
    "# Algorithm 2\n",
    "def SVD_RBF(X, A, S, theta, d):\n",
    "    \"\"\"\n",
    "    X: array, Covariates of all nodes. For nodes which covariates are unknown array contains NaN\n",
    "    A: array, Adjacency matrix of the graph (now weighted)\n",
    "    S: array of indexes, Set of nodes with known covariates\n",
    "    theta: bandwidth\n",
    "    d: rank of matrix\n",
    "    \n",
    "    \"\"\"\n",
    "\n",
    "    E, U = eigs(A, d)\n",
    "    V = np.real(U) * np.abs(np.real(E))**(1/2)\n",
    "    \n",
    "    all_nodes = set(np.arange(A.shape[0]))\n",
    "    no_cov_nodes = np.array(list(all_nodes - set(S)))\n",
    "    X_hat = X.copy()\n",
    "    dists = rbf_kernel(V, V, gamma=1/2/(theta**2))\n",
    "    X_hat[no_cov_nodes] = np.sum(dists[no_cov_nodes][:, S] * X[S], axis=1) / np.sum(dists[no_cov_nodes][:, S], axis=1)\n",
    "        \n",
    "    return X_hat"
   ]
  },
  {
   "cell_type": "code",
   "execution_count": 4,
   "id": "c8988e69",
   "metadata": {
    "ExecuteTime": {
     "end_time": "2022-07-29T18:51:56.597098Z",
     "start_time": "2022-07-29T18:51:56.585471Z"
    }
   },
   "outputs": [],
   "source": [
    "def NBR(X, A, S):\n",
    "    all_nodes = set(np.arange(A.shape[0]))\n",
    "    no_cov_nodes = np.array(list(all_nodes - set(S)))\n",
    "    X_hat = X.copy()\n",
    "    neighbors = np.sum(A.A[no_cov_nodes][:, S], axis=1)\n",
    "    \n",
    "    X_hat[no_cov_nodes] = np.divide(np.sum(A.A[no_cov_nodes][:, S] * X[S], axis=1), neighbors, where=neighbors>0)\n",
    "        \n",
    "    return X_hat"
   ]
  },
  {
   "cell_type": "code",
   "execution_count": 5,
   "id": "14747cf0",
   "metadata": {
    "ExecuteTime": {
     "end_time": "2022-07-29T18:51:57.045988Z",
     "start_time": "2022-07-29T18:51:57.035989Z"
    }
   },
   "outputs": [],
   "source": [
    "def W_PPR(X, A, S, k):\n",
    "    all_nodes = set(np.arange(A.shape[0]))\n",
    "    no_cov_nodes = np.array(list(all_nodes - set(S)))\n",
    "    X_hat = X.copy()\n",
    "    \n",
    "    gamma = np.exp(-.25)\n",
    "    D = np.diag(A.dot(np.ones(A.shape[0])))\n",
    "    D_inv = np.divide(1, D, where=D>0)\n",
    "    M = (1 - gamma) * np.linalg.inv(np.eye(D.shape[0]) - gamma * A.dot(D_inv))\n",
    "    W = (M + M.T) / 2\n",
    "    \n",
    "    neighbors = np.argsort(W[no_cov_nodes][:, S], axis=1)[:, -k:]\n",
    "    weights = np.sum(np.take(W[no_cov_nodes][:, S], neighbors), axis=1)\n",
    "    X_hat[no_cov_nodes] = np.divide(np.sum(np.take(W[no_cov_nodes][:, S]*X[S], neighbors), axis=1), weights, where=weights>0)\n",
    "        \n",
    "    return X_hat"
   ]
  },
  {
   "cell_type": "code",
   "execution_count": 6,
   "id": "f556ff14",
   "metadata": {
    "ExecuteTime": {
     "end_time": "2022-07-29T18:51:57.589741Z",
     "start_time": "2022-07-29T18:51:57.571532Z"
    }
   },
   "outputs": [],
   "source": [
    "def Jaccard(X, A, S, k):\n",
    "    all_nodes = set(np.arange(A.shape[0]))\n",
    "    no_cov_nodes = np.array(list(all_nodes - set(S)))\n",
    "    X_hat = X.copy()\n",
    "    C = A.dot(A)\n",
    "    d = A.dot(np.outer(np.ones(A.shape[0]), np.ones(A.shape[0])))\n",
    "    W = np.array(C / (d + d.T - C))\n",
    "    \n",
    "    neighbors = np.argsort(W[no_cov_nodes][:, S], axis=1)[:, -k:]\n",
    "    weights = np.sum(np.take(W[no_cov_nodes][:, S], neighbors), axis=1)\n",
    "    X_hat[no_cov_nodes] = np.divide(np.sum(np.take(W[no_cov_nodes][:, S]*X[S], neighbors), axis=1), weights, where=weights>0)\n",
    "       \n",
    "    return X_hat"
   ]
  },
  {
   "cell_type": "code",
   "execution_count": 7,
   "id": "aaf56617",
   "metadata": {
    "ExecuteTime": {
     "end_time": "2022-07-29T18:51:57.984057Z",
     "start_time": "2022-07-29T18:51:57.978060Z"
    }
   },
   "outputs": [],
   "source": [
    "def CN(X, A, S, k):\n",
    "    all_nodes = set(np.arange(A.shape[0]))\n",
    "    no_cov_nodes = np.array(list(all_nodes - set(S)))\n",
    "    X_hat = X.copy()\n",
    "    \n",
    "    W = A.dot(A).A\n",
    "    \n",
    "    neighbors = np.argsort(W[no_cov_nodes][:, S], axis=1)[:, -k:]\n",
    "    weights = np.sum(np.take(W[no_cov_nodes][:, S], neighbors), axis=1)\n",
    "    X_hat[no_cov_nodes] = np.divide(np.sum(np.take(W[no_cov_nodes][:, S]*X[S], neighbors), axis=1), weights, where=weights>0)\n",
    "       \n",
    "    return X_hat"
   ]
  },
  {
   "cell_type": "markdown",
   "id": "e726d45f",
   "metadata": {},
   "source": [
    "### Tests"
   ]
  },
  {
   "cell_type": "markdown",
   "id": "d33b499e",
   "metadata": {},
   "source": [
    "#### Artificial"
   ]
  },
  {
   "cell_type": "code",
   "execution_count": 38,
   "id": "dd92e120",
   "metadata": {
    "ExecuteTime": {
     "end_time": "2022-06-27T16:14:17.541621Z",
     "start_time": "2022-06-27T16:14:17.525617Z"
    }
   },
   "outputs": [],
   "source": [
    "A = csr_matrix(np.array([[0,1,1,0,1],[1,0,1,1,1],[1,1,0,1,1],[0,1,1,0,1],[1,1,1,1,0]], dtype=np.float64))"
   ]
  },
  {
   "cell_type": "code",
   "execution_count": 39,
   "id": "cc1558b1",
   "metadata": {
    "ExecuteTime": {
     "end_time": "2022-06-27T16:14:18.046682Z",
     "start_time": "2022-06-27T16:14:17.979684Z"
    }
   },
   "outputs": [
    {
     "data": {
      "image/png": "[encoded data removed]",
      "text/plain": [
       "<Figure size 432x288 with 1 Axes>"
      ]
     },
     "metadata": {},
     "output_type": "display_data"
    }
   ],
   "source": [
    "G = nx.from_numpy_array(A)\n",
    "nx.draw_networkx(G, node_color='royalblue', font_color='white')\n",
    "plt.axis('off');"
   ]
  },
  {
   "cell_type": "code",
   "execution_count": 40,
   "id": "6addc324",
   "metadata": {
    "ExecuteTime": {
     "end_time": "2022-06-27T16:14:18.440378Z",
     "start_time": "2022-06-27T16:14:18.423382Z"
    }
   },
   "outputs": [],
   "source": [
    "X = np.array([np.nan,3,1,np.nan,2])\n",
    "S = [1,2,4]\n",
    "k = 2"
   ]
  },
  {
   "cell_type": "code",
   "execution_count": 41,
   "id": "a5bf64e3",
   "metadata": {
    "ExecuteTime": {
     "end_time": "2022-06-27T16:14:19.193612Z",
     "start_time": "2022-06-27T16:14:19.164576Z"
    }
   },
   "outputs": [
    {
     "data": {
      "application/vnd.jupyter.widget-view+json": {
       "model_id": "a9dfe66ca5654419a6332aa3c1138a32",
       "version_major": 2,
       "version_minor": 0
      },
      "text/plain": [
       "  0%|          | 0/2 [00:00<?, ?it/s]"
      ]
     },
     "metadata": {},
     "output_type": "display_data"
    },
    {
     "data": {
      "text/plain": [
       "array([2., 3., 1., 2., 2.])"
      ]
     },
     "execution_count": 41,
     "metadata": {},
     "output_type": "execute_result"
    }
   ],
   "source": [
    "CN_VEC(X, A, S, k)"
   ]
  },
  {
   "cell_type": "code",
   "execution_count": 42,
   "id": "0708a449",
   "metadata": {
    "ExecuteTime": {
     "end_time": "2022-06-27T16:14:19.647622Z",
     "start_time": "2022-06-27T16:14:19.630572Z"
    }
   },
   "outputs": [
    {
     "data": {
      "text/plain": [
       "array([2., 3., 1., 2., 2.])"
      ]
     },
     "execution_count": 42,
     "metadata": {},
     "output_type": "execute_result"
    }
   ],
   "source": [
    "SVD_RBF(X, A, S, 1.5, k)"
   ]
  },
  {
   "cell_type": "code",
   "execution_count": 43,
   "id": "055a246f",
   "metadata": {
    "ExecuteTime": {
     "end_time": "2022-06-27T16:14:20.199375Z",
     "start_time": "2022-06-27T16:14:20.182373Z"
    }
   },
   "outputs": [
    {
     "data": {
      "text/plain": [
       "array([2., 3., 1., 2., 2.])"
      ]
     },
     "execution_count": 43,
     "metadata": {},
     "output_type": "execute_result"
    }
   ],
   "source": [
    "NBR(X, A, S)"
   ]
  },
  {
   "cell_type": "code",
   "execution_count": 71,
   "id": "2d60552a",
   "metadata": {
    "ExecuteTime": {
     "end_time": "2022-06-27T16:31:35.899231Z",
     "start_time": "2022-06-27T16:31:35.893234Z"
    }
   },
   "outputs": [
    {
     "name": "stdout",
     "output_type": "stream",
     "text": [
      "[[ 0.15111021 -0.0361464  -0.0361464  -0.070089   -0.0361464 ]\n",
      " [-0.0361464   0.2102298  -0.09385766 -0.0361464  -0.09385766]\n",
      " [-0.0361464  -0.09385766  0.2102298  -0.0361464  -0.09385766]\n",
      " [-0.070089   -0.0361464  -0.0361464   0.15111021 -0.0361464 ]\n",
      " [-0.0361464  -0.09385766 -0.09385766 -0.0361464   0.2102298 ]]\n"
     ]
    },
    {
     "data": {
      "text/plain": [
       "array([1.5, 3. , 1. , 1.5, 2. ])"
      ]
     },
     "execution_count": 71,
     "metadata": {},
     "output_type": "execute_result"
    }
   ],
   "source": [
    "W_PPR(X, A, S, k)"
   ]
  },
  {
   "cell_type": "code",
   "execution_count": 76,
   "id": "972feaf1",
   "metadata": {
    "ExecuteTime": {
     "end_time": "2022-06-27T16:34:13.314740Z",
     "start_time": "2022-06-27T16:34:13.305735Z"
    }
   },
   "outputs": [
    {
     "data": {
      "text/plain": [
       "array([1.5, 3. , 1. , 1.5, 2. ])"
      ]
     },
     "execution_count": 76,
     "metadata": {},
     "output_type": "execute_result"
    }
   ],
   "source": [
    "Jaccard(X, A, S, k)"
   ]
  },
  {
   "cell_type": "code",
   "execution_count": 98,
   "id": "85e9df5f",
   "metadata": {
    "ExecuteTime": {
     "end_time": "2022-04-12T15:53:17.301868Z",
     "start_time": "2022-04-12T15:53:17.293744Z"
    }
   },
   "outputs": [
    {
     "data": {
      "text/plain": [
       "array([2.5, 3. , 1. , 2.5, 2. ])"
      ]
     },
     "execution_count": 98,
     "metadata": {},
     "output_type": "execute_result"
    }
   ],
   "source": [
    "CN(X, A, S, k)"
   ]
  },
  {
   "cell_type": "code",
   "execution_count": 99,
   "id": "d4d3d869",
   "metadata": {
    "ExecuteTime": {
     "end_time": "2022-04-12T15:53:18.517807Z",
     "start_time": "2022-04-12T15:53:18.455738Z"
    }
   },
   "outputs": [
    {
     "name": "stdout",
     "output_type": "stream",
     "text": [
      "Walk iteration:\n",
      "1 / 10\n",
      "2 / 10\n",
      "3 / 10\n",
      "4 / 10\n",
      "5 / 10\n",
      "6 / 10\n",
      "7 / 10\n",
      "8 / 10\n",
      "9 / 10\n",
      "10 / 10\n"
     ]
    },
    {
     "data": {
      "application/vnd.jupyter.widget-view+json": {
       "model_id": "25a6a0980ce0470aa151d527e47d7e67",
       "version_major": 2,
       "version_minor": 0
      },
      "text/plain": [
       "  0%|          | 0/2 [00:00<?, ?it/s]"
      ]
     },
     "metadata": {},
     "output_type": "display_data"
    },
    {
     "data": {
      "text/plain": [
       "array([1.5, 3. , 1. , 2. , 2. ])"
      ]
     },
     "execution_count": 99,
     "metadata": {},
     "output_type": "execute_result"
    }
   ],
   "source": [
    "Node2Vec(X, A, S, 1.5, k)"
   ]
  },
  {
   "cell_type": "markdown",
   "id": "4b543783",
   "metadata": {},
   "source": [
    "#### Real"
   ]
  },
  {
   "cell_type": "code",
   "execution_count": 78,
   "id": "7a79556e",
   "metadata": {
    "ExecuteTime": {
     "end_time": "2022-06-27T16:34:59.525789Z",
     "start_time": "2022-06-27T16:34:59.485754Z"
    }
   },
   "outputs": [],
   "source": [
    "data = pd.read_csv(\"drive_ru_short.csv\")"
   ]
  },
  {
   "cell_type": "code",
   "execution_count": 79,
   "id": "d0d3985e",
   "metadata": {
    "ExecuteTime": {
     "end_time": "2022-06-27T16:34:59.983914Z",
     "start_time": "2022-06-27T16:34:59.945847Z"
    }
   },
   "outputs": [
    {
     "data": {
      "text/html": [
       "<div>\n",
       "<style scoped>\n",
       "    .dataframe tbody tr th:only-of-type {\n",
       "        vertical-align: middle;\n",
       "    }\n",
       "\n",
       "    .dataframe tbody tr th {\n",
       "        vertical-align: top;\n",
       "    }\n",
       "\n",
       "    .dataframe thead th {\n",
       "        text-align: right;\n",
       "    }\n",
       "</style>\n",
       "<table border=\"1\" class=\"dataframe\">\n",
       "  <thead>\n",
       "    <tr style=\"text-align: right;\">\n",
       "      <th></th>\n",
       "      <th>brand</th>\n",
       "      <th>model</th>\n",
       "      <th>modif</th>\n",
       "      <th>price_from</th>\n",
       "      <th>price_to</th>\n",
       "      <th>price</th>\n",
       "      <th>year</th>\n",
       "      <th>new</th>\n",
       "      <th>mileage</th>\n",
       "      <th>region</th>\n",
       "      <th>wheel</th>\n",
       "      <th>actuator</th>\n",
       "      <th>horsepower</th>\n",
       "      <th>engine</th>\n",
       "      <th>volume</th>\n",
       "      <th>transmission</th>\n",
       "      <th>speeds</th>\n",
       "      <th>concat</th>\n",
       "    </tr>\n",
       "  </thead>\n",
       "  <tbody>\n",
       "    <tr>\n",
       "      <th>0</th>\n",
       "      <td>Aston Martin</td>\n",
       "      <td>DB11 Coupe</td>\n",
       "      <td>V8</td>\n",
       "      <td>17800000</td>\n",
       "      <td>21000000</td>\n",
       "      <td>NaN</td>\n",
       "      <td>2016</td>\n",
       "      <td>True</td>\n",
       "      <td>0</td>\n",
       "      <td>Russia</td>\n",
       "      <td>NaN</td>\n",
       "      <td>задний</td>\n",
       "      <td>510</td>\n",
       "      <td>бензиновый</td>\n",
       "      <td>3982</td>\n",
       "      <td>автоматическая</td>\n",
       "      <td>8</td>\n",
       "      <td>Aston Martin DB11 Coupe V8</td>\n",
       "    </tr>\n",
       "    <tr>\n",
       "      <th>1</th>\n",
       "      <td>Aston Martin</td>\n",
       "      <td>DB11 Coupe</td>\n",
       "      <td>AMR V12</td>\n",
       "      <td>17800000</td>\n",
       "      <td>21000000</td>\n",
       "      <td>NaN</td>\n",
       "      <td>2016</td>\n",
       "      <td>True</td>\n",
       "      <td>0</td>\n",
       "      <td>Russia</td>\n",
       "      <td>NaN</td>\n",
       "      <td>задний</td>\n",
       "      <td>639</td>\n",
       "      <td>бензиновый</td>\n",
       "      <td>5204</td>\n",
       "      <td>автоматическая</td>\n",
       "      <td>8</td>\n",
       "      <td>Aston Martin DB11 Coupe AMR V12</td>\n",
       "    </tr>\n",
       "    <tr>\n",
       "      <th>2</th>\n",
       "      <td>Aston Martin</td>\n",
       "      <td>DB11 Volante</td>\n",
       "      <td>V8</td>\n",
       "      <td>18400000</td>\n",
       "      <td>18400000</td>\n",
       "      <td>18400000.0</td>\n",
       "      <td>2016</td>\n",
       "      <td>True</td>\n",
       "      <td>0</td>\n",
       "      <td>Russia</td>\n",
       "      <td>NaN</td>\n",
       "      <td>задний</td>\n",
       "      <td>510</td>\n",
       "      <td>бензиновый</td>\n",
       "      <td>3982</td>\n",
       "      <td>автоматическая</td>\n",
       "      <td>8</td>\n",
       "      <td>Aston Martin DB11 Volante V8</td>\n",
       "    </tr>\n",
       "    <tr>\n",
       "      <th>3</th>\n",
       "      <td>Aston Martin</td>\n",
       "      <td>DBX</td>\n",
       "      <td>V8</td>\n",
       "      <td>18245000</td>\n",
       "      <td>18245000</td>\n",
       "      <td>18245000.0</td>\n",
       "      <td>2019</td>\n",
       "      <td>True</td>\n",
       "      <td>0</td>\n",
       "      <td>Russia</td>\n",
       "      <td>NaN</td>\n",
       "      <td>полный</td>\n",
       "      <td>550</td>\n",
       "      <td>бензиновый</td>\n",
       "      <td>3982</td>\n",
       "      <td>автоматическая</td>\n",
       "      <td>9</td>\n",
       "      <td>Aston Martin DBX V8</td>\n",
       "    </tr>\n",
       "    <tr>\n",
       "      <th>4</th>\n",
       "      <td>Aston Martin</td>\n",
       "      <td>Vantage Coupe</td>\n",
       "      <td>V8</td>\n",
       "      <td>12900000</td>\n",
       "      <td>12900000</td>\n",
       "      <td>12900000.0</td>\n",
       "      <td>2017</td>\n",
       "      <td>True</td>\n",
       "      <td>0</td>\n",
       "      <td>Russia</td>\n",
       "      <td>NaN</td>\n",
       "      <td>задний</td>\n",
       "      <td>510</td>\n",
       "      <td>бензиновый</td>\n",
       "      <td>3982</td>\n",
       "      <td>автоматическая</td>\n",
       "      <td>8</td>\n",
       "      <td>Aston Martin Vantage Coupe V8</td>\n",
       "    </tr>\n",
       "  </tbody>\n",
       "</table>\n",
       "</div>"
      ],
      "text/plain": [
       "          brand          model    modif  price_from  price_to       price  \\\n",
       "0  Aston Martin     DB11 Coupe       V8    17800000  21000000         NaN   \n",
       "1  Aston Martin     DB11 Coupe  AMR V12    17800000  21000000         NaN   \n",
       "2  Aston Martin   DB11 Volante       V8    18400000  18400000  18400000.0   \n",
       "3  Aston Martin            DBX       V8    18245000  18245000  18245000.0   \n",
       "4  Aston Martin  Vantage Coupe       V8    12900000  12900000  12900000.0   \n",
       "\n",
       "   year   new  mileage  region  wheel actuator  horsepower      engine  \\\n",
       "0  2016  True        0  Russia    NaN   задний         510  бензиновый   \n",
       "1  2016  True        0  Russia    NaN   задний         639  бензиновый   \n",
       "2  2016  True        0  Russia    NaN   задний         510  бензиновый   \n",
       "3  2019  True        0  Russia    NaN   полный         550  бензиновый   \n",
       "4  2017  True        0  Russia    NaN   задний         510  бензиновый   \n",
       "\n",
       "   volume    transmission  speeds                           concat  \n",
       "0    3982  автоматическая       8       Aston Martin DB11 Coupe V8  \n",
       "1    5204  автоматическая       8  Aston Martin DB11 Coupe AMR V12  \n",
       "2    3982  автоматическая       8     Aston Martin DB11 Volante V8  \n",
       "3    3982  автоматическая       9              Aston Martin DBX V8  \n",
       "4    3982  автоматическая       8    Aston Martin Vantage Coupe V8  "
      ]
     },
     "execution_count": 79,
     "metadata": {},
     "output_type": "execute_result"
    }
   ],
   "source": [
    "data.head()"
   ]
  },
  {
   "cell_type": "code",
   "execution_count": 262,
   "id": "b5e1bbf9",
   "metadata": {
    "ExecuteTime": {
     "end_time": "2022-06-27T20:39:12.719719Z",
     "start_time": "2022-06-27T20:39:12.690720Z"
    }
   },
   "outputs": [
    {
     "name": "stdout",
     "output_type": "stream",
     "text": [
      "<class 'pandas.core.frame.DataFrame'>\n",
      "RangeIndex: 2091 entries, 0 to 2090\n",
      "Data columns (total 18 columns):\n",
      " #   Column        Non-Null Count  Dtype  \n",
      "---  ------        --------------  -----  \n",
      " 0   brand         2091 non-null   object \n",
      " 1   model         2091 non-null   object \n",
      " 2   modif         2091 non-null   object \n",
      " 3   price_from    2091 non-null   int64  \n",
      " 4   price_to      2091 non-null   int64  \n",
      " 5   price         69 non-null     float64\n",
      " 6   year          2091 non-null   int64  \n",
      " 7   new           2091 non-null   bool   \n",
      " 8   mileage       2091 non-null   int64  \n",
      " 9   region        2091 non-null   object \n",
      " 10  wheel         0 non-null      float64\n",
      " 11  actuator      2091 non-null   object \n",
      " 12  horsepower    2091 non-null   int64  \n",
      " 13  engine        2091 non-null   object \n",
      " 14  volume        2091 non-null   int64  \n",
      " 15  transmission  2091 non-null   object \n",
      " 16  speeds        2091 non-null   int64  \n",
      " 17  concat        2091 non-null   object \n",
      "dtypes: bool(1), float64(2), int64(7), object(8)\n",
      "memory usage: 279.9+ KB\n"
     ]
    }
   ],
   "source": [
    "data.info()"
   ]
  },
  {
   "cell_type": "code",
   "execution_count": 80,
   "id": "bffe1ace",
   "metadata": {
    "ExecuteTime": {
     "end_time": "2022-06-27T16:35:00.457094Z",
     "start_time": "2022-06-27T16:35:00.441280Z"
    }
   },
   "outputs": [],
   "source": [
    "A = np.zeros((data.shape[0], data.shape[0]))"
   ]
  },
  {
   "cell_type": "code",
   "execution_count": 81,
   "id": "c4f86c4f",
   "metadata": {
    "ExecuteTime": {
     "end_time": "2022-06-27T16:35:01.037918Z",
     "start_time": "2022-06-27T16:35:00.964722Z"
    }
   },
   "outputs": [],
   "source": [
    "for i, row in enumerate(data):\n",
    "    A[i][data[(data.brand == data.iloc[i].brand)|\\\n",
    "         (data.model == data.iloc[i].model)|\\\n",
    "         (data.year == data.iloc[i].year)|\\\n",
    "         (data.actuator == data.iloc[i].actuator)|\\\n",
    "         ((np.abs(data.horsepower - data.iloc[i].horsepower) < 10)&\\\n",
    "         (data.engine == data.iloc[i].engine)&\\\n",
    "         (np.abs(data.volume - data.iloc[i].volume) < 10))|\\\n",
    "         ((data.transmission == data.iloc[i].transmission)&\\\n",
    "         (data.speeds == data.iloc[i].speeds))].index] = 1"
   ]
  },
  {
   "cell_type": "code",
   "execution_count": 82,
   "id": "09db8958",
   "metadata": {
    "ExecuteTime": {
     "end_time": "2022-06-27T16:35:01.559502Z",
     "start_time": "2022-06-27T16:35:01.505475Z"
    }
   },
   "outputs": [],
   "source": [
    "np.fill_diagonal(A, 0)\n",
    "A = csr_matrix(A)"
   ]
  },
  {
   "cell_type": "markdown",
   "id": "497cb2ba",
   "metadata": {},
   "source": [
    "#### Predict price"
   ]
  },
  {
   "cell_type": "code",
   "execution_count": 83,
   "id": "a4d64205",
   "metadata": {
    "ExecuteTime": {
     "end_time": "2022-06-27T16:35:02.012944Z",
     "start_time": "2022-06-27T16:35:01.994945Z"
    }
   },
   "outputs": [],
   "source": [
    "X = data['price'].values\n",
    "S = data[~data.price.isna()].index.values"
   ]
  },
  {
   "cell_type": "code",
   "execution_count": 84,
   "id": "6a66465e",
   "metadata": {
    "ExecuteTime": {
     "end_time": "2022-06-27T16:35:02.605419Z",
     "start_time": "2022-06-27T16:35:02.592420Z"
    }
   },
   "outputs": [],
   "source": [
    "k = 10\n",
    "n = data.shape[0]\n",
    "d = 5\n",
    "# theta=0.04"
   ]
  },
  {
   "cell_type": "code",
   "execution_count": 107,
   "id": "6dfcaa21",
   "metadata": {
    "ExecuteTime": {
     "end_time": "2022-06-27T16:46:41.714484Z",
     "start_time": "2022-06-27T16:46:41.654424Z"
    }
   },
   "outputs": [],
   "source": [
    "nbr_pred = NBR(X, A, S)\n",
    "# svd_pred = SVD_RBF(X, A, S, theta*(np.log(n))**(3/d) / n**(1 / 2 / (d+1)), d)"
   ]
  },
  {
   "cell_type": "code",
   "execution_count": 97,
   "id": "4e68dedf",
   "metadata": {
    "ExecuteTime": {
     "end_time": "2022-06-27T16:36:45.695372Z",
     "start_time": "2022-06-27T16:36:45.226385Z"
    }
   },
   "outputs": [],
   "source": [
    "wppr_pred = W_PPR(X, A, S, k)\n"
   ]
  },
  {
   "cell_type": "code",
   "execution_count": 98,
   "id": "d0ed8000",
   "metadata": {
    "ExecuteTime": {
     "end_time": "2022-06-27T16:36:46.436884Z",
     "start_time": "2022-06-27T16:36:46.246856Z"
    }
   },
   "outputs": [],
   "source": [
    "jac_pred = Jaccard(X, A, S, k)\n"
   ]
  },
  {
   "cell_type": "code",
   "execution_count": 99,
   "id": "dc7e49fb",
   "metadata": {
    "ExecuteTime": {
     "end_time": "2022-06-27T16:36:47.049055Z",
     "start_time": "2022-06-27T16:36:46.966067Z"
    }
   },
   "outputs": [],
   "source": [
    "cn_pred = CN(X, A, S, k)"
   ]
  },
  {
   "cell_type": "code",
   "execution_count": 100,
   "id": "0f61fda2",
   "metadata": {
    "ExecuteTime": {
     "end_time": "2022-06-27T16:44:27.260935Z",
     "start_time": "2022-06-27T16:36:47.532639Z"
    }
   },
   "outputs": [
    {
     "data": {
      "application/vnd.jupyter.widget-view+json": {
       "model_id": "5367346894f242aca9ae1596d863babb",
       "version_major": 2,
       "version_minor": 0
      },
      "text/plain": [
       "  0%|          | 0/2022 [00:00<?, ?it/s]"
      ]
     },
     "metadata": {},
     "output_type": "display_data"
    }
   ],
   "source": [
    "cn_vec_pred = CN_VEC(X, A, S, k)"
   ]
  },
  {
   "cell_type": "code",
   "execution_count": 108,
   "id": "0f5ae65c",
   "metadata": {
    "ExecuteTime": {
     "end_time": "2022-06-27T16:46:43.503416Z",
     "start_time": "2022-06-27T16:46:43.493418Z"
    }
   },
   "outputs": [
    {
     "data": {
      "text/plain": [
       "0"
      ]
     },
     "execution_count": 108,
     "metadata": {},
     "output_type": "execute_result"
    }
   ],
   "source": [
    "data[(data.price.isna())&((data['price_from'] <= nbr_pred)&(nbr_pred<=data['price_to']))].shape[0]"
   ]
  },
  {
   "cell_type": "code",
   "execution_count": 102,
   "id": "e55d3aa2",
   "metadata": {
    "ExecuteTime": {
     "end_time": "2022-06-27T16:46:30.711487Z",
     "start_time": "2022-06-27T16:46:30.703538Z"
    }
   },
   "outputs": [
    {
     "data": {
      "text/plain": [
       "0"
      ]
     },
     "execution_count": 102,
     "metadata": {},
     "output_type": "execute_result"
    }
   ],
   "source": [
    "data[(data.price.isna())&((data['price_from'] <= wppr_pred)&(wppr_pred<=data['price_to']))].shape[0]"
   ]
  },
  {
   "cell_type": "code",
   "execution_count": 103,
   "id": "e0ab77a7",
   "metadata": {
    "ExecuteTime": {
     "end_time": "2022-06-27T16:46:31.274441Z",
     "start_time": "2022-06-27T16:46:31.256400Z"
    }
   },
   "outputs": [
    {
     "data": {
      "text/plain": [
       "201"
      ]
     },
     "execution_count": 103,
     "metadata": {},
     "output_type": "execute_result"
    }
   ],
   "source": [
    "data[(data.price.isna())&((data['price_from'] <= jac_pred)&(jac_pred<=data['price_to']))].shape[0]"
   ]
  },
  {
   "cell_type": "code",
   "execution_count": 104,
   "id": "335e4d82",
   "metadata": {
    "ExecuteTime": {
     "end_time": "2022-06-27T16:46:32.391523Z",
     "start_time": "2022-06-27T16:46:32.372525Z"
    }
   },
   "outputs": [
    {
     "data": {
      "text/plain": [
       "193"
      ]
     },
     "execution_count": 104,
     "metadata": {},
     "output_type": "execute_result"
    }
   ],
   "source": [
    "data[(data.price.isna())&((data['price_from'] <= cn_pred)&(cn_pred<=data['price_to']))].shape[0]"
   ]
  },
  {
   "cell_type": "code",
   "execution_count": 105,
   "id": "8ee0fae3",
   "metadata": {
    "ExecuteTime": {
     "end_time": "2022-06-27T16:46:33.270287Z",
     "start_time": "2022-06-27T16:46:33.249244Z"
    }
   },
   "outputs": [
    {
     "data": {
      "text/plain": [
       "193"
      ]
     },
     "execution_count": 105,
     "metadata": {},
     "output_type": "execute_result"
    }
   ],
   "source": [
    "data[(data.price.isna())&((data['price_from'] <= cn_vec_pred)&(cn_vec_pred<=data['price_to']))].shape[0]"
   ]
  },
  {
   "cell_type": "code",
   "execution_count": 135,
   "id": "9a61747f",
   "metadata": {
    "ExecuteTime": {
     "end_time": "2022-06-27T17:08:53.522517Z",
     "start_time": "2022-06-27T17:08:53.503514Z"
    }
   },
   "outputs": [],
   "source": [
    "grid = np.linspace(0.01, 1, 100)[5:]\n",
    "d = np.arange(2, 9)"
   ]
  },
  {
   "cell_type": "code",
   "execution_count": 136,
   "id": "3d3db38a",
   "metadata": {
    "ExecuteTime": {
     "end_time": "2022-06-27T17:08:53.994385Z",
     "start_time": "2022-06-27T17:08:53.986385Z"
    }
   },
   "outputs": [],
   "source": [
    "grid = list(zip(np.meshgrid(grid, d)[0].flatten(), np.meshgrid(grid, d)[1].flatten()))"
   ]
  },
  {
   "cell_type": "code",
   "execution_count": 139,
   "id": "573d6227",
   "metadata": {
    "ExecuteTime": {
     "end_time": "2022-06-27T17:12:39.959398Z",
     "start_time": "2022-06-27T17:11:28.866502Z"
    }
   },
   "outputs": [],
   "source": [
    "correct = []\n",
    "for theta, d in grid:\n",
    "    answer = SVD_RBF(X, A, S, theta*(np.log(n))**(3/d) / n**(1 / 2 / (d+1)), d)\n",
    "    corr = data[(data.price.isna())&((data['price_from'] <= answer)&(answer<=data['price_to']))].shape[0]\n",
    "    correct.append(corr)"
   ]
  },
  {
   "cell_type": "code",
   "execution_count": 143,
   "id": "1310fba6",
   "metadata": {
    "ExecuteTime": {
     "end_time": "2022-06-27T17:14:13.633826Z",
     "start_time": "2022-06-27T17:14:13.620825Z"
    }
   },
   "outputs": [
    {
     "data": {
      "text/plain": [
       "array([105, 106, 107])"
      ]
     },
     "execution_count": 143,
     "metadata": {},
     "output_type": "execute_result"
    }
   ],
   "source": [
    "np.unique(correct)"
   ]
  },
  {
   "cell_type": "code",
   "execution_count": 199,
   "id": "0e50341c",
   "metadata": {
    "ExecuteTime": {
     "end_time": "2022-06-27T17:32:08.580830Z",
     "start_time": "2022-06-27T17:32:08.477831Z"
    }
   },
   "outputs": [
    {
     "data": {
      "image/png": "[encoded data removed]",
      "text/plain": [
       "<Figure size 576x360 with 1 Axes>"
      ]
     },
     "metadata": {
      "needs_background": "light"
     },
     "output_type": "display_data"
    }
   ],
   "source": [
    "methods = ['NBR', 'W-PPR', 'Jaccard', 'CN', 'CN-VEC', 'SVD-RBF']\n",
    "plt.figure(figsize=(8,5))\n",
    "# plt.title('LSM', fontsize=24)\n",
    "plt.ylabel('# correct answers', fontsize=24)\n",
    "plt.yticks(fontsize=16)\n",
    "plt.xticks(fontsize=16)\n",
    "plt.scatter(methods, [0, 0, 201, 193, 193, 107], c=plt.cm.RdPu(np.arange(1, 7)*0.1+0.2));"
   ]
  },
  {
   "cell_type": "markdown",
   "id": "e192d255",
   "metadata": {},
   "source": [
    "#### Predict price from"
   ]
  },
  {
   "cell_type": "code",
   "execution_count": 208,
   "id": "c10db292",
   "metadata": {
    "ExecuteTime": {
     "end_time": "2022-06-27T17:38:33.894096Z",
     "start_time": "2022-06-27T17:38:33.886097Z"
    }
   },
   "outputs": [],
   "source": [
    "X = data['price_from'].values"
   ]
  },
  {
   "cell_type": "code",
   "execution_count": 231,
   "id": "35c738ac",
   "metadata": {
    "ExecuteTime": {
     "end_time": "2022-06-27T19:28:44.410314Z",
     "start_time": "2022-06-27T19:28:44.401318Z"
    }
   },
   "outputs": [],
   "source": [
    "k = 10\n",
    "n = data.shape[0]\n",
    "d = 3\n",
    "shares = np.array([0.5, 0.6, 0.7, 0.8, 0.9])"
   ]
  },
  {
   "cell_type": "code",
   "execution_count": 247,
   "id": "e7864ac1",
   "metadata": {
    "ExecuteTime": {
     "end_time": "2022-06-27T20:33:20.898107Z",
     "start_time": "2022-06-27T20:07:59.567073Z"
    }
   },
   "outputs": [
    {
     "name": "stderr",
     "output_type": "stream",
     "text": [
      "C:\\Users\\Liza\\anaconda3\\lib\\site-packages\\scipy\\sparse\\base.py:595: RuntimeWarning: invalid value encountered in true_divide\n",
      "  return np.true_divide(self.todense(), other)\n"
     ]
    },
    {
     "data": {
      "application/vnd.jupyter.widget-view+json": {
       "model_id": "cb564bd45a614db48be718d18cbdf64e",
       "version_major": 2,
       "version_minor": 0
      },
      "text/plain": [
       "  0%|          | 0/1046 [00:00<?, ?it/s]"
      ]
     },
     "metadata": {},
     "output_type": "display_data"
    },
    {
     "name": "stdout",
     "output_type": "stream",
     "text": [
      "0.5 done\n"
     ]
    },
    {
     "name": "stderr",
     "output_type": "stream",
     "text": [
      "C:\\Users\\Liza\\anaconda3\\lib\\site-packages\\scipy\\sparse\\base.py:595: RuntimeWarning: invalid value encountered in true_divide\n",
      "  return np.true_divide(self.todense(), other)\n"
     ]
    },
    {
     "data": {
      "application/vnd.jupyter.widget-view+json": {
       "model_id": "16878a6da2e5494ba164265c6475616e",
       "version_major": 2,
       "version_minor": 0
      },
      "text/plain": [
       "  0%|          | 0/1255 [00:00<?, ?it/s]"
      ]
     },
     "metadata": {},
     "output_type": "display_data"
    },
    {
     "name": "stdout",
     "output_type": "stream",
     "text": [
      "0.6 done\n"
     ]
    },
    {
     "name": "stderr",
     "output_type": "stream",
     "text": [
      "C:\\Users\\Liza\\anaconda3\\lib\\site-packages\\scipy\\sparse\\base.py:595: RuntimeWarning: invalid value encountered in true_divide\n",
      "  return np.true_divide(self.todense(), other)\n"
     ]
    },
    {
     "data": {
      "application/vnd.jupyter.widget-view+json": {
       "model_id": "8554daefa8a447f4b77d3d97e740736a",
       "version_major": 2,
       "version_minor": 0
      },
      "text/plain": [
       "  0%|          | 0/1464 [00:00<?, ?it/s]"
      ]
     },
     "metadata": {},
     "output_type": "display_data"
    },
    {
     "name": "stdout",
     "output_type": "stream",
     "text": [
      "0.7 done\n"
     ]
    },
    {
     "name": "stderr",
     "output_type": "stream",
     "text": [
      "C:\\Users\\Liza\\anaconda3\\lib\\site-packages\\scipy\\sparse\\base.py:595: RuntimeWarning: invalid value encountered in true_divide\n",
      "  return np.true_divide(self.todense(), other)\n"
     ]
    },
    {
     "data": {
      "application/vnd.jupyter.widget-view+json": {
       "model_id": "829565fcca3e40308f187bf2c2b98b05",
       "version_major": 2,
       "version_minor": 0
      },
      "text/plain": [
       "  0%|          | 0/1673 [00:00<?, ?it/s]"
      ]
     },
     "metadata": {},
     "output_type": "display_data"
    },
    {
     "name": "stdout",
     "output_type": "stream",
     "text": [
      "0.8 done\n"
     ]
    },
    {
     "name": "stderr",
     "output_type": "stream",
     "text": [
      "C:\\Users\\Liza\\anaconda3\\lib\\site-packages\\scipy\\sparse\\base.py:595: RuntimeWarning: invalid value encountered in true_divide\n",
      "  return np.true_divide(self.todense(), other)\n"
     ]
    },
    {
     "data": {
      "application/vnd.jupyter.widget-view+json": {
       "model_id": "cea3d201eb4b4fe8b3fe9f2a7d6cd8d6",
       "version_major": 2,
       "version_minor": 0
      },
      "text/plain": [
       "  0%|          | 0/1882 [00:00<?, ?it/s]"
      ]
     },
     "metadata": {},
     "output_type": "display_data"
    },
    {
     "name": "stdout",
     "output_type": "stream",
     "text": [
      "0.9 done\n"
     ]
    }
   ],
   "source": [
    "RMSE_NBRs = []\n",
    "RMSE_W_PPRs = []\n",
    "RMSE_Jaccards = []\n",
    "RMSE_CNs = []\n",
    "RMSE_SVD_RBFs = []\n",
    "RMSE_CN_VECs = []\n",
    "for share in shares:\n",
    "    S = np.random.choice(np.arange(n), size=int(n*(1-share)), replace=False)\n",
    "    RMSE_NBR = mean_squared_error(X, np.clip(NBR(X, A, S), 0, None), squared=False)\n",
    "    RMSE_NBRs.append(RMSE_NBR)\n",
    "#     print('NBR done')\n",
    "    RMSE_W_PPR = mean_squared_error(X, np.clip(W_PPR(X, A, S, k), 0, None), squared=False)\n",
    "    RMSE_W_PPRs.append(RMSE_W_PPR)\n",
    "#     print('W_PPR done')\n",
    "    RMSE_Jaccard = mean_squared_error(X, np.clip(Jaccard(X, A, S, k), 0, None), squared=False)\n",
    "    RMSE_Jaccards.append(RMSE_Jaccard)\n",
    "#     print('Jaccard done')\n",
    "    RMSE_CN = mean_squared_error(X, np.clip(CN(X, A, S, k), 0, None), squared=False)\n",
    "    RMSE_CNs.append(RMSE_CN)\n",
    "#     print('CN done')\n",
    "    RMSE_SVD_RBF = mean_squared_error(X, np.clip(SVD_RBF(X, A, S, 0.34*(np.log(n))**(3/d) / n**(1 / 2 / (d+1)), d), 0, None), squared=False)\n",
    "    RMSE_SVD_RBFs.append(RMSE_SVD_RBF)\n",
    "#     print('SVD RBF done')\n",
    "    RMSE_CN_VEC = mean_squared_error(X, np.clip(CN_VEC(X, A, S, k), 0, None), squared=False)\n",
    "    RMSE_CN_VECs.append(RMSE_CN_VEC)\n",
    "# #     print('CN VEC done')\n",
    "    print(share, 'done')"
   ]
  },
  {
   "cell_type": "code",
   "execution_count": 257,
   "id": "35c02921",
   "metadata": {
    "ExecuteTime": {
     "end_time": "2022-06-27T20:38:02.409508Z",
     "start_time": "2022-06-27T20:37:59.675508Z"
    }
   },
   "outputs": [],
   "source": [
    "RMSE_W_PPRs = []\n",
    "for share in shares:\n",
    "    S = np.random.choice(np.arange(n), size=int(n*(1-share)), replace=False)\n",
    "    RMSE_W_PPR = mean_squared_error(X, np.clip(W_PPR(X, A, S, k), 0, None), squared=False)\n",
    "    RMSE_W_PPRs.append(RMSE_W_PPR)"
   ]
  },
  {
   "cell_type": "code",
   "execution_count": 258,
   "id": "59e2b6f6",
   "metadata": {
    "ExecuteTime": {
     "end_time": "2022-06-27T20:38:04.608846Z",
     "start_time": "2022-06-27T20:38:04.449846Z"
    }
   },
   "outputs": [
    {
     "data": {
      "image/png": "[encoded data removed]",
      "text/plain": [
       "<Figure size 1152x360 with 1 Axes>"
      ]
     },
     "metadata": {
      "needs_background": "light"
     },
     "output_type": "display_data"
    }
   ],
   "source": [
    "plt.figure(figsize=(16,5))\n",
    "# plt.title('LSM', fontsize=24)\n",
    "plt.xlabel('Fraction of Unknown Covariates', fontsize=24)\n",
    "plt.ylabel('RMSE', fontsize=24)\n",
    "plt.yticks(fontsize=16)\n",
    "plt.xticks(fontsize=16)\n",
    "width = 0.01\n",
    "plt.bar(x=shares-3*width, height=RMSE_CN_VECs, width=width, label='CN-VEC', color='crimson')\n",
    "plt.bar(x=shares-2*width, height=RMSE_SVD_RBFs, width=width, label='SVD-RBF', color='deeppink')\n",
    "plt.bar(x=shares-width, height=RMSE_NBRs, width=width, label='NBR', color='fuchsia')\n",
    "plt.bar(x=shares, height=RMSE_W_PPRs, width=width, label='W-PPR', color='violet')\n",
    "plt.bar(x=shares+width, height=RMSE_Jaccards, width=width, label='Jaccard', color='darkviolet')\n",
    "plt.bar(x=shares+2*width, height=RMSE_CNs, width=width, label='CN', color='rebeccapurple');\n",
    "plt.legend(fontsize=12);"
   ]
  },
  {
   "cell_type": "code",
   "execution_count": 213,
   "id": "b73088d1",
   "metadata": {
    "ExecuteTime": {
     "end_time": "2022-06-27T17:39:27.355408Z",
     "start_time": "2022-06-27T17:39:27.283409Z"
    }
   },
   "outputs": [],
   "source": [
    "nbr_pred = NBR(X, A, S)\n",
    "# svd_pred = SVD_RBF(X, A, S, theta*(np.log(n))**(3/d) / n**(1 / 2 / (d+1)), d)"
   ]
  },
  {
   "cell_type": "code",
   "execution_count": 97,
   "id": "dbdf4ef3",
   "metadata": {
    "ExecuteTime": {
     "end_time": "2022-06-27T16:36:45.695372Z",
     "start_time": "2022-06-27T16:36:45.226385Z"
    }
   },
   "outputs": [],
   "source": [
    "wppr_pred = W_PPR(X, A, S, k)\n"
   ]
  },
  {
   "cell_type": "code",
   "execution_count": 98,
   "id": "8a0c8eab",
   "metadata": {
    "ExecuteTime": {
     "end_time": "2022-06-27T16:36:46.436884Z",
     "start_time": "2022-06-27T16:36:46.246856Z"
    }
   },
   "outputs": [],
   "source": [
    "jac_pred = Jaccard(X, A, S, k)\n"
   ]
  },
  {
   "cell_type": "code",
   "execution_count": 99,
   "id": "f902d2b3",
   "metadata": {
    "ExecuteTime": {
     "end_time": "2022-06-27T16:36:47.049055Z",
     "start_time": "2022-06-27T16:36:46.966067Z"
    }
   },
   "outputs": [],
   "source": [
    "cn_pred = CN(X, A, S, k)"
   ]
  },
  {
   "cell_type": "code",
   "execution_count": 100,
   "id": "59c88f59",
   "metadata": {
    "ExecuteTime": {
     "end_time": "2022-06-27T16:44:27.260935Z",
     "start_time": "2022-06-27T16:36:47.532639Z"
    }
   },
   "outputs": [
    {
     "data": {
      "application/vnd.jupyter.widget-view+json": {
       "model_id": "5367346894f242aca9ae1596d863babb",
       "version_major": 2,
       "version_minor": 0
      },
      "text/plain": [
       "  0%|          | 0/2022 [00:00<?, ?it/s]"
      ]
     },
     "metadata": {},
     "output_type": "display_data"
    }
   ],
   "source": [
    "cn_vec_pred = CN_VEC(X, A, S, k)"
   ]
  },
  {
   "cell_type": "code",
   "execution_count": 108,
   "id": "05b5ac51",
   "metadata": {
    "ExecuteTime": {
     "end_time": "2022-06-27T16:46:43.503416Z",
     "start_time": "2022-06-27T16:46:43.493418Z"
    }
   },
   "outputs": [
    {
     "data": {
      "text/plain": [
       "0"
      ]
     },
     "execution_count": 108,
     "metadata": {},
     "output_type": "execute_result"
    }
   ],
   "source": [
    "data[(data.price.isna())&((data['price_from'] <= nbr_pred)&(nbr_pred<=data['price_to']))].shape[0]"
   ]
  },
  {
   "cell_type": "code",
   "execution_count": 102,
   "id": "2c8520d0",
   "metadata": {
    "ExecuteTime": {
     "end_time": "2022-06-27T16:46:30.711487Z",
     "start_time": "2022-06-27T16:46:30.703538Z"
    }
   },
   "outputs": [
    {
     "data": {
      "text/plain": [
       "0"
      ]
     },
     "execution_count": 102,
     "metadata": {},
     "output_type": "execute_result"
    }
   ],
   "source": [
    "data[(data.price.isna())&((data['price_from'] <= wppr_pred)&(wppr_pred<=data['price_to']))].shape[0]"
   ]
  },
  {
   "cell_type": "code",
   "execution_count": 103,
   "id": "5baa7591",
   "metadata": {
    "ExecuteTime": {
     "end_time": "2022-06-27T16:46:31.274441Z",
     "start_time": "2022-06-27T16:46:31.256400Z"
    }
   },
   "outputs": [
    {
     "data": {
      "text/plain": [
       "201"
      ]
     },
     "execution_count": 103,
     "metadata": {},
     "output_type": "execute_result"
    }
   ],
   "source": [
    "data[(data.price.isna())&((data['price_from'] <= jac_pred)&(jac_pred<=data['price_to']))].shape[0]"
   ]
  },
  {
   "cell_type": "code",
   "execution_count": 104,
   "id": "318fa8d5",
   "metadata": {
    "ExecuteTime": {
     "end_time": "2022-06-27T16:46:32.391523Z",
     "start_time": "2022-06-27T16:46:32.372525Z"
    }
   },
   "outputs": [
    {
     "data": {
      "text/plain": [
       "193"
      ]
     },
     "execution_count": 104,
     "metadata": {},
     "output_type": "execute_result"
    }
   ],
   "source": [
    "data[(data.price.isna())&((data['price_from'] <= cn_pred)&(cn_pred<=data['price_to']))].shape[0]"
   ]
  },
  {
   "cell_type": "code",
   "execution_count": 105,
   "id": "5b919ff1",
   "metadata": {
    "ExecuteTime": {
     "end_time": "2022-06-27T16:46:33.270287Z",
     "start_time": "2022-06-27T16:46:33.249244Z"
    }
   },
   "outputs": [
    {
     "data": {
      "text/plain": [
       "193"
      ]
     },
     "execution_count": 105,
     "metadata": {},
     "output_type": "execute_result"
    }
   ],
   "source": [
    "data[(data.price.isna())&((data['price_from'] <= cn_vec_pred)&(cn_vec_pred<=data['price_to']))].shape[0]"
   ]
  },
  {
   "cell_type": "code",
   "execution_count": 215,
   "id": "d6e137ed",
   "metadata": {
    "ExecuteTime": {
     "end_time": "2022-06-27T17:39:44.350280Z",
     "start_time": "2022-06-27T17:39:44.345285Z"
    }
   },
   "outputs": [],
   "source": [
    "grid = np.linspace(0.01, 1, 100)[5:]\n",
    "d = np.arange(2, 9)"
   ]
  },
  {
   "cell_type": "code",
   "execution_count": 216,
   "id": "3be9e0a7",
   "metadata": {
    "ExecuteTime": {
     "end_time": "2022-06-27T17:39:45.286436Z",
     "start_time": "2022-06-27T17:39:45.279440Z"
    }
   },
   "outputs": [],
   "source": [
    "grid = list(zip(np.meshgrid(grid, d)[0].flatten(), np.meshgrid(grid, d)[1].flatten()))"
   ]
  },
  {
   "cell_type": "code",
   "execution_count": 224,
   "id": "ab3c0352",
   "metadata": {
    "ExecuteTime": {
     "end_time": "2022-06-27T19:26:56.341136Z",
     "start_time": "2022-06-27T19:19:40.027941Z"
    }
   },
   "outputs": [],
   "source": [
    "RMSE_SVD_RBFs = np.zeros((len(grid), 5))\n",
    "for i, params in enumerate(grid):\n",
    "    theta, d = params\n",
    "    rmse = []\n",
    "    for share in shares:\n",
    "        S = np.random.choice(np.arange(n), size=int(n*(1-share)), replace=False)\n",
    "        try:\n",
    "            RMSE_SVD_RBF = mean_squared_error(X, SVD_RBF(X, A, S, theta*(np.log(n))**(3/d) / n**(1 / 2 / (d+1)), d), squared=False)\n",
    "        except:\n",
    "            RMSE_SVD_RBF = mean_squared_error(X, SVD_RBF(X, A, S, theta*(np.log(n))**(3/d) / n**(1 / 2 / (d+1)), d), squared=False)\n",
    "        rmse.append(RMSE_SVD_RBF)\n",
    "    RMSE_SVD_RBFs[i] = rmse"
   ]
  },
  {
   "cell_type": "code",
   "execution_count": 230,
   "id": "8bd6d877",
   "metadata": {
    "ExecuteTime": {
     "end_time": "2022-06-27T19:28:19.544929Z",
     "start_time": "2022-06-27T19:28:19.537930Z"
    }
   },
   "outputs": [
    {
     "data": {
      "text/plain": [
       "array([0.34, 3.  ])"
      ]
     },
     "execution_count": 230,
     "metadata": {},
     "output_type": "execute_result"
    }
   ],
   "source": [
    "np.array(grid)[np.argmin(RMSE_SVD_RBFs.mean(1))]"
   ]
  },
  {
   "cell_type": "markdown",
   "id": "0f8a534c",
   "metadata": {},
   "source": [
    "## Experiments"
   ]
  },
  {
   "cell_type": "code",
   "execution_count": 43,
   "id": "9a707360",
   "metadata": {
    "ExecuteTime": {
     "end_time": "2022-06-27T08:55:40.927260Z",
     "start_time": "2022-06-27T08:55:40.911262Z"
    }
   },
   "outputs": [],
   "source": [
    "n = 2500\n",
    "d = 5"
   ]
  },
  {
   "cell_type": "markdown",
   "id": "064212dd",
   "metadata": {},
   "source": [
    "### Latent Space Model (LSM)"
   ]
  },
  {
   "cell_type": "code",
   "execution_count": 91,
   "id": "73af5648",
   "metadata": {
    "ExecuteTime": {
     "end_time": "2022-06-26T18:48:32.572247Z",
     "start_time": "2022-06-26T18:48:32.554243Z"
    }
   },
   "outputs": [],
   "source": [
    "Z = np.random.uniform(0, 1, size=(n, d))"
   ]
  },
  {
   "cell_type": "code",
   "execution_count": 92,
   "id": "87f35ed3",
   "metadata": {
    "ExecuteTime": {
     "end_time": "2022-06-26T18:48:33.216280Z",
     "start_time": "2022-06-26T18:48:32.992243Z"
    }
   },
   "outputs": [],
   "source": [
    "rho = 1\n",
    "P = np.zeros((n,n))\n",
    "for i in range(n):\n",
    "    P[i] = rho / (1 + np.exp(2.5 * np.sqrt(np.sum((Z - Z[i])**2, axis=1))))"
   ]
  },
  {
   "cell_type": "code",
   "execution_count": 93,
   "id": "9d8ecb4f",
   "metadata": {
    "ExecuteTime": {
     "end_time": "2022-06-26T18:48:34.008107Z",
     "start_time": "2022-06-26T18:48:33.543242Z"
    }
   },
   "outputs": [
    {
     "name": "stderr",
     "output_type": "stream",
     "text": [
      "C:\\Users\\Liza\\anaconda3\\lib\\site-packages\\scipy\\sparse\\_index.py:125: SparseEfficiencyWarning: Changing the sparsity structure of a csr_matrix is expensive. lil_matrix is more efficient.\n",
      "  self._set_arrayXarray(i, j, x)\n"
     ]
    }
   ],
   "source": [
    "A = csr_matrix(np.random.binomial(1, P, (n,n)).astype(float))\n",
    "A.setdiag(0)\n",
    "A.eliminate_zeros()"
   ]
  },
  {
   "cell_type": "code",
   "execution_count": 94,
   "id": "22be76cd",
   "metadata": {
    "ExecuteTime": {
     "end_time": "2022-06-26T18:48:34.840512Z",
     "start_time": "2022-06-26T18:48:34.815136Z"
    }
   },
   "outputs": [],
   "source": [
    "beta = np.random.normal(0, 1, (d,1))\n",
    "beta = beta / np.linalg.norm(beta)\n",
    "X = (Z @ beta).flatten() + np.random.normal(0, .1, (n,))"
   ]
  },
  {
   "cell_type": "markdown",
   "id": "2579053e",
   "metadata": {},
   "source": [
    "#### Available algorithms"
   ]
  },
  {
   "cell_type": "code",
   "execution_count": 44,
   "id": "6a2ae6d3",
   "metadata": {
    "ExecuteTime": {
     "end_time": "2022-06-27T08:55:42.744411Z",
     "start_time": "2022-06-27T08:55:42.732407Z"
    }
   },
   "outputs": [],
   "source": [
    "k=10\n",
    "shares = np.array([0.5, 0.6, 0.7, 0.8, 0.9])"
   ]
  },
  {
   "cell_type": "code",
   "execution_count": 96,
   "id": "ab3f6ec3",
   "metadata": {
    "ExecuteTime": {
     "end_time": "2022-06-26T19:38:21.123294Z",
     "start_time": "2022-06-26T18:48:37.218579Z"
    }
   },
   "outputs": [
    {
     "data": {
      "application/vnd.jupyter.widget-view+json": {
       "model_id": "de9f705e779841e09c6dfc69220fff26",
       "version_major": 2,
       "version_minor": 0
      },
      "text/plain": [
       "  0%|          | 0/1250 [00:00<?, ?it/s]"
      ]
     },
     "metadata": {},
     "output_type": "display_data"
    },
    {
     "name": "stdout",
     "output_type": "stream",
     "text": [
      "0.5 done\n"
     ]
    },
    {
     "data": {
      "application/vnd.jupyter.widget-view+json": {
       "model_id": "4a16eccc2c08443cacbd24e2e65a53f2",
       "version_major": 2,
       "version_minor": 0
      },
      "text/plain": [
       "  0%|          | 0/1500 [00:00<?, ?it/s]"
      ]
     },
     "metadata": {},
     "output_type": "display_data"
    },
    {
     "name": "stdout",
     "output_type": "stream",
     "text": [
      "0.6 done\n"
     ]
    },
    {
     "data": {
      "application/vnd.jupyter.widget-view+json": {
       "model_id": "bde43c4fa9e14afbbeedd4cc5ab96be7",
       "version_major": 2,
       "version_minor": 0
      },
      "text/plain": [
       "  0%|          | 0/1750 [00:00<?, ?it/s]"
      ]
     },
     "metadata": {},
     "output_type": "display_data"
    },
    {
     "name": "stdout",
     "output_type": "stream",
     "text": [
      "0.7 done\n"
     ]
    },
    {
     "data": {
      "application/vnd.jupyter.widget-view+json": {
       "model_id": "80b3a013bae9425f8e07f967d18c8bfb",
       "version_major": 2,
       "version_minor": 0
      },
      "text/plain": [
       "  0%|          | 0/2001 [00:00<?, ?it/s]"
      ]
     },
     "metadata": {},
     "output_type": "display_data"
    },
    {
     "name": "stdout",
     "output_type": "stream",
     "text": [
      "0.8 done\n"
     ]
    },
    {
     "data": {
      "application/vnd.jupyter.widget-view+json": {
       "model_id": "5fcc612256f2463b9649a3b7af93c9a2",
       "version_major": 2,
       "version_minor": 0
      },
      "text/plain": [
       "  0%|          | 0/2251 [00:00<?, ?it/s]"
      ]
     },
     "metadata": {},
     "output_type": "display_data"
    },
    {
     "name": "stdout",
     "output_type": "stream",
     "text": [
      "0.9 done\n"
     ]
    }
   ],
   "source": [
    "RMSE_NBRs = []\n",
    "RMSE_W_PPRs = []\n",
    "RMSE_Jaccards = []\n",
    "RMSE_CNs = []\n",
    "RMSE_SVD_RBFs = []\n",
    "RMSE_CN_VECs = []\n",
    "for share in shares:\n",
    "    S = np.random.choice(np.arange(n), size=int(n*(1-share)), replace=False)\n",
    "    RMSE_NBR = mean_squared_error(X, NBR(X, A, S), squared=False)\n",
    "    RMSE_NBRs.append(RMSE_NBR)\n",
    "#     print('NBR done')\n",
    "    RMSE_W_PPR = mean_squared_error(X, W_PPR(X, A, S, k), squared=False)\n",
    "    RMSE_W_PPRs.append(RMSE_W_PPR)\n",
    "#     print('W_PPR done')\n",
    "    RMSE_Jaccard = mean_squared_error(X, Jaccard(X, A, S, k), squared=False)\n",
    "    RMSE_Jaccards.append(RMSE_Jaccard)\n",
    "#     print('Jaccard done')\n",
    "    RMSE_CN = mean_squared_error(X, CN(X, A, S, k), squared=False)\n",
    "    RMSE_CNs.append(RMSE_CN)\n",
    "#     print('CN done')\n",
    "    RMSE_SVD_RBF = mean_squared_error(X, SVD_RBF(X, A, S, 0.04*(np.log(n))**(3/d) / n**(1 / 2 / (d+1)), d), squared=False)\n",
    "    RMSE_SVD_RBFs.append(RMSE_SVD_RBF)\n",
    "#     print('SVD RBF done')\n",
    "    RMSE_CN_VEC = mean_squared_error(X, CN_VEC(X, A, S, k), squared=False)\n",
    "    RMSE_CN_VECs.append(RMSE_CN_VEC)\n",
    "# #     print('CN VEC done')\n",
    "    print(share, 'done')"
   ]
  },
  {
   "cell_type": "code",
   "execution_count": 115,
   "id": "185f56fa",
   "metadata": {
    "ExecuteTime": {
     "end_time": "2022-06-26T19:44:48.860361Z",
     "start_time": "2022-06-26T19:44:47.632369Z"
    }
   },
   "outputs": [],
   "source": [
    "RMSE_SVD_RBFs = []\n",
    "for share in shares:\n",
    "    S = np.random.choice(np.arange(n), size=int(n*(1-share)), replace=False)\n",
    "    RMSE_SVD_RBF = mean_squared_error(X, SVD_RBF(X, A, S, 0.04*(np.log(n))**(3/d) / n**(1 / 2 / (d+1)), d), squared=False)\n",
    "    RMSE_SVD_RBFs.append(RMSE_SVD_RBF)"
   ]
  },
  {
   "cell_type": "code",
   "execution_count": 116,
   "id": "8bd8b6c9",
   "metadata": {
    "ExecuteTime": {
     "end_time": "2022-06-26T19:44:49.533278Z",
     "start_time": "2022-06-26T19:44:49.395156Z"
    }
   },
   "outputs": [
    {
     "data": {
      "image/png": "[encoded data removed]",
      "text/plain": [
       "<Figure size 576x360 with 1 Axes>"
      ]
     },
     "metadata": {
      "needs_background": "light"
     },
     "output_type": "display_data"
    }
   ],
   "source": [
    "plt.figure(figsize=(8,5))\n",
    "# plt.title('LSM', fontsize=24)\n",
    "plt.xlabel('Fraction of Unknown Covariates', fontsize=24)\n",
    "plt.ylabel('RMSE', fontsize=24)\n",
    "plt.yticks(fontsize=16)\n",
    "plt.xticks(fontsize=16)\n",
    "plt.ylim(0, 0.63)\n",
    "width = 0.01\n",
    "plt.bar(x=shares-3*width, height=RMSE_CN_VECs, width=width, label='CN-VEC', color='crimson')\n",
    "plt.bar(x=shares-2*width, height=RMSE_SVD_RBFs, width=width, label='SVD-RBF', color='deeppink')\n",
    "plt.bar(x=shares-width, height=RMSE_NBRs, width=width, label='NBR', color='fuchsia')\n",
    "plt.bar(x=shares, height=RMSE_W_PPRs, width=width, label='W-PPR', color='violet')\n",
    "plt.bar(x=shares+width, height=RMSE_Jaccards, width=width, label='Jaccard', color='darkviolet')\n",
    "plt.bar(x=shares+2*width, height=RMSE_CNs, width=width, label='CN', color='rebeccapurple');\n",
    "plt.legend(fontsize=12);"
   ]
  },
  {
   "cell_type": "code",
   "execution_count": 44,
   "id": "5aeda48d",
   "metadata": {
    "ExecuteTime": {
     "end_time": "2022-04-18T10:27:49.805748Z",
     "start_time": "2022-04-18T10:27:49.606773Z"
    }
   },
   "outputs": [
    {
     "data": {
      "image/png": "[encoded data removed]",
      "text/plain": [
       "<Figure size 576x360 with 1 Axes>"
      ]
     },
     "metadata": {
      "needs_background": "light"
     },
     "output_type": "display_data"
    }
   ],
   "source": [
    "plt.figure(figsize=(8,5))\n",
    "# plt.title('LSM')\n",
    "plt.xlabel('Fraction of Unknown Covariates', fontsize=28)\n",
    "# plt.ylabel('RMSE', fontsize=24)\n",
    "plt.yticks(fontsize=16)\n",
    "plt.xticks(fontsize=16)\n",
    "plt.ylim(0, 0.63)\n",
    "width = 0.01\n",
    "plt.bar(x=shares-3*width, height=np.array(RMSE_CN_VECs).reshape(5,-1).mean(axis=0), width=width, label='CN-VEC', color='r')\n",
    "plt.bar(x=shares-2*width, height=np.array(RMSE_SVD_RBFs).reshape(5,-1).mean(axis=1), width=width, label='SVD-RBF', color='b', hatch='\\\\\\\\')\n",
    "plt.bar(x=shares-width, height=np.array(RMSE_NBRs).reshape(5,-1).mean(axis=1), width=width, label='NBR', color='goldenrod', hatch='..')\n",
    "plt.bar(x=shares, height=np.array(RMSE_W_PPRs).reshape(5,-1).mean(axis=1), width=width, label='W-PPR', color='mediumturquoise', hatch='--')\n",
    "plt.bar(x=shares+width, height=np.array(RMSE_Jaccards).reshape(5,-1).mean(axis=1), width=width, label='Jaccard', color='burlywood', hatch='oo')\n",
    "plt.bar(x=shares+2*width, height=np.array(RMSE_CNs).reshape(5,-1).mean(axis=1), width=width, label='CN', color='gray', hatch='//');\n",
    "# plt.legend();"
   ]
  },
  {
   "cell_type": "markdown",
   "id": "3cf11803",
   "metadata": {},
   "source": [
    "### Stochastic Blockmodel (SBM)"
   ]
  },
  {
   "cell_type": "code",
   "execution_count": 9,
   "id": "2f5d2595",
   "metadata": {
    "ExecuteTime": {
     "end_time": "2022-06-26T20:02:03.229803Z",
     "start_time": "2022-06-26T20:02:03.217778Z"
    }
   },
   "outputs": [],
   "source": [
    "Z0 = np.array([np.eye(d)[0]] * (n // 5))\n",
    "Z1 = np.array([np.eye(d)[1]] * (n // 5))\n",
    "Z2 = np.array([np.eye(d)[2]] * (n // 5))\n",
    "Z3 = np.array([np.eye(d)[3]] * (n // 5))\n",
    "Z4 = np.array([np.eye(d)[4]] * (n // 5))\n",
    "Z = np.concatenate([Z0, Z1, Z2, Z3, Z4])"
   ]
  },
  {
   "cell_type": "code",
   "execution_count": 10,
   "id": "4557b1ef",
   "metadata": {
    "ExecuteTime": {
     "end_time": "2022-06-26T20:02:03.915185Z",
     "start_time": "2022-06-26T20:02:03.895654Z"
    }
   },
   "outputs": [],
   "source": [
    "theta = np.random.uniform(0, 1, (d,d))\n",
    "theta = (theta + theta.T + 2 * np.eye(d)) / 4"
   ]
  },
  {
   "cell_type": "code",
   "execution_count": 11,
   "id": "e3df612d",
   "metadata": {
    "ExecuteTime": {
     "end_time": "2022-06-26T20:02:04.727347Z",
     "start_time": "2022-06-26T20:02:04.687294Z"
    }
   },
   "outputs": [],
   "source": [
    "rho = 0.1\n",
    "P = rho * Z @ theta @ Z.T"
   ]
  },
  {
   "cell_type": "code",
   "execution_count": 12,
   "id": "750872b4",
   "metadata": {
    "ExecuteTime": {
     "end_time": "2022-06-26T20:02:05.497880Z",
     "start_time": "2022-06-26T20:02:05.230201Z"
    }
   },
   "outputs": [
    {
     "name": "stderr",
     "output_type": "stream",
     "text": [
      "C:\\Users\\Liza\\anaconda3\\lib\\site-packages\\scipy\\sparse\\_index.py:125: SparseEfficiencyWarning: Changing the sparsity structure of a csr_matrix is expensive. lil_matrix is more efficient.\n",
      "  self._set_arrayXarray(i, j, x)\n"
     ]
    }
   ],
   "source": [
    "A = csr_matrix(np.random.binomial(1, P, (n,n)).astype(float))\n",
    "A.setdiag(0)\n",
    "A.eliminate_zeros()"
   ]
  },
  {
   "cell_type": "code",
   "execution_count": 15,
   "id": "06070576",
   "metadata": {
    "ExecuteTime": {
     "end_time": "2022-06-26T20:02:27.752527Z",
     "start_time": "2022-06-26T20:02:27.743529Z"
    }
   },
   "outputs": [],
   "source": [
    "beta = np.random.normal(0, 1, (d,1))\n",
    "beta = beta / np.linalg.norm(beta)\n",
    "X = (Z @ beta).flatten() + np.random.normal(0, .1, (n,))"
   ]
  },
  {
   "cell_type": "markdown",
   "id": "de502fb8",
   "metadata": {},
   "source": [
    "#### Available algorithms"
   ]
  },
  {
   "cell_type": "code",
   "execution_count": 13,
   "id": "6e1e9da3",
   "metadata": {
    "ExecuteTime": {
     "end_time": "2022-06-26T20:02:07.071515Z",
     "start_time": "2022-06-26T20:02:07.057519Z"
    }
   },
   "outputs": [],
   "source": [
    "k=10\n",
    "shares = np.array([0.5, 0.6, 0.7, 0.8, 0.9])"
   ]
  },
  {
   "cell_type": "code",
   "execution_count": 16,
   "id": "75d1357e",
   "metadata": {
    "ExecuteTime": {
     "end_time": "2022-06-26T20:53:31.873134Z",
     "start_time": "2022-06-26T20:02:31.410296Z"
    }
   },
   "outputs": [
    {
     "data": {
      "application/vnd.jupyter.widget-view+json": {
       "model_id": "2ae5fe589e57488a92957dfee2d8e1dc",
       "version_major": 2,
       "version_minor": 0
      },
      "text/plain": [
       "  0%|          | 0/1250 [00:00<?, ?it/s]"
      ]
     },
     "metadata": {},
     "output_type": "display_data"
    },
    {
     "name": "stdout",
     "output_type": "stream",
     "text": [
      "0.5 done\n"
     ]
    },
    {
     "data": {
      "application/vnd.jupyter.widget-view+json": {
       "model_id": "4aa756ac387f4b5586772bde0e6dee75",
       "version_major": 2,
       "version_minor": 0
      },
      "text/plain": [
       "  0%|          | 0/1500 [00:00<?, ?it/s]"
      ]
     },
     "metadata": {},
     "output_type": "display_data"
    },
    {
     "name": "stdout",
     "output_type": "stream",
     "text": [
      "0.6 done\n"
     ]
    },
    {
     "data": {
      "application/vnd.jupyter.widget-view+json": {
       "model_id": "79adb575703c4ec783d55d9e93cf5cef",
       "version_major": 2,
       "version_minor": 0
      },
      "text/plain": [
       "  0%|          | 0/1750 [00:00<?, ?it/s]"
      ]
     },
     "metadata": {},
     "output_type": "display_data"
    },
    {
     "name": "stdout",
     "output_type": "stream",
     "text": [
      "0.7 done\n"
     ]
    },
    {
     "data": {
      "application/vnd.jupyter.widget-view+json": {
       "model_id": "14a4c28f318e4a50957f7a1d68644f2f",
       "version_major": 2,
       "version_minor": 0
      },
      "text/plain": [
       "  0%|          | 0/2001 [00:00<?, ?it/s]"
      ]
     },
     "metadata": {},
     "output_type": "display_data"
    },
    {
     "name": "stdout",
     "output_type": "stream",
     "text": [
      "0.8 done\n"
     ]
    },
    {
     "data": {
      "application/vnd.jupyter.widget-view+json": {
       "model_id": "17490fea6c9f4ec3b5d268b73d457743",
       "version_major": 2,
       "version_minor": 0
      },
      "text/plain": [
       "  0%|          | 0/2251 [00:00<?, ?it/s]"
      ]
     },
     "metadata": {},
     "output_type": "display_data"
    },
    {
     "name": "stdout",
     "output_type": "stream",
     "text": [
      "0.9 done\n"
     ]
    }
   ],
   "source": [
    "RMSE_NBRs = []\n",
    "RMSE_W_PPRs = []\n",
    "RMSE_Jaccards = []\n",
    "RMSE_CNs = []\n",
    "RMSE_SVD_RBFs = []\n",
    "RMSE_CN_VECs = []\n",
    "for share in shares:\n",
    "    S = np.random.choice(np.arange(n), size=int(n*(1-share)), replace=False)\n",
    "    RMSE_NBR = mean_squared_error(X, NBR(X, A, S), squared=False)\n",
    "    RMSE_NBRs.append(RMSE_NBR)\n",
    "#     print('NBR done')\n",
    "    RMSE_W_PPR = mean_squared_error(X, W_PPR(X, A, S, k), squared=False)\n",
    "    RMSE_W_PPRs.append(RMSE_W_PPR)\n",
    "#     print('W_PPR done')\n",
    "    RMSE_Jaccard = mean_squared_error(X, Jaccard(X, A, S, k), squared=False)\n",
    "    RMSE_Jaccards.append(RMSE_Jaccard)\n",
    "#     print('Jaccard done')\n",
    "    RMSE_CN = mean_squared_error(X, CN(X, A, S, k), squared=False)\n",
    "    RMSE_CNs.append(RMSE_CN)\n",
    "#     print('CN done')\n",
    "    RMSE_SVD_RBF = mean_squared_error(X, SVD_RBF(X, A, S, 0.03*(np.log(n))**(3/d) / n**(1 / 2 / (d+1)), d), squared=False)\n",
    "    RMSE_SVD_RBFs.append(RMSE_SVD_RBF)\n",
    "#     print('SVD RBF done')\n",
    "    RMSE_CN_VEC = mean_squared_error(X, CN_VEC(X, A, S, k), squared=False)\n",
    "    RMSE_CN_VECs.append(RMSE_CN_VEC)\n",
    "# #     print('CN VEC done')\n",
    "    print(share, 'done')"
   ]
  },
  {
   "cell_type": "code",
   "execution_count": 17,
   "id": "cb8e2607",
   "metadata": {
    "ExecuteTime": {
     "end_time": "2022-06-26T20:54:11.546433Z",
     "start_time": "2022-06-26T20:54:11.159372Z"
    }
   },
   "outputs": [
    {
     "data": {
      "image/png": "[encoded data removed]",
      "text/plain": [
       "<Figure size 576x360 with 1 Axes>"
      ]
     },
     "metadata": {
      "needs_background": "light"
     },
     "output_type": "display_data"
    }
   ],
   "source": [
    "plt.figure(figsize=(8,5))\n",
    "# plt.title('SBM', fontsize=24)\n",
    "plt.xlabel('Fraction of Unknown Covariates', fontsize=24)\n",
    "plt.ylabel('RMSE', fontsize=24)\n",
    "plt.yticks(fontsize=16)\n",
    "plt.xticks(fontsize=16)\n",
    "plt.ylim(0, 0.63)\n",
    "width = 0.01\n",
    "plt.bar(x=shares-3*width, height=RMSE_CN_VECs, width=width, label='CN-VEC', color='crimson')\n",
    "plt.bar(x=shares-2*width, height=RMSE_SVD_RBFs, width=width, label='SVD-RBF', color='deeppink')\n",
    "plt.bar(x=shares-width, height=RMSE_NBRs, width=width, label='NBR', color='fuchsia')\n",
    "plt.bar(x=shares, height=RMSE_W_PPRs, width=width, label='W-PPR', color='violet')\n",
    "plt.bar(x=shares+width, height=RMSE_Jaccards, width=width, label='Jaccard', color='darkviolet')\n",
    "plt.bar(x=shares+2*width, height=RMSE_CNs, width=width, label='CN', color='rebeccapurple');\n",
    "plt.legend(fontsize=12);"
   ]
  },
  {
   "cell_type": "code",
   "execution_count": 56,
   "id": "23756d56",
   "metadata": {
    "ExecuteTime": {
     "end_time": "2022-04-18T13:42:14.035504Z",
     "start_time": "2022-04-18T13:42:13.875789Z"
    }
   },
   "outputs": [
    {
     "data": {
      "image/png": "[encoded data removed]",
      "text/plain": [
       "<Figure size 576x360 with 1 Axes>"
      ]
     },
     "metadata": {
      "needs_background": "light"
     },
     "output_type": "display_data"
    }
   ],
   "source": [
    "plt.figure(figsize=(8,5))\n",
    "# plt.title('SBM')\n",
    "plt.xlabel('Fraction of Unknown Covariates', fontsize=28)\n",
    "# plt.ylabel('RMSE', fontsize=24)\n",
    "plt.yticks(fontsize=16)\n",
    "plt.xticks(fontsize=16)\n",
    "plt.ylim(0, 0.49)\n",
    "width = 0.01\n",
    "plt.bar(x=shares-3*width, height=RMSE_CN_VECs, width=width, label='CN-VEC', color='r')\n",
    "plt.bar(x=shares-2*width, height=RMSE_SVD_RBFs, width=width, label='SVD-RBF', color='b', hatch='\\\\\\\\')\n",
    "plt.bar(x=shares-width, height=RMSE_NBRs, width=width, label='NBR', color='goldenrod', hatch='..')\n",
    "plt.bar(x=shares, height=RMSE_W_PPRs, width=width, label='W-PPR', color='mediumturquoise', hatch='--')\n",
    "plt.bar(x=shares+width, height=RMSE_Jaccards, width=width, label='Jaccard', color='burlywood', hatch='oo')\n",
    "plt.bar(x=shares+2*width, height=RMSE_CNs, width=width, label='CN', color='gray', hatch='//');\n",
    "# plt.legend();"
   ]
  },
  {
   "cell_type": "markdown",
   "id": "65011f31",
   "metadata": {},
   "source": [
    "### Mixed-membership Stochastic Blockmodel (MMSB)"
   ]
  },
  {
   "cell_type": "code",
   "execution_count": 44,
   "id": "e1986122",
   "metadata": {
    "ExecuteTime": {
     "end_time": "2022-06-26T21:27:20.204687Z",
     "start_time": "2022-06-26T21:27:20.189735Z"
    }
   },
   "outputs": [],
   "source": [
    "Z = np.random.dirichlet(np.ones(5) / 5, (n,))"
   ]
  },
  {
   "cell_type": "code",
   "execution_count": 45,
   "id": "877f19b8",
   "metadata": {
    "ExecuteTime": {
     "end_time": "2022-06-26T21:27:20.671111Z",
     "start_time": "2022-06-26T21:27:20.661114Z"
    }
   },
   "outputs": [
    {
     "data": {
      "text/plain": [
       "array([1., 1., 1., ..., 1., 1., 1.])"
      ]
     },
     "execution_count": 45,
     "metadata": {},
     "output_type": "execute_result"
    }
   ],
   "source": [
    "Z.sum(1)"
   ]
  },
  {
   "cell_type": "code",
   "execution_count": 46,
   "id": "3894310b",
   "metadata": {
    "ExecuteTime": {
     "end_time": "2022-06-26T21:27:21.199781Z",
     "start_time": "2022-06-26T21:27:21.180783Z"
    }
   },
   "outputs": [],
   "source": [
    "theta = np.ones((d,d)) * 0.1\n",
    "np.fill_diagonal(theta, 1)"
   ]
  },
  {
   "cell_type": "code",
   "execution_count": 47,
   "id": "0d111091",
   "metadata": {
    "ExecuteTime": {
     "end_time": "2022-06-26T21:27:21.677304Z",
     "start_time": "2022-06-26T21:27:21.643309Z"
    }
   },
   "outputs": [],
   "source": [
    "rho = 0.1\n",
    "P = rho * Z @ theta @ Z.T"
   ]
  },
  {
   "cell_type": "code",
   "execution_count": 48,
   "id": "c3fd1f91",
   "metadata": {
    "ExecuteTime": {
     "end_time": "2022-06-26T21:27:22.434305Z",
     "start_time": "2022-06-26T21:27:22.119307Z"
    }
   },
   "outputs": [
    {
     "name": "stderr",
     "output_type": "stream",
     "text": [
      "C:\\Users\\Liza\\anaconda3\\lib\\site-packages\\scipy\\sparse\\_index.py:125: SparseEfficiencyWarning: Changing the sparsity structure of a csr_matrix is expensive. lil_matrix is more efficient.\n",
      "  self._set_arrayXarray(i, j, x)\n"
     ]
    }
   ],
   "source": [
    "A = csr_matrix(np.random.binomial(1, P, (n,n)).astype(float))\n",
    "A.setdiag(0)\n",
    "A.eliminate_zeros()"
   ]
  },
  {
   "cell_type": "code",
   "execution_count": 49,
   "id": "434441e4",
   "metadata": {
    "ExecuteTime": {
     "end_time": "2022-06-26T21:27:23.256700Z",
     "start_time": "2022-06-26T21:27:23.243701Z"
    }
   },
   "outputs": [],
   "source": [
    "beta = np.random.normal(0, 1, (d,1))\n",
    "beta = beta / np.linalg.norm(beta)\n",
    "X = (Z @ beta).flatten() + np.random.normal(0, .1, (n,))"
   ]
  },
  {
   "cell_type": "markdown",
   "id": "ac2eb491",
   "metadata": {},
   "source": [
    "#### Available algorithms"
   ]
  },
  {
   "cell_type": "code",
   "execution_count": 50,
   "id": "6de9e0a9",
   "metadata": {
    "ExecuteTime": {
     "end_time": "2022-06-26T21:27:25.390854Z",
     "start_time": "2022-06-26T21:27:25.378850Z"
    }
   },
   "outputs": [],
   "source": [
    "k=10\n",
    "shares = np.array([0.5, 0.6, 0.7, 0.8, 0.9])"
   ]
  },
  {
   "cell_type": "code",
   "execution_count": 99,
   "id": "315afb00",
   "metadata": {
    "ExecuteTime": {
     "end_time": "2022-06-26T19:39:16.890261Z",
     "start_time": "2022-06-26T19:39:16.879262Z"
    }
   },
   "outputs": [],
   "source": [
    "grid = np.linspace(0.01, 1, 100)"
   ]
  },
  {
   "cell_type": "code",
   "execution_count": 100,
   "id": "e4cf1c82",
   "metadata": {
    "ExecuteTime": {
     "end_time": "2022-06-26T19:41:09.902471Z",
     "start_time": "2022-06-26T19:39:19.590374Z"
    }
   },
   "outputs": [],
   "source": [
    "RMSE_SVD_RBFs = np.zeros((100, 5))\n",
    "for i, theta in enumerate(grid):\n",
    "    rmse = []\n",
    "    for share in shares:\n",
    "        S = np.random.choice(np.arange(n), size=int(n*(1-share)), replace=False)\n",
    "        RMSE_SVD_RBF = mean_squared_error(X, SVD_RBF(X, A, S, theta*(np.log(n))**(3/d) / n**(1 / 2 / (d+1)), d), squared=False)\n",
    "        rmse.append(RMSE_SVD_RBF)\n",
    "    RMSE_SVD_RBFs[i] = rmse"
   ]
  },
  {
   "cell_type": "code",
   "execution_count": 107,
   "id": "53adc80b",
   "metadata": {
    "ExecuteTime": {
     "end_time": "2022-06-26T19:42:52.182445Z",
     "start_time": "2022-06-26T19:42:52.013465Z"
    }
   },
   "outputs": [
    {
     "data": {
      "image/png": "[encoded data removed]",
      "text/plain": [
       "<Figure size 720x720 with 1 Axes>"
      ]
     },
     "metadata": {
      "needs_background": "light"
     },
     "output_type": "display_data"
    }
   ],
   "source": [
    "plt.figure(figsize=(10,10))\n",
    "for line in RMSE_SVD_RBFs[2:]:\n",
    "    plt.plot(line)"
   ]
  },
  {
   "cell_type": "code",
   "execution_count": 51,
   "id": "bf38761e",
   "metadata": {
    "ExecuteTime": {
     "end_time": "2022-06-26T22:25:11.827930Z",
     "start_time": "2022-06-26T21:27:37.271365Z"
    }
   },
   "outputs": [
    {
     "data": {
      "application/vnd.jupyter.widget-view+json": {
       "model_id": "4cf93518801f43f7b501a40f97bea793",
       "version_major": 2,
       "version_minor": 0
      },
      "text/plain": [
       "  0%|          | 0/1250 [00:00<?, ?it/s]"
      ]
     },
     "metadata": {},
     "output_type": "display_data"
    },
    {
     "name": "stdout",
     "output_type": "stream",
     "text": [
      "0.5 done\n"
     ]
    },
    {
     "data": {
      "application/vnd.jupyter.widget-view+json": {
       "model_id": "62adbf9884494722901d4643b33f2321",
       "version_major": 2,
       "version_minor": 0
      },
      "text/plain": [
       "  0%|          | 0/1500 [00:00<?, ?it/s]"
      ]
     },
     "metadata": {},
     "output_type": "display_data"
    },
    {
     "name": "stdout",
     "output_type": "stream",
     "text": [
      "0.6 done\n"
     ]
    },
    {
     "data": {
      "application/vnd.jupyter.widget-view+json": {
       "model_id": "cf1383d686794b5ab4b89080ae05620b",
       "version_major": 2,
       "version_minor": 0
      },
      "text/plain": [
       "  0%|          | 0/1750 [00:00<?, ?it/s]"
      ]
     },
     "metadata": {},
     "output_type": "display_data"
    },
    {
     "name": "stdout",
     "output_type": "stream",
     "text": [
      "0.7 done\n"
     ]
    },
    {
     "data": {
      "application/vnd.jupyter.widget-view+json": {
       "model_id": "e769139059cc45bea9849ba194346914",
       "version_major": 2,
       "version_minor": 0
      },
      "text/plain": [
       "  0%|          | 0/2001 [00:00<?, ?it/s]"
      ]
     },
     "metadata": {},
     "output_type": "display_data"
    },
    {
     "name": "stdout",
     "output_type": "stream",
     "text": [
      "0.8 done\n"
     ]
    },
    {
     "data": {
      "application/vnd.jupyter.widget-view+json": {
       "model_id": "32064a1c86584a5fab5ade7cf6e970ad",
       "version_major": 2,
       "version_minor": 0
      },
      "text/plain": [
       "  0%|          | 0/2251 [00:00<?, ?it/s]"
      ]
     },
     "metadata": {},
     "output_type": "display_data"
    },
    {
     "name": "stdout",
     "output_type": "stream",
     "text": [
      "0.9 done\n"
     ]
    }
   ],
   "source": [
    "RMSE_NBRs = []\n",
    "RMSE_W_PPRs = []\n",
    "RMSE_Jaccards = []\n",
    "RMSE_CNs = []\n",
    "RMSE_SVD_RBFs = []\n",
    "RMSE_CN_VECs = []\n",
    "for share in shares:\n",
    "    S = np.random.choice(np.arange(n), size=int(n*(1-share)), replace=False)\n",
    "    RMSE_NBR = mean_squared_error(X, NBR(X, A, S), squared=False)\n",
    "    RMSE_NBRs.append(RMSE_NBR)\n",
    "#     print('NBR done')\n",
    "    RMSE_W_PPR = mean_squared_error(X, W_PPR(X, A, S, k), squared=False)\n",
    "    RMSE_W_PPRs.append(RMSE_W_PPR)\n",
    "#     print('W_PPR done')\n",
    "    RMSE_Jaccard = mean_squared_error(X, Jaccard(X, A, S, k), squared=False)\n",
    "    RMSE_Jaccards.append(RMSE_Jaccard)\n",
    "#     print('Jaccard done')\n",
    "    RMSE_CN = mean_squared_error(X, CN(X, A, S, k), squared=False)\n",
    "    RMSE_CNs.append(RMSE_CN)\n",
    "#     print('CN done')\n",
    "    RMSE_SVD_RBF = mean_squared_error(X, SVD_RBF(X, A, S, 0.01*(np.log(n))**(3/d) / n**(1 / 2 / (d+1)), d), squared=False)\n",
    "    RMSE_SVD_RBFs.append(RMSE_SVD_RBF)\n",
    "#     print('SVD RBF done')\n",
    "    RMSE_CN_VEC = mean_squared_error(X, CN_VEC(X, A, S, k), squared=False)\n",
    "    RMSE_CN_VECs.append(RMSE_CN_VEC)\n",
    "# #     print('CN VEC done')\n",
    "    print(share, 'done')"
   ]
  },
  {
   "cell_type": "code",
   "execution_count": 52,
   "id": "048170ea",
   "metadata": {
    "ExecuteTime": {
     "end_time": "2022-06-26T22:36:18.077471Z",
     "start_time": "2022-06-26T22:36:17.593473Z"
    }
   },
   "outputs": [
    {
     "data": {
      "image/png": "[encoded data removed]",
      "text/plain": [
       "<Figure size 576x360 with 1 Axes>"
      ]
     },
     "metadata": {
      "needs_background": "light"
     },
     "output_type": "display_data"
    }
   ],
   "source": [
    "plt.figure(figsize=(8,5))\n",
    "# plt.title('MMSB', fontsize=24)\n",
    "plt.xlabel('Fraction of Unknown Covariates', fontsize=24)\n",
    "plt.ylabel('RMSE', fontsize=24)\n",
    "plt.yticks(fontsize=16)\n",
    "plt.xticks(fontsize=16)\n",
    "plt.ylim(0, 0.63)\n",
    "width = 0.01\n",
    "plt.bar(x=shares-3*width, height=RMSE_CN_VECs, width=width, label='CN-VEC', color='crimson')\n",
    "plt.bar(x=shares-2*width, height=RMSE_SVD_RBFs, width=width, label='SVD-RBF', color='deeppink')\n",
    "plt.bar(x=shares-width, height=RMSE_NBRs, width=width, label='NBR', color='fuchsia')\n",
    "plt.bar(x=shares, height=RMSE_W_PPRs, width=width, label='W-PPR', color='violet')\n",
    "plt.bar(x=shares+width, height=RMSE_Jaccards, width=width, label='Jaccard', color='darkviolet')\n",
    "plt.bar(x=shares+2*width, height=RMSE_CNs, width=width, label='CN', color='rebeccapurple');\n",
    "plt.legend(fontsize=12);"
   ]
  },
  {
   "cell_type": "code",
   "execution_count": 46,
   "id": "849a2960",
   "metadata": {
    "ExecuteTime": {
     "end_time": "2022-04-18T12:47:25.265825Z",
     "start_time": "2022-04-18T12:47:25.101805Z"
    }
   },
   "outputs": [
    {
     "data": {
      "image/png": "[encoded data removed]",
      "text/plain": [
       "<Figure size 576x360 with 1 Axes>"
      ]
     },
     "metadata": {
      "needs_background": "light"
     },
     "output_type": "display_data"
    }
   ],
   "source": [
    "plt.figure(figsize=(8,5))\n",
    "# plt.title('MMSB')\n",
    "plt.xlabel('Fraction of Unknown Covariates', fontsize=28)\n",
    "# plt.ylabel('RMSE', fontsize=24)\n",
    "plt.yticks(fontsize=16)\n",
    "plt.xticks(fontsize=16)\n",
    "plt.ylim(0, 0.34)\n",
    "width = 0.01\n",
    "plt.bar(x=shares-3*width, height=RMSE_CN_VECs, width=width, label='CN-VEC', color='r')\n",
    "plt.bar(x=shares-2*width, height=RMSE_SVD_RBFs, width=width, label='SVD-RBF', color='b', hatch='\\\\\\\\')\n",
    "plt.bar(x=shares-width, height=RMSE_NBRs, width=width, label='NBR', color='goldenrod', hatch='..')\n",
    "plt.bar(x=shares, height=RMSE_W_PPRs, width=width, label='W-PPR', color='mediumturquoise', hatch='--')\n",
    "plt.bar(x=shares+width, height=RMSE_Jaccards, width=width, label='Jaccard', color='burlywood', hatch='oo')\n",
    "plt.bar(x=shares+2*width, height=RMSE_CNs, width=width, label='CN', color='gray', hatch='//');\n",
    "# plt.legend();"
   ]
  },
  {
   "cell_type": "markdown",
   "id": "e5778a24",
   "metadata": {},
   "source": [
    "### Random Dot Product Graph model (RDPG)"
   ]
  },
  {
   "cell_type": "code",
   "execution_count": null,
   "id": "2a51b979",
   "metadata": {
    "ExecuteTime": {
     "end_time": "2022-04-12T16:50:34.820811Z",
     "start_time": "2022-04-12T16:50:34.819813Z"
    }
   },
   "outputs": [],
   "source": [
    "Z = [np.random.normal(i, np.sqrt(0.1), size=(n, d)) for i in range(1,6)]"
   ]
  },
  {
   "cell_type": "code",
   "execution_count": 114,
   "id": "cfe49cc9",
   "metadata": {
    "ExecuteTime": {
     "end_time": "2022-02-06T13:00:13.250435Z",
     "start_time": "2022-02-06T13:00:13.079280Z"
    }
   },
   "outputs": [],
   "source": [
    "rho = 0.1\n",
    "P = np.zeros((n,n))\n",
    "for i in range(n):\n",
    "    P[i] = np.min(np.stack((np.ones_like(Z @ Z[i]), np.max(np.stack((np.zeros_like(Z @ Z[i]), Z @ Z[i])), axis=0))), axis=0)"
   ]
  },
  {
   "cell_type": "code",
   "execution_count": 115,
   "id": "a8fcae3b",
   "metadata": {
    "ExecuteTime": {
     "end_time": "2022-02-06T13:00:13.797164Z",
     "start_time": "2022-02-06T13:00:13.648263Z"
    }
   },
   "outputs": [],
   "source": [
    "A = csr_matrix(np.random.binomial(1, P, (n,n)).astype(float))\n",
    "A.setdiag(0)\n",
    "A.eliminate_zeros()"
   ]
  },
  {
   "cell_type": "code",
   "execution_count": 116,
   "id": "c1645ec7",
   "metadata": {
    "ExecuteTime": {
     "end_time": "2022-02-06T13:00:14.218182Z",
     "start_time": "2022-02-06T13:00:14.209170Z"
    }
   },
   "outputs": [],
   "source": [
    "beta = np.random.normal(0, 1, (d,1))\n",
    "beta = beta / np.linalg.norm(beta)\n",
    "X = (Z @ beta).flatten() + np.random.normal(0, .1, (n,))"
   ]
  },
  {
   "cell_type": "markdown",
   "id": "2934df64",
   "metadata": {},
   "source": [
    "#### Available algorithms"
   ]
  },
  {
   "cell_type": "code",
   "execution_count": 101,
   "id": "a26dbb49",
   "metadata": {
    "ExecuteTime": {
     "end_time": "2022-02-06T12:49:00.753684Z",
     "start_time": "2022-02-06T12:49:00.747669Z"
    }
   },
   "outputs": [],
   "source": [
    "k=10\n",
    "shares = np.array([0.5, 0.6, 0.7, 0.8, 0.9])"
   ]
  },
  {
   "cell_type": "code",
   "execution_count": null,
   "id": "b22dc161",
   "metadata": {
    "ExecuteTime": {
     "end_time": "2022-02-06T12:50:56.287098Z",
     "start_time": "2022-02-06T12:49:01.282394Z"
    }
   },
   "outputs": [],
   "source": [
    "RMSE_NBRs = []\n",
    "RMSE_W_PPRs = []\n",
    "RMSE_Jaccards = []\n",
    "RMSE_CNs = []\n",
    "RMSE_SVD_RBFs = []\n",
    "RMSE_CN_VECs = []\n",
    "for share in [0.5, 0.6, 0.7, 0.8, 0.9]:\n",
    "    S = np.random.choice(np.arange(n), size=int(n*(1-share)), replace=False)\n",
    "    RMSE_NBR = mean_squared_error(X, NBR(X, A, S), squared=False)\n",
    "    RMSE_NBRs.append(RMSE_NBR)\n",
    "#     print('NBR done')\n",
    "    RMSE_W_PPR = mean_squared_error(X, W_PPR(X, A, S, k), squared=False)\n",
    "    RMSE_W_PPRs.append(RMSE_W_PPR)\n",
    "#     print('W_PPR done')\n",
    "    RMSE_Jaccard = mean_squared_error(X, Jaccard(X, A, S, k), squared=False)\n",
    "    RMSE_Jaccards.append(RMSE_Jaccard)\n",
    "#     print('Jaccard done')\n",
    "    RMSE_CN = mean_squared_error(X, CN(X, A, S, k), squared=False)\n",
    "    RMSE_CNs.append(RMSE_CN)\n",
    "#     print('CN done')\n",
    "    RMSE_SVD_RBF = mean_squared_error(X, SVD_RBF(X, A, S, (np.log(n))**(3/d) / n**(1 / 2 / (d+1)), d), squared=False)\n",
    "    RMSE_SVD_RBFs.append(RMSE_SVD_RBF)\n",
    "#     print('SVD RBF done')\n",
    "#     RMSE_CN_VEC = mean_squared_error(X, CN_VEC(X, A, S, k), squared=False)\n",
    "#     RMSE_CN_VECs.append(RMSE_CN_VEC)\n",
    "# #     print('CN VEC done')\n",
    "    print(share, 'done')"
   ]
  },
  {
   "cell_type": "code",
   "execution_count": null,
   "id": "a911c889",
   "metadata": {
    "ExecuteTime": {
     "end_time": "2022-02-06T12:47:16.358114Z",
     "start_time": "2022-02-06T12:47:16.186575Z"
    }
   },
   "outputs": [],
   "source": [
    "plt.figure(figsize=(8,4))\n",
    "plt.title('MMSB')\n",
    "plt.xlabel('Fraction of Unknown Covariates', fontsize=24)\n",
    "plt.ylabel('RMSE', fontsize=24)\n",
    "plt.yticks(fontsize=16)\n",
    "plt.xticks(fontsize=16)\n",
    "plt.ylim(0, 0.6)\n",
    "width = 0.01\n",
    "# plt.bar(x=shares-3*width, height=RMSE_CN_VECs, width=width, label='CN-VEC', color='r')\n",
    "plt.bar(x=shares-2*width, height=RMSE_SVD_RBFs, width=width, label='SVD-RBF', color='b', hatch='\\\\\\\\')\n",
    "plt.bar(x=shares-width, height=RMSE_NBRs, width=width, label='NBR', color='goldenrod', hatch='..')\n",
    "plt.bar(x=shares, height=RMSE_W_PPRs, width=width, label='W-PPR', color='mediumturquoise', hatch='--')\n",
    "plt.bar(x=shares+width, height=RMSE_Jaccards, width=width, label='Jaccard', color='burlywood', hatch='oo')\n",
    "plt.bar(x=shares+2*width, height=RMSE_CNs, width=width, label='CN', color='gray', hatch='//');\n",
    "# plt.legend();"
   ]
  }
 ],
 "metadata": {
  "kernelspec": {
   "display_name": "Python 3 (ipykernel)",
   "language": "python",
   "name": "python3"
  },
  "language_info": {
   "codemirror_mode": {
    "name": "ipython",
    "version": 3
   },
   "file_extension": ".py",
   "mimetype": "text/x-python",
   "name": "python",
   "nbconvert_exporter": "python",
   "pygments_lexer": "ipython3",
   "version": "3.9.7"
  },
  "toc": {
   "base_numbering": 1,
   "nav_menu": {},
   "number_sections": true,
   "sideBar": true,
   "skip_h1_title": false,
   "title_cell": "Table of Contents",
   "title_sidebar": "Contents",
   "toc_cell": false,
   "toc_position": {
    "height": "621.778px",
    "left": "24px",
    "top": "111.139px",
    "width": "341.297px"
   },
   "toc_section_display": true,
   "toc_window_display": true
  },
  "varInspector": {
   "cols": {
    "lenName": 16,
    "lenType": 16,
    "lenVar": 40
   },
   "kernels_config": {
    "python": {
     "delete_cmd_postfix": "",
     "delete_cmd_prefix": "del ",
     "library": "var_list.py",
     "varRefreshCmd": "print(var_dic_list())"
    },
    "r": {
     "delete_cmd_postfix": ") ",
     "delete_cmd_prefix": "rm(",
     "library": "var_list.r",
     "varRefreshCmd": "cat(var_dic_list()) "
    }
   },
   "types_to_exclude": [
    "module",
    "function",
    "builtin_function_or_method",
    "instance",
    "_Feature"
   ],
   "window_display": false
  }
 },
 "nbformat": 4,
 "nbformat_minor": 5
}
