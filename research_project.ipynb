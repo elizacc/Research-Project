{
 "cells": [
  {
   "cell_type": "code",
   "execution_count": 1,
   "id": "559da0b1",
   "metadata": {
    "ExecuteTime": {
     "end_time": "2022-02-06T11:57:14.565972Z",
     "start_time": "2022-02-06T11:57:13.869591Z"
    }
   },
   "outputs": [],
   "source": [
    "import numpy as np\n",
    "import requests\n",
    "import networkx as nx\n",
    "import matplotlib.pyplot as plt\n",
    "import node2vec\n",
    "from tqdm import tqdm\n",
    "from gensim.models import Word2Vec"
   ]
  },
  {
   "cell_type": "markdown",
   "id": "ef871447",
   "metadata": {},
   "source": [
    "## Algorithms"
   ]
  },
  {
   "cell_type": "code",
   "execution_count": 2,
   "id": "81a94523",
   "metadata": {
    "ExecuteTime": {
     "end_time": "2022-02-06T11:57:15.549872Z",
     "start_time": "2022-02-06T11:57:15.531890Z"
    }
   },
   "outputs": [],
   "source": [
    "# Algorithm 1\n",
    "def CN_VEC(X, A, S, k):\n",
    "    \"\"\"\n",
    "    X: array, Covariates of all nodes. For nodes which covariates are unknown array contains NaN\n",
    "    A: array, Adjacency matrix of the graph (now weighted)\n",
    "    S: array of indexes, Set of nodes with known covariates\n",
    "    k: number of neighbors\n",
    "    \n",
    "    \"\"\"\n",
    "    all_nodes = set(np.arange(len(A)))\n",
    "    no_cov_nodes = all_nodes - set(S)\n",
    "    X_hat = X.copy()\n",
    "    \n",
    "    for node_i in no_cov_nodes:\n",
    "        dists = []\n",
    "        for node_j in S:\n",
    "            C_i = np.delete(A[node_i] @ A, [node_i, node_j])\n",
    "            C_j = np.delete(A[node_j] @ A, [node_i, node_j])\n",
    "            dist = np.sum((C_i**2 - 2) * (C_i >= 2) + (C_j**2 - 2) * (C_j >= 2) - 2 * C_i * C_j)\n",
    "            dists.append(dist)\n",
    "        idxs = np.argsort(dists)[:k]\n",
    "        ktop = np.array(S)[idxs]\n",
    "        X_hat[node_i] = np.mean(X[ktop])\n",
    "        \n",
    "    return X_hat"
   ]
  },
  {
   "cell_type": "code",
   "execution_count": 3,
   "id": "b74dfbde",
   "metadata": {
    "ExecuteTime": {
     "end_time": "2022-02-06T11:57:16.160111Z",
     "start_time": "2022-02-06T11:57:16.143923Z"
    }
   },
   "outputs": [],
   "source": [
    "# Algorithm 2\n",
    "def SVD_RBF(X, A, S, theta, d):\n",
    "    \"\"\"\n",
    "    X: array, Covariates of all nodes. For nodes which covariates are unknown array contains NaN\n",
    "    A: array, Adjacency matrix of the graph (now weighted)\n",
    "    S: array of indexes, Set of nodes with known covariates\n",
    "    theta: bandwidth\n",
    "    d: rank of matrix\n",
    "    \n",
    "    \"\"\"\n",
    "    \n",
    "    U, E, Vh = np.linalg.svd(A, hermitian=True)\n",
    "    U = U[:, :d]\n",
    "    E = E[:d]\n",
    "    V = U * E**(1/2)\n",
    "    \n",
    "    all_nodes = set(np.arange(len(A)))\n",
    "    no_cov_nodes = all_nodes - set(S)\n",
    "    X_hat = X.copy()\n",
    "    \n",
    "    for node_i in no_cov_nodes:\n",
    "        x_hat_num = 0\n",
    "        x_hat_denom = 0\n",
    "        for node_j in S:\n",
    "            x_hat_num += np.exp(-np.linalg.norm(V[node_i] - V[node_j])**2 / 2 / theta**2) * X[node_j]\n",
    "            x_hat_denom += np.exp(-np.linalg.norm(V[node_i] - V[node_j])**2 / 2 / theta**2)\n",
    "        X_hat[node_i] = x_hat_num / x_hat_denom\n",
    "        \n",
    "    return X_hat"
   ]
  },
  {
   "cell_type": "code",
   "execution_count": 4,
   "id": "c8988e69",
   "metadata": {
    "ExecuteTime": {
     "end_time": "2022-02-06T11:57:16.736307Z",
     "start_time": "2022-02-06T11:57:16.723275Z"
    }
   },
   "outputs": [],
   "source": [
    "def NBR(X, A, S):\n",
    "    all_nodes = set(np.arange(len(A)))\n",
    "    no_cov_nodes = all_nodes - set(S)\n",
    "    X_hat = X.copy()\n",
    "    \n",
    "    for node_i in no_cov_nodes:\n",
    "        neighbors = np.array(list(set(np.array(list(all_nodes))[A[node_i]]) - no_cov_nodes))\n",
    "        if len(neighbors) == 0:\n",
    "            X_hat[node_i] = np.mean(X)\n",
    "        else:\n",
    "            X_hat[node_i] = np.mean(X[neighbors])\n",
    "        \n",
    "    return X_hat"
   ]
  },
  {
   "cell_type": "code",
   "execution_count": 5,
   "id": "14747cf0",
   "metadata": {
    "ExecuteTime": {
     "end_time": "2022-02-06T11:57:17.312747Z",
     "start_time": "2022-02-06T11:57:17.305749Z"
    }
   },
   "outputs": [],
   "source": [
    "def W_PPR(X, A, S, k):\n",
    "    all_nodes = set(np.arange(len(A)))\n",
    "    no_cov_nodes = all_nodes - set(S)\n",
    "    X_hat = X.copy()\n",
    "    \n",
    "    gamma = np.exp(-.25)\n",
    "    D = np.diag(A @ np.ones(A.shape[0]))\n",
    "    M = (1 - gamma) * np.linalg.inv(np.eye(D.shape[0]) - gamma * A @ np.linalg.inv(D))\n",
    "    W = (M + M.T) / 2\n",
    "    \n",
    "    for node_i in no_cov_nodes:\n",
    "        neighbors = np.argsort(W[node_i])[np.isin(np.argsort(W[node_i]), S)][-k:]\n",
    "        if len(neighbors) == 0:\n",
    "            X_hat[node_i] = np.mean(X)\n",
    "        else:\n",
    "            X_hat[node_i] = np.mean(X[neighbors])\n",
    "        \n",
    "    return X_hat"
   ]
  },
  {
   "cell_type": "code",
   "execution_count": 6,
   "id": "f556ff14",
   "metadata": {
    "ExecuteTime": {
     "end_time": "2022-02-06T11:57:18.028543Z",
     "start_time": "2022-02-06T11:57:18.020545Z"
    }
   },
   "outputs": [],
   "source": [
    "def Jaccard(X, A, S, k):\n",
    "    all_nodes = set(np.arange(len(A)))\n",
    "    no_cov_nodes = all_nodes - set(S)\n",
    "    X_hat = X.copy()\n",
    "    \n",
    "    C = A @ A\n",
    "    d = A @ np.ones(A.shape[0]).reshape(-1,1) @ np.ones(A.shape[0]).reshape(1,-1)\n",
    "    W = C / (d + d.T - C)\n",
    "    \n",
    "    for node_i in no_cov_nodes:\n",
    "        neighbors = np.argsort(W[node_i])[np.isin(np.argsort(W[node_i]), S)][-k:]\n",
    "        if len(neighbors) == 0:\n",
    "            X_hat[node_i] = np.mean(X)\n",
    "        else:\n",
    "            X_hat[node_i] = np.mean(X[neighbors])\n",
    "        \n",
    "    return X_hat"
   ]
  },
  {
   "cell_type": "code",
   "execution_count": 7,
   "id": "aaf56617",
   "metadata": {
    "ExecuteTime": {
     "end_time": "2022-02-06T11:57:18.700782Z",
     "start_time": "2022-02-06T11:57:18.688969Z"
    }
   },
   "outputs": [],
   "source": [
    "def CN(X, A, S, k):\n",
    "    all_nodes = set(np.arange(len(A)))\n",
    "    no_cov_nodes = all_nodes - set(S)\n",
    "    X_hat = X.copy()\n",
    "    \n",
    "    W = A @ A\n",
    "    \n",
    "    for node_i in no_cov_nodes:\n",
    "        neighbors = np.argsort(W[node_i])[np.isin(np.argsort(W[node_i]), S)][-k:]\n",
    "        if len(neighbors) == 0:\n",
    "            X_hat[node_i] = np.mean(X)\n",
    "        else:\n",
    "            X_hat[node_i] = np.mean(X[neighbors])\n",
    "        \n",
    "    return X_hat"
   ]
  },
  {
   "cell_type": "code",
   "execution_count": 42,
   "id": "10a4caba",
   "metadata": {
    "ExecuteTime": {
     "end_time": "2022-02-06T12:06:04.965905Z",
     "start_time": "2022-02-06T12:06:04.959231Z"
    }
   },
   "outputs": [],
   "source": [
    "# https://github.com/aditya-grover/node2vec\n",
    "def learn_embeddings(walks):\n",
    "    '''\n",
    "    Learn embeddings by optimizing the Skipgram objective using SGD.\n",
    "    '''\n",
    "    walks = [list(map(str, walk)) for walk in walks]\n",
    "    model = Word2Vec(walks, vector_size=128, window=10, min_count=0, sg=1, workers=8, epochs=1)\n",
    "    \n",
    "    return model\n",
    "\n",
    "def main(A):\n",
    "    '''\n",
    "    Pipeline for representational learning for all nodes in a graph.\n",
    "    '''\n",
    "    nx_G = nx.from_numpy_array(A)\n",
    "    G = node2vec.Graph(nx_G, False, 1, 1)\n",
    "    G.preprocess_transition_probs()\n",
    "    walks = G.simulate_walks(10, 80)\n",
    "    \n",
    "    return learn_embeddings(walks)\n",
    "    \n",
    "def Node2Vec(X, A, S, theta, k):\n",
    "    all_nodes = set(np.arange(len(A)))\n",
    "    no_cov_nodes = all_nodes - set(S)\n",
    "    X_hat = X.copy()\n",
    "    \n",
    "    embeddings = main(A)\n",
    "    \n",
    "    for node_i in tqdm(no_cov_nodes):\n",
    "        sims = []\n",
    "        for node_j in S:\n",
    "            sims.append(np.exp(-np.linalg.norm(embeddings.wv[node_i] - embeddings.wv[node_j])**2 / 2 / theta**2))\n",
    "        idxs = np.argsort(sims)[-k:]\n",
    "        ktop = np.array(S)[idxs]\n",
    "        X_hat[node_i] = np.mean(X[ktop])\n",
    "                        \n",
    "    return X_hat"
   ]
  },
  {
   "cell_type": "code",
   "execution_count": 9,
   "id": "80b3cd31",
   "metadata": {
    "ExecuteTime": {
     "end_time": "2022-02-06T11:57:20.338226Z",
     "start_time": "2022-02-06T11:57:20.332193Z"
    }
   },
   "outputs": [],
   "source": [
    "def graph_to_d_atleast2(G):\n",
    "    \"\"\"\n",
    "    This function is used to transform the original graph to a graph with minimum degree at least 2\n",
    "    \"\"\"\n",
    "    N = len(G.nodes)\n",
    "    new_node = N+1\n",
    "    source_list = []\n",
    "    target_list = []\n",
    "    for i in range(1,N+1):\n",
    "        if G.degree[i] == 1:\n",
    "            neigh = list(G.neighbors(i))\n",
    "            source_list = [source_list, i, new_node]\n",
    "            target_list = [target_list, new_node, neigh[0]]\n",
    "            new_node = new_node + 1\n",
    "\n",
    "    G = G.add_edges_from(list(zip(source_list,target_list)))\n",
    "    \n",
    "    return G\n",
    "\n",
    "def graph2lazy_nb_line_graph(G,mode):\n",
    "    \"\"\"\n",
    "    graph2lazy_nb_line_graph is used for transforming an undirected graph to a lazy non-backtracking line graph\n",
    "    which has a 2m by 2m symmetric adjacency matrix. This line graph is constructed by a symmetrication process\n",
    "    that denotes a average sum of non-backtracking transtion matrix and its transpose.\n",
    "    Input:\n",
    "       Data  - The adjacency matrix of original graph\n",
    "       N     - The node number of original graph\n",
    "       M     - The edge number of original graph\n",
    "    Output:\n",
    "      Oriented Line Graph with a sparse 2M *2M matrix\n",
    "    \"\"\"\n",
    "\n",
    "\n",
    "def NOBE(G, d=10):\n",
    "\n",
    "    N = len(G.nodes)\n",
    "\n",
    "    LG = graph_to_d_atleast2(G)\n",
    "    LLG = graph2nb_line_graph(LG, 1)\n",
    "    \n",
    "#     [U,D] = eigs_nodes(LLG,K+1,mode)\n",
    "#     [D,idx] = sort(diag(D),'descend')\n",
    "#     U = U(1:N, idx(2:K+1))"
   ]
  },
  {
   "cell_type": "markdown",
   "id": "e726d45f",
   "metadata": {},
   "source": [
    "### Tests"
   ]
  },
  {
   "cell_type": "markdown",
   "id": "d33b499e",
   "metadata": {},
   "source": [
    "#### Artificial"
   ]
  },
  {
   "cell_type": "code",
   "execution_count": 10,
   "id": "dd92e120",
   "metadata": {
    "ExecuteTime": {
     "end_time": "2022-02-06T11:57:21.706743Z",
     "start_time": "2022-02-06T11:57:21.693568Z"
    }
   },
   "outputs": [],
   "source": [
    "A = np.array([[0,1,1,0],[1,0,1,1],[1,1,0,1],[0,1,1,0]])"
   ]
  },
  {
   "cell_type": "code",
   "execution_count": 11,
   "id": "cc1558b1",
   "metadata": {
    "ExecuteTime": {
     "end_time": "2022-02-06T11:57:22.326618Z",
     "start_time": "2022-02-06T11:57:22.218913Z"
    }
   },
   "outputs": [
    {
     "data": {
      "image/png": "[encoded data removed]",
      "text/plain": [
       "<Figure size 432x288 with 1 Axes>"
      ]
     },
     "metadata": {},
     "output_type": "display_data"
    }
   ],
   "source": [
    "G = nx.from_numpy_array(A)\n",
    "nx.draw_networkx(G)"
   ]
  },
  {
   "cell_type": "code",
   "execution_count": 13,
   "id": "6addc324",
   "metadata": {
    "ExecuteTime": {
     "end_time": "2022-02-06T11:57:24.587343Z",
     "start_time": "2022-02-06T11:57:24.569135Z"
    }
   },
   "outputs": [],
   "source": [
    "X = np.array([np.nan,3,1,np.nan])"
   ]
  },
  {
   "cell_type": "code",
   "execution_count": 14,
   "id": "a5bf64e3",
   "metadata": {
    "ExecuteTime": {
     "end_time": "2022-02-06T11:57:25.058903Z",
     "start_time": "2022-02-06T11:57:25.050141Z"
    }
   },
   "outputs": [
    {
     "data": {
      "text/plain": [
       "array([2., 3., 1., 2.])"
      ]
     },
     "execution_count": 14,
     "metadata": {},
     "output_type": "execute_result"
    }
   ],
   "source": [
    "CN_VEC(X, A, [1,2], 2)"
   ]
  },
  {
   "cell_type": "code",
   "execution_count": 15,
   "id": "0708a449",
   "metadata": {
    "ExecuteTime": {
     "end_time": "2022-02-06T11:57:25.597817Z",
     "start_time": "2022-02-06T11:57:25.589728Z"
    }
   },
   "outputs": [
    {
     "data": {
      "text/plain": [
       "array([2., 3., 1., 2.])"
      ]
     },
     "execution_count": 15,
     "metadata": {},
     "output_type": "execute_result"
    }
   ],
   "source": [
    "SVD_RBF(X, A, [1,2], 1.5, 2)"
   ]
  },
  {
   "cell_type": "code",
   "execution_count": 16,
   "id": "055a246f",
   "metadata": {
    "ExecuteTime": {
     "end_time": "2022-02-06T11:57:26.280082Z",
     "start_time": "2022-02-06T11:57:26.262882Z"
    }
   },
   "outputs": [
    {
     "data": {
      "text/plain": [
       "array([3., 3., 1., 3.])"
      ]
     },
     "execution_count": 16,
     "metadata": {},
     "output_type": "execute_result"
    }
   ],
   "source": [
    "NBR(X, A, [1,2])"
   ]
  },
  {
   "cell_type": "code",
   "execution_count": 17,
   "id": "2d60552a",
   "metadata": {
    "ExecuteTime": {
     "end_time": "2022-02-06T11:57:26.872649Z",
     "start_time": "2022-02-06T11:57:26.865649Z"
    }
   },
   "outputs": [
    {
     "data": {
      "text/plain": [
       "array([2., 3., 1., 2.])"
      ]
     },
     "execution_count": 17,
     "metadata": {},
     "output_type": "execute_result"
    }
   ],
   "source": [
    "W_PPR(X, A, [1,2], 2)"
   ]
  },
  {
   "cell_type": "code",
   "execution_count": 18,
   "id": "972feaf1",
   "metadata": {
    "ExecuteTime": {
     "end_time": "2022-02-06T11:57:27.434991Z",
     "start_time": "2022-02-06T11:57:27.429988Z"
    }
   },
   "outputs": [
    {
     "data": {
      "text/plain": [
       "array([2., 3., 1., 2.])"
      ]
     },
     "execution_count": 18,
     "metadata": {},
     "output_type": "execute_result"
    }
   ],
   "source": [
    "Jaccard(X, A, [1,2], 2)"
   ]
  },
  {
   "cell_type": "code",
   "execution_count": 19,
   "id": "85e9df5f",
   "metadata": {
    "ExecuteTime": {
     "end_time": "2022-02-06T11:57:28.045295Z",
     "start_time": "2022-02-06T11:57:27.989840Z"
    }
   },
   "outputs": [
    {
     "data": {
      "text/plain": [
       "array([2., 3., 1., 2.])"
      ]
     },
     "execution_count": 19,
     "metadata": {},
     "output_type": "execute_result"
    }
   ],
   "source": [
    "CN(X, A, [1,2], 2)"
   ]
  },
  {
   "cell_type": "code",
   "execution_count": 20,
   "id": "d4d3d869",
   "metadata": {
    "ExecuteTime": {
     "end_time": "2022-02-06T11:57:28.712212Z",
     "start_time": "2022-02-06T11:57:28.675524Z"
    }
   },
   "outputs": [
    {
     "name": "stdout",
     "output_type": "stream",
     "text": [
      "Walk iteration:\n",
      "1 / 10\n",
      "2 / 10\n",
      "3 / 10\n",
      "4 / 10\n",
      "5 / 10\n",
      "6 / 10\n",
      "7 / 10\n",
      "8 / 10\n",
      "9 / 10\n",
      "10 / 10\n"
     ]
    },
    {
     "data": {
      "text/plain": [
       "array([2., 3., 1., 2.])"
      ]
     },
     "execution_count": 20,
     "metadata": {},
     "output_type": "execute_result"
    }
   ],
   "source": [
    "Node2Vec(X, A, [1,2], 1.5, 2)"
   ]
  },
  {
   "cell_type": "markdown",
   "id": "4b543783",
   "metadata": {},
   "source": [
    "#### Real"
   ]
  },
  {
   "cell_type": "code",
   "execution_count": 21,
   "id": "92b1d8a7",
   "metadata": {
    "ExecuteTime": {
     "end_time": "2022-02-06T11:57:30.283121Z",
     "start_time": "2022-02-06T11:57:30.004102Z"
    }
   },
   "outputs": [],
   "source": [
    "url = 'https://raw.githubusercontent.com/network-science-course/network-science-course/main/datasets/the_matrix_graph.gexf'\n",
    "open('the_matrix_graph.gexf', 'wb').write(requests.get(url).content);"
   ]
  },
  {
   "cell_type": "code",
   "execution_count": 22,
   "id": "9e26bb41",
   "metadata": {
    "ExecuteTime": {
     "end_time": "2022-02-06T11:57:31.016750Z",
     "start_time": "2022-02-06T11:57:30.823894Z"
    }
   },
   "outputs": [
    {
     "data": {
      "image/png": "[encoded data removed]",
      "text/plain": [
       "<Figure size 936x504 with 1 Axes>"
      ]
     },
     "metadata": {},
     "output_type": "display_data"
    }
   ],
   "source": [
    "def get_matrix_graph():\n",
    "    G = nx.read_gexf('the_matrix_graph.gexf')\n",
    "    mapping = {}\n",
    "    for node in G.nodes:\n",
    "        mapping[node] = G.nodes[node]['label']\n",
    "    G = nx.relabel_nodes(G, mapping)\n",
    "    return G\n",
    "matrixG = get_matrix_graph()\n",
    "plt.figure(figsize=(13, 7))\n",
    "layout = nx.kamada_kawai_layout(matrixG)\n",
    "nx.draw_networkx(matrixG, pos=layout)"
   ]
  },
  {
   "cell_type": "code",
   "execution_count": 23,
   "id": "c77e721c",
   "metadata": {
    "ExecuteTime": {
     "end_time": "2022-02-06T11:57:46.431238Z",
     "start_time": "2022-02-06T11:57:46.420931Z"
    }
   },
   "outputs": [],
   "source": [
    "A = nx.linalg.adjacency_matrix(matrixG).toarray()"
   ]
  },
  {
   "cell_type": "code",
   "execution_count": 24,
   "id": "a07ed026",
   "metadata": {
    "ExecuteTime": {
     "end_time": "2022-02-06T11:57:46.980873Z",
     "start_time": "2022-02-06T11:57:46.967925Z"
    }
   },
   "outputs": [],
   "source": [
    "A = (A > 0).astype(int)"
   ]
  },
  {
   "cell_type": "code",
   "execution_count": 25,
   "id": "6bd7723f",
   "metadata": {
    "ExecuteTime": {
     "end_time": "2022-02-06T11:57:47.572587Z",
     "start_time": "2022-02-06T11:57:47.551149Z"
    }
   },
   "outputs": [
    {
     "data": {
      "text/plain": [
       "array([3.66666667, 4.        , 3.66666667, 4.        , 3.        ,\n",
       "       3.66666667, 3.66666667, 3.66666667, 3.66666667, 3.66666667,\n",
       "       3.66666667, 3.66666667, 3.66666667, 3.66666667, 3.66666667,\n",
       "       3.66666667, 3.66666667, 3.66666667, 3.66666667, 3.66666667,\n",
       "       3.66666667, 3.66666667, 3.66666667, 3.66666667, 3.66666667,\n",
       "       3.66666667, 3.66666667, 3.66666667, 3.66666667, 3.66666667,\n",
       "       3.66666667])"
      ]
     },
     "execution_count": 25,
     "metadata": {},
     "output_type": "execute_result"
    }
   ],
   "source": [
    "CN_VEC(np.array(list(nx.get_node_attributes(matrixG, 'Eccentricity').values())), A, [1,3,4], 5)"
   ]
  },
  {
   "cell_type": "code",
   "execution_count": 26,
   "id": "0fd15956",
   "metadata": {
    "ExecuteTime": {
     "end_time": "2022-02-06T11:57:48.119225Z",
     "start_time": "2022-02-06T11:57:48.100162Z"
    }
   },
   "outputs": [
    {
     "data": {
      "text/plain": [
       "array([3.7221194 , 4.        , 3.69749884, 4.        , 3.        ,\n",
       "       3.59475274, 3.6803777 , 3.6803777 , 3.62806509, 3.67083882,\n",
       "       3.70903321, 3.68665244, 3.71082671, 3.68228056, 3.67567637,\n",
       "       3.69830543, 3.59475274, 3.648734  , 3.7036423 , 3.70700707,\n",
       "       3.71517701, 3.6906273 , 3.70065743, 3.70700707, 3.70614916,\n",
       "       3.71500653, 3.62244381, 3.69013034, 3.59679855, 3.66130606,\n",
       "       3.68228056])"
      ]
     },
     "execution_count": 26,
     "metadata": {},
     "output_type": "execute_result"
    }
   ],
   "source": [
    "SVD_RBF(np.array(list(nx.get_node_attributes(matrixG, 'Eccentricity').values())), A, [1,3,4], 1.5, 4)"
   ]
  },
  {
   "cell_type": "markdown",
   "id": "0f8a534c",
   "metadata": {},
   "source": [
    "## Experiments"
   ]
  },
  {
   "cell_type": "code",
   "execution_count": 27,
   "id": "9a707360",
   "metadata": {
    "ExecuteTime": {
     "end_time": "2022-02-06T11:57:49.082772Z",
     "start_time": "2022-02-06T11:57:49.064772Z"
    }
   },
   "outputs": [],
   "source": [
    "n = 2500\n",
    "d = 5"
   ]
  },
  {
   "cell_type": "markdown",
   "id": "064212dd",
   "metadata": {},
   "source": [
    "### Latent Space Model (LSM)"
   ]
  },
  {
   "cell_type": "code",
   "execution_count": 28,
   "id": "73af5648",
   "metadata": {
    "ExecuteTime": {
     "end_time": "2022-02-06T11:57:49.874746Z",
     "start_time": "2022-02-06T11:57:49.863726Z"
    }
   },
   "outputs": [],
   "source": [
    "Z = np.random.uniform(0, 1, size=(n, d))"
   ]
  },
  {
   "cell_type": "code",
   "execution_count": 29,
   "id": "87f35ed3",
   "metadata": {
    "ExecuteTime": {
     "end_time": "2022-02-06T11:57:51.778884Z",
     "start_time": "2022-02-06T11:57:51.598596Z"
    }
   },
   "outputs": [],
   "source": [
    "rho = 1\n",
    "P = np.zeros((n,n))\n",
    "for i in range(n):\n",
    "    P[i] = rho / (1 + np.exp(2.5 * np.sqrt(np.sum((Z - Z[i])**2, axis=1))))"
   ]
  },
  {
   "cell_type": "code",
   "execution_count": 30,
   "id": "9d8ecb4f",
   "metadata": {
    "ExecuteTime": {
     "end_time": "2022-02-06T11:57:52.511076Z",
     "start_time": "2022-02-06T11:57:52.229028Z"
    }
   },
   "outputs": [],
   "source": [
    "A = np.random.binomial(1, P, (n,n))\n",
    "np.fill_diagonal(A, 0)"
   ]
  },
  {
   "cell_type": "code",
   "execution_count": 31,
   "id": "22be76cd",
   "metadata": {
    "ExecuteTime": {
     "end_time": "2022-02-06T11:57:52.899745Z",
     "start_time": "2022-02-06T11:57:52.892749Z"
    }
   },
   "outputs": [],
   "source": [
    "beta = np.random.normal(0, np.sqrt(100), (d,1))\n",
    "X = Z @ beta + np.random.normal(0, .1, (n,1))"
   ]
  },
  {
   "cell_type": "code",
   "execution_count": 32,
   "id": "65834870",
   "metadata": {
    "ExecuteTime": {
     "end_time": "2022-02-06T11:57:53.443920Z",
     "start_time": "2022-02-06T11:57:53.427922Z"
    }
   },
   "outputs": [],
   "source": [
    "share = 0.5\n",
    "S = np.random.choice(np.arange(n), size=int(n*(1-share)), replace=False)"
   ]
  },
  {
   "cell_type": "markdown",
   "id": "a2774d8b",
   "metadata": {},
   "source": [
    "#### Timing"
   ]
  },
  {
   "cell_type": "code",
   "execution_count": 37,
   "id": "0d740d2b",
   "metadata": {
    "ExecuteTime": {
     "end_time": "2022-02-06T11:59:19.219239Z",
     "start_time": "2022-02-06T11:59:19.213224Z"
    }
   },
   "outputs": [],
   "source": [
    "k=10"
   ]
  },
  {
   "cell_type": "code",
   "execution_count": null,
   "id": "064345ba",
   "metadata": {},
   "outputs": [],
   "source": [
    "%%timeit\n",
    "RMSE_CN_VEC = np.sqrt(np.sum((X - CN_VEC(X, A, S, k))**2))"
   ]
  },
  {
   "cell_type": "code",
   "execution_count": null,
   "id": "e772041d",
   "metadata": {},
   "outputs": [],
   "source": [
    "%%timeit\n",
    "RMSE_SVD_RBF = np.sqrt(np.sum((X - SVD_RBF(X, A, S, (np.log(n))**(3/k) / n**(1 / 2 / (k+1)), k))**2))"
   ]
  },
  {
   "cell_type": "code",
   "execution_count": 34,
   "id": "057beba3",
   "metadata": {
    "ExecuteTime": {
     "end_time": "2022-02-06T11:58:47.321040Z",
     "start_time": "2022-02-06T11:58:46.973511Z"
    }
   },
   "outputs": [
    {
     "name": "stdout",
     "output_type": "stream",
     "text": [
      "337 ms ± 0 ns per loop (mean ± std. dev. of 1 run, 1 loop each)\n"
     ]
    }
   ],
   "source": [
    "%%timeit -n 1 -r 1\n",
    "RMSE_NBR = np.sqrt(np.sum((X - NBR(X, A, S))**2))"
   ]
  },
  {
   "cell_type": "code",
   "execution_count": 38,
   "id": "cfa8abe8",
   "metadata": {
    "ExecuteTime": {
     "end_time": "2022-02-06T11:59:22.927838Z",
     "start_time": "2022-02-06T11:59:20.972166Z"
    }
   },
   "outputs": [
    {
     "name": "stdout",
     "output_type": "stream",
     "text": [
      "1.94 s ± 0 ns per loop (mean ± std. dev. of 1 run, 1 loop each)\n"
     ]
    }
   ],
   "source": [
    "%%timeit -n 1 -r 1\n",
    "RMSE_W_PPR = np.sqrt(np.sum((X - W_PPR(X, A, S, k))**2))"
   ]
  },
  {
   "cell_type": "code",
   "execution_count": 40,
   "id": "c2a2138e",
   "metadata": {
    "ExecuteTime": {
     "end_time": "2022-02-06T12:02:12.787598Z",
     "start_time": "2022-02-06T12:01:09.247867Z"
    }
   },
   "outputs": [
    {
     "name": "stdout",
     "output_type": "stream",
     "text": [
      "1min 3s ± 0 ns per loop (mean ± std. dev. of 1 run, 1 loop each)\n"
     ]
    }
   ],
   "source": [
    "%%timeit -n 1 -r 1\n",
    "RMSE_Jaccard = np.sqrt(np.sum((X - Jaccard(X, A, S, k))**2))"
   ]
  },
  {
   "cell_type": "code",
   "execution_count": 39,
   "id": "10788bde",
   "metadata": {
    "ExecuteTime": {
     "end_time": "2022-02-06T12:00:48.140564Z",
     "start_time": "2022-02-06T11:59:48.548713Z"
    }
   },
   "outputs": [
    {
     "name": "stdout",
     "output_type": "stream",
     "text": [
      "59.6 s ± 0 ns per loop (mean ± std. dev. of 1 run, 1 loop each)\n"
     ]
    }
   ],
   "source": [
    "%%timeit -n 1 -r 1\n",
    "RMSE_CN = np.sqrt(np.sum((X - CN(X, A, S, k))**2))"
   ]
  },
  {
   "cell_type": "code",
   "execution_count": null,
   "id": "41bb8092",
   "metadata": {
    "ExecuteTime": {
     "end_time": "2022-02-06T12:07:09.788575Z",
     "start_time": "2022-02-06T12:06:29.531507Z"
    }
   },
   "outputs": [],
   "source": [
    "%%timeit -n 1 -r 1\n",
    "RMSE_Node2Vec = np.sqrt(np.sum((X - Node2Vec(X, A, S, (np.log(n))**(3/k) / n**(1 / 2 / (k+1)), k))**2))"
   ]
  },
  {
   "cell_type": "markdown",
   "id": "2579053e",
   "metadata": {},
   "source": [
    "#### Available algorithms"
   ]
  },
  {
   "cell_type": "code",
   "execution_count": 45,
   "id": "6a2ae6d3",
   "metadata": {
    "ExecuteTime": {
     "end_time": "2022-02-06T12:08:53.331624Z",
     "start_time": "2022-02-06T12:08:53.308609Z"
    }
   },
   "outputs": [],
   "source": [
    "k=10\n",
    "share = 0.5\n",
    "S = np.random.choice(np.arange(n), size=int(n*(1-share)), replace=False)"
   ]
  },
  {
   "cell_type": "code",
   "execution_count": 46,
   "id": "72b85613",
   "metadata": {
    "ExecuteTime": {
     "end_time": "2022-02-06T12:10:52.931173Z",
     "start_time": "2022-02-06T12:08:53.936960Z"
    }
   },
   "outputs": [
    {
     "name": "stdout",
     "output_type": "stream",
     "text": [
      "NBR done\n",
      "W_PPR done\n",
      "Jaccard done\n",
      "CN done\n"
     ]
    }
   ],
   "source": [
    "RMSE_NBR = np.sqrt(np.sum((X - NBR(X, A, S))**2))\n",
    "print('NBR done')\n",
    "RMSE_W_PPR = np.sqrt(np.sum((X - W_PPR(X, A, S, k))**2))\n",
    "print('W_PPR done')\n",
    "RMSE_Jaccard = np.sqrt(np.sum((X - Jaccard(X, A, S, k))**2))\n",
    "print('Jaccard done')\n",
    "RMSE_CN = np.sqrt(np.sum((X - CN(X, A, S, k))**2))\n",
    "print('CN done')"
   ]
  },
  {
   "cell_type": "code",
   "execution_count": 47,
   "id": "468c3596",
   "metadata": {
    "ExecuteTime": {
     "end_time": "2022-02-06T12:10:54.942549Z",
     "start_time": "2022-02-06T12:10:54.935538Z"
    }
   },
   "outputs": [],
   "source": [
    "RMSE_NBRs = [RMSE_NBR]\n",
    "RMSE_W_PPRs = [RMSE_W_PPR]\n",
    "RMSE_Jaccards = [RMSE_Jaccard]\n",
    "RMSE_CNs = [RMSE_CN]"
   ]
  },
  {
   "cell_type": "code",
   "execution_count": 48,
   "id": "542f455d",
   "metadata": {
    "ExecuteTime": {
     "end_time": "2022-02-06T12:10:57.692143Z",
     "start_time": "2022-02-06T12:10:57.685093Z"
    }
   },
   "outputs": [],
   "source": [
    "share = 0.6\n",
    "S = np.random.choice(np.arange(n), size=int(n*(1-share)), replace=False)"
   ]
  },
  {
   "cell_type": "code",
   "execution_count": 49,
   "id": "10a9005f",
   "metadata": {
    "ExecuteTime": {
     "end_time": "2022-02-06T12:13:29.213834Z",
     "start_time": "2022-02-06T12:11:20.876462Z"
    }
   },
   "outputs": [
    {
     "name": "stdout",
     "output_type": "stream",
     "text": [
      "NBR done\n",
      "W_PPR done\n",
      "Jaccard done\n",
      "CN done\n"
     ]
    }
   ],
   "source": [
    "RMSE_NBR = np.sqrt(np.sum((X - NBR(X, A, S))**2))\n",
    "RMSE_NBRs.append(RMSE_NBR)\n",
    "print('NBR done')\n",
    "RMSE_W_PPR = np.sqrt(np.sum((X - W_PPR(X, A, S, k))**2))\n",
    "RMSE_W_PPRs.append(RMSE_W_PPR)\n",
    "print('W_PPR done')\n",
    "RMSE_Jaccard = np.sqrt(np.sum((X - Jaccard(X, A, S, k))**2))\n",
    "RMSE_Jaccards.append(RMSE_Jaccard)\n",
    "print('Jaccard done')\n",
    "RMSE_CN = np.sqrt(np.sum((X - CN(X, A, S, k))**2))\n",
    "RMSE_CNs.append(RMSE_CN)\n",
    "print('CN done')"
   ]
  },
  {
   "cell_type": "code",
   "execution_count": 50,
   "id": "ca15d236",
   "metadata": {
    "ExecuteTime": {
     "end_time": "2022-02-06T12:13:31.789371Z",
     "start_time": "2022-02-06T12:13:31.777370Z"
    }
   },
   "outputs": [],
   "source": [
    "share = 0.7\n",
    "S = np.random.choice(np.arange(n), size=int(n*(1-share)), replace=False)"
   ]
  },
  {
   "cell_type": "code",
   "execution_count": 51,
   "id": "d23b658d",
   "metadata": {
    "ExecuteTime": {
     "end_time": "2022-02-06T12:15:40.699186Z",
     "start_time": "2022-02-06T12:13:32.470442Z"
    }
   },
   "outputs": [
    {
     "name": "stdout",
     "output_type": "stream",
     "text": [
      "NBR done\n",
      "W_PPR done\n",
      "Jaccard done\n",
      "CN done\n"
     ]
    }
   ],
   "source": [
    "RMSE_NBR = np.sqrt(np.sum((X - NBR(X, A, S))**2))\n",
    "RMSE_NBRs.append(RMSE_NBR)\n",
    "print('NBR done')\n",
    "RMSE_W_PPR = np.sqrt(np.sum((X - W_PPR(X, A, S, k))**2))\n",
    "RMSE_W_PPRs.append(RMSE_W_PPR)\n",
    "print('W_PPR done')\n",
    "RMSE_Jaccard = np.sqrt(np.sum((X - Jaccard(X, A, S, k))**2))\n",
    "RMSE_Jaccards.append(RMSE_Jaccard)\n",
    "print('Jaccard done')\n",
    "RMSE_CN = np.sqrt(np.sum((X - CN(X, A, S, k))**2))\n",
    "RMSE_CNs.append(RMSE_CN)\n",
    "print('CN done')"
   ]
  },
  {
   "cell_type": "code",
   "execution_count": 52,
   "id": "6a054bf2",
   "metadata": {
    "ExecuteTime": {
     "end_time": "2022-02-06T12:17:13.685123Z",
     "start_time": "2022-02-06T12:17:13.671487Z"
    }
   },
   "outputs": [],
   "source": [
    "share = 0.8\n",
    "S = np.random.choice(np.arange(n), size=int(n*(1-share)), replace=False)"
   ]
  },
  {
   "cell_type": "code",
   "execution_count": 53,
   "id": "1760eb1a",
   "metadata": {
    "ExecuteTime": {
     "end_time": "2022-02-06T12:19:23.130773Z",
     "start_time": "2022-02-06T12:17:14.121944Z"
    }
   },
   "outputs": [
    {
     "name": "stdout",
     "output_type": "stream",
     "text": [
      "NBR done\n",
      "W_PPR done\n",
      "Jaccard done\n",
      "CN done\n"
     ]
    }
   ],
   "source": [
    "RMSE_NBR = np.sqrt(np.sum((X - NBR(X, A, S))**2))\n",
    "RMSE_NBRs.append(RMSE_NBR)\n",
    "print('NBR done')\n",
    "RMSE_W_PPR = np.sqrt(np.sum((X - W_PPR(X, A, S, k))**2))\n",
    "RMSE_W_PPRs.append(RMSE_W_PPR)\n",
    "print('W_PPR done')\n",
    "RMSE_Jaccard = np.sqrt(np.sum((X - Jaccard(X, A, S, k))**2))\n",
    "RMSE_Jaccards.append(RMSE_Jaccard)\n",
    "print('Jaccard done')\n",
    "RMSE_CN = np.sqrt(np.sum((X - CN(X, A, S, k))**2))\n",
    "RMSE_CNs.append(RMSE_CN)\n",
    "print('CN done')"
   ]
  },
  {
   "cell_type": "code",
   "execution_count": 54,
   "id": "6dba894b",
   "metadata": {
    "ExecuteTime": {
     "end_time": "2022-02-06T12:19:43.156231Z",
     "start_time": "2022-02-06T12:19:43.143229Z"
    }
   },
   "outputs": [],
   "source": [
    "share = 0.9\n",
    "S = np.random.choice(np.arange(n), size=int(n*(1-share)), replace=False)"
   ]
  },
  {
   "cell_type": "code",
   "execution_count": 55,
   "id": "25d04d0f",
   "metadata": {
    "ExecuteTime": {
     "end_time": "2022-02-06T12:21:47.882548Z",
     "start_time": "2022-02-06T12:19:43.706738Z"
    }
   },
   "outputs": [
    {
     "name": "stdout",
     "output_type": "stream",
     "text": [
      "NBR done\n",
      "W_PPR done\n",
      "Jaccard done\n",
      "CN done\n"
     ]
    }
   ],
   "source": [
    "RMSE_NBR = np.sqrt(np.sum((X - NBR(X, A, S))**2))\n",
    "RMSE_NBRs.append(RMSE_NBR)\n",
    "print('NBR done')\n",
    "RMSE_W_PPR = np.sqrt(np.sum((X - W_PPR(X, A, S, k))**2))\n",
    "RMSE_W_PPRs.append(RMSE_W_PPR)\n",
    "print('W_PPR done')\n",
    "RMSE_Jaccard = np.sqrt(np.sum((X - Jaccard(X, A, S, k))**2))\n",
    "RMSE_Jaccards.append(RMSE_Jaccard)\n",
    "print('Jaccard done')\n",
    "RMSE_CN = np.sqrt(np.sum((X - CN(X, A, S, k))**2))\n",
    "RMSE_CNs.append(RMSE_CN)\n",
    "print('CN done')"
   ]
  },
  {
   "cell_type": "code",
   "execution_count": 64,
   "id": "4b22001a",
   "metadata": {
    "ExecuteTime": {
     "end_time": "2022-02-06T12:25:37.415685Z",
     "start_time": "2022-02-06T12:25:37.239581Z"
    }
   },
   "outputs": [
    {
     "data": {
      "image/png": "[encoded data removed]",
      "text/plain": [
       "<Figure size 576x288 with 1 Axes>"
      ]
     },
     "metadata": {
      "needs_background": "light"
     },
     "output_type": "display_data"
    }
   ],
   "source": [
    "plt.figure(figsize=(8,4))\n",
    "plt.title('LSM')\n",
    "plt.xlabel('fraction of unknown covariates')\n",
    "plt.ylabel('RMSE')\n",
    "plt.plot([0.5, 0.6, 0.7, 0.8, 0.9], RMSE_NBRs, label='NBR')\n",
    "plt.plot([0.5, 0.6, 0.7, 0.8, 0.9], RMSE_W_PPRs, label='W-PPR')\n",
    "plt.plot([0.5, 0.6, 0.7, 0.8, 0.9], RMSE_Jaccards, label='Jaccard')\n",
    "plt.plot([0.5, 0.6, 0.7, 0.8, 0.9], RMSE_CNs, label='CN')\n",
    "plt.legend();"
   ]
  },
  {
   "cell_type": "markdown",
   "id": "3cf11803",
   "metadata": {},
   "source": [
    "### Stochastic Blockmodel (SBM)"
   ]
  },
  {
   "cell_type": "code",
   "execution_count": 77,
   "id": "2f5d2595",
   "metadata": {
    "ExecuteTime": {
     "end_time": "2022-02-06T12:36:10.952231Z",
     "start_time": "2022-02-06T12:36:10.943204Z"
    }
   },
   "outputs": [],
   "source": [
    "Z0 = np.array([np.eye(d)[0]] * (n // 5))\n",
    "Z1 = np.array([np.eye(d)[1]] * (n // 5))\n",
    "Z2 = np.array([np.eye(d)[2]] * (n // 5))\n",
    "Z3 = np.array([np.eye(d)[3]] * (n // 5))\n",
    "Z4 = np.array([np.eye(d)[4]] * (n // 5))\n",
    "Z = np.concatenate([Z0, Z1, Z2, Z3, Z4])"
   ]
  },
  {
   "cell_type": "code",
   "execution_count": 78,
   "id": "4557b1ef",
   "metadata": {
    "ExecuteTime": {
     "end_time": "2022-02-06T12:36:11.636985Z",
     "start_time": "2022-02-06T12:36:11.630979Z"
    }
   },
   "outputs": [],
   "source": [
    "theta = np.random.uniform(0, 1, (d,d))\n",
    "theta = (theta + theta.T + 2 * np.eye(d)) / 4"
   ]
  },
  {
   "cell_type": "code",
   "execution_count": 79,
   "id": "e3df612d",
   "metadata": {
    "ExecuteTime": {
     "end_time": "2022-02-06T12:36:12.259228Z",
     "start_time": "2022-02-06T12:36:12.208864Z"
    }
   },
   "outputs": [],
   "source": [
    "rho = 0.1\n",
    "P = np.zeros((n,n))\n",
    "for i in range(n):\n",
    "    P[i] = rho * Z @ (Z[i] @ theta)"
   ]
  },
  {
   "cell_type": "code",
   "execution_count": 80,
   "id": "750872b4",
   "metadata": {
    "ExecuteTime": {
     "end_time": "2022-02-06T12:36:12.912617Z",
     "start_time": "2022-02-06T12:36:12.791523Z"
    }
   },
   "outputs": [],
   "source": [
    "A = np.random.binomial(1, P, (n,n))\n",
    "np.fill_diagonal(A, 0)"
   ]
  },
  {
   "cell_type": "code",
   "execution_count": 81,
   "id": "06070576",
   "metadata": {
    "ExecuteTime": {
     "end_time": "2022-02-06T12:36:13.318746Z",
     "start_time": "2022-02-06T12:36:13.310867Z"
    }
   },
   "outputs": [],
   "source": [
    "beta = np.random.normal(0, np.sqrt(100), (d,1))\n",
    "X = Z @ beta + np.random.normal(0, .1, (n,1))"
   ]
  },
  {
   "cell_type": "markdown",
   "id": "de502fb8",
   "metadata": {},
   "source": [
    "#### Available algorithms"
   ]
  },
  {
   "cell_type": "code",
   "execution_count": 82,
   "id": "6e1e9da3",
   "metadata": {
    "ExecuteTime": {
     "end_time": "2022-02-06T12:36:15.377714Z",
     "start_time": "2022-02-06T12:36:15.360840Z"
    }
   },
   "outputs": [],
   "source": [
    "k=10\n",
    "share = 0.5\n",
    "S = np.random.choice(np.arange(n), size=int(n*(1-share)), replace=False)"
   ]
  },
  {
   "cell_type": "code",
   "execution_count": 83,
   "id": "75d1357e",
   "metadata": {
    "ExecuteTime": {
     "end_time": "2022-02-06T12:38:18.023310Z",
     "start_time": "2022-02-06T12:36:16.038734Z"
    }
   },
   "outputs": [
    {
     "name": "stdout",
     "output_type": "stream",
     "text": [
      "NBR done\n",
      "W_PPR done\n",
      "Jaccard done\n",
      "CN done\n"
     ]
    }
   ],
   "source": [
    "RMSE_NBR = np.sqrt(np.sum((X - NBR(X, A, S))**2))\n",
    "print('NBR done')\n",
    "RMSE_W_PPR = np.sqrt(np.sum((X - W_PPR(X, A, S, k))**2))\n",
    "print('W_PPR done')\n",
    "RMSE_Jaccard = np.sqrt(np.sum((X - Jaccard(X, A, S, k))**2))\n",
    "print('Jaccard done')\n",
    "RMSE_CN = np.sqrt(np.sum((X - CN(X, A, S, k))**2))\n",
    "print('CN done')"
   ]
  },
  {
   "cell_type": "code",
   "execution_count": 84,
   "id": "e4c28741",
   "metadata": {
    "ExecuteTime": {
     "end_time": "2022-02-06T12:38:19.415468Z",
     "start_time": "2022-02-06T12:38:19.407876Z"
    }
   },
   "outputs": [],
   "source": [
    "RMSE_NBRs = [RMSE_NBR]\n",
    "RMSE_W_PPRs = [RMSE_W_PPR]\n",
    "RMSE_Jaccards = [RMSE_Jaccard]\n",
    "RMSE_CNs = [RMSE_CN]"
   ]
  },
  {
   "cell_type": "code",
   "execution_count": 85,
   "id": "cdbbdc5d",
   "metadata": {
    "ExecuteTime": {
     "end_time": "2022-02-06T12:38:20.053638Z",
     "start_time": "2022-02-06T12:38:20.035642Z"
    }
   },
   "outputs": [],
   "source": [
    "share = 0.6\n",
    "S = np.random.choice(np.arange(n), size=int(n*(1-share)), replace=False)"
   ]
  },
  {
   "cell_type": "code",
   "execution_count": 86,
   "id": "9e06b9bc",
   "metadata": {
    "ExecuteTime": {
     "end_time": "2022-02-06T12:40:19.915917Z",
     "start_time": "2022-02-06T12:38:20.768938Z"
    }
   },
   "outputs": [
    {
     "name": "stdout",
     "output_type": "stream",
     "text": [
      "NBR done\n",
      "W_PPR done\n",
      "Jaccard done\n",
      "CN done\n"
     ]
    }
   ],
   "source": [
    "RMSE_NBR = np.sqrt(np.sum((X - NBR(X, A, S))**2))\n",
    "RMSE_NBRs.append(RMSE_NBR)\n",
    "print('NBR done')\n",
    "RMSE_W_PPR = np.sqrt(np.sum((X - W_PPR(X, A, S, k))**2))\n",
    "RMSE_W_PPRs.append(RMSE_W_PPR)\n",
    "print('W_PPR done')\n",
    "RMSE_Jaccard = np.sqrt(np.sum((X - Jaccard(X, A, S, k))**2))\n",
    "RMSE_Jaccards.append(RMSE_Jaccard)\n",
    "print('Jaccard done')\n",
    "RMSE_CN = np.sqrt(np.sum((X - CN(X, A, S, k))**2))\n",
    "RMSE_CNs.append(RMSE_CN)\n",
    "print('CN done')"
   ]
  },
  {
   "cell_type": "code",
   "execution_count": 87,
   "id": "82da8920",
   "metadata": {
    "ExecuteTime": {
     "end_time": "2022-02-06T12:40:24.720296Z",
     "start_time": "2022-02-06T12:40:24.713299Z"
    }
   },
   "outputs": [],
   "source": [
    "share = 0.7\n",
    "S = np.random.choice(np.arange(n), size=int(n*(1-share)), replace=False)"
   ]
  },
  {
   "cell_type": "code",
   "execution_count": 88,
   "id": "927bc62e",
   "metadata": {
    "ExecuteTime": {
     "end_time": "2022-02-06T12:42:21.601449Z",
     "start_time": "2022-02-06T12:40:26.467338Z"
    }
   },
   "outputs": [
    {
     "name": "stdout",
     "output_type": "stream",
     "text": [
      "NBR done\n",
      "W_PPR done\n",
      "Jaccard done\n",
      "CN done\n"
     ]
    }
   ],
   "source": [
    "RMSE_NBR = np.sqrt(np.sum((X - NBR(X, A, S))**2))\n",
    "RMSE_NBRs.append(RMSE_NBR)\n",
    "print('NBR done')\n",
    "RMSE_W_PPR = np.sqrt(np.sum((X - W_PPR(X, A, S, k))**2))\n",
    "RMSE_W_PPRs.append(RMSE_W_PPR)\n",
    "print('W_PPR done')\n",
    "RMSE_Jaccard = np.sqrt(np.sum((X - Jaccard(X, A, S, k))**2))\n",
    "RMSE_Jaccards.append(RMSE_Jaccard)\n",
    "print('Jaccard done')\n",
    "RMSE_CN = np.sqrt(np.sum((X - CN(X, A, S, k))**2))\n",
    "RMSE_CNs.append(RMSE_CN)\n",
    "print('CN done')"
   ]
  },
  {
   "cell_type": "code",
   "execution_count": 89,
   "id": "76d6b7a2",
   "metadata": {
    "ExecuteTime": {
     "end_time": "2022-02-06T12:42:46.923507Z",
     "start_time": "2022-02-06T12:42:46.908737Z"
    }
   },
   "outputs": [],
   "source": [
    "share = 0.8\n",
    "S = np.random.choice(np.arange(n), size=int(n*(1-share)), replace=False)"
   ]
  },
  {
   "cell_type": "code",
   "execution_count": 90,
   "id": "4ba7a009",
   "metadata": {
    "ExecuteTime": {
     "end_time": "2022-02-06T12:44:43.475308Z",
     "start_time": "2022-02-06T12:42:47.600377Z"
    }
   },
   "outputs": [
    {
     "name": "stdout",
     "output_type": "stream",
     "text": [
      "NBR done\n",
      "W_PPR done\n",
      "Jaccard done\n",
      "CN done\n"
     ]
    }
   ],
   "source": [
    "RMSE_NBR = np.sqrt(np.sum((X - NBR(X, A, S))**2))\n",
    "RMSE_NBRs.append(RMSE_NBR)\n",
    "print('NBR done')\n",
    "RMSE_W_PPR = np.sqrt(np.sum((X - W_PPR(X, A, S, k))**2))\n",
    "RMSE_W_PPRs.append(RMSE_W_PPR)\n",
    "print('W_PPR done')\n",
    "RMSE_Jaccard = np.sqrt(np.sum((X - Jaccard(X, A, S, k))**2))\n",
    "RMSE_Jaccards.append(RMSE_Jaccard)\n",
    "print('Jaccard done')\n",
    "RMSE_CN = np.sqrt(np.sum((X - CN(X, A, S, k))**2))\n",
    "RMSE_CNs.append(RMSE_CN)\n",
    "print('CN done')"
   ]
  },
  {
   "cell_type": "code",
   "execution_count": 91,
   "id": "d7aa1fa6",
   "metadata": {
    "ExecuteTime": {
     "end_time": "2022-02-06T12:44:58.200108Z",
     "start_time": "2022-02-06T12:44:58.188079Z"
    }
   },
   "outputs": [],
   "source": [
    "share = 0.9\n",
    "S = np.random.choice(np.arange(n), size=int(n*(1-share)), replace=False)"
   ]
  },
  {
   "cell_type": "code",
   "execution_count": 92,
   "id": "9f68982a",
   "metadata": {
    "ExecuteTime": {
     "end_time": "2022-02-06T12:47:01.392140Z",
     "start_time": "2022-02-06T12:44:59.006104Z"
    }
   },
   "outputs": [
    {
     "name": "stdout",
     "output_type": "stream",
     "text": [
      "NBR done\n",
      "W_PPR done\n",
      "Jaccard done\n",
      "CN done\n"
     ]
    }
   ],
   "source": [
    "RMSE_NBR = np.sqrt(np.sum((X - NBR(X, A, S))**2))\n",
    "RMSE_NBRs.append(RMSE_NBR)\n",
    "print('NBR done')\n",
    "RMSE_W_PPR = np.sqrt(np.sum((X - W_PPR(X, A, S, k))**2))\n",
    "RMSE_W_PPRs.append(RMSE_W_PPR)\n",
    "print('W_PPR done')\n",
    "RMSE_Jaccard = np.sqrt(np.sum((X - Jaccard(X, A, S, k))**2))\n",
    "RMSE_Jaccards.append(RMSE_Jaccard)\n",
    "print('Jaccard done')\n",
    "RMSE_CN = np.sqrt(np.sum((X - CN(X, A, S, k))**2))\n",
    "RMSE_CNs.append(RMSE_CN)\n",
    "print('CN done')"
   ]
  },
  {
   "cell_type": "code",
   "execution_count": 95,
   "id": "23756d56",
   "metadata": {
    "ExecuteTime": {
     "end_time": "2022-02-06T12:47:16.358114Z",
     "start_time": "2022-02-06T12:47:16.186575Z"
    }
   },
   "outputs": [
    {
     "data": {
      "image/png": "[encoded data removed]",
      "text/plain": [
       "<Figure size 576x288 with 1 Axes>"
      ]
     },
     "metadata": {
      "needs_background": "light"
     },
     "output_type": "display_data"
    }
   ],
   "source": [
    "plt.figure(figsize=(8,4))\n",
    "plt.title('SBM')\n",
    "plt.xlabel('fraction of unknown covariates')\n",
    "plt.ylabel('RMSE')\n",
    "plt.plot([0.5, 0.6, 0.7, 0.8, 0.9], RMSE_NBRs, label='NBR')\n",
    "plt.plot([0.5, 0.6, 0.7, 0.8, 0.9], RMSE_W_PPRs, label='W-PPR')\n",
    "plt.plot([0.5, 0.6, 0.7, 0.8, 0.9], RMSE_Jaccards, label='Jaccard')\n",
    "plt.plot([0.5, 0.6, 0.7, 0.8, 0.9], RMSE_CNs, label='CN')\n",
    "plt.legend();"
   ]
  },
  {
   "cell_type": "markdown",
   "id": "65011f31",
   "metadata": {},
   "source": [
    "### Mixed-membership Stochastic Blockmodel (MMSB)"
   ]
  },
  {
   "cell_type": "code",
   "execution_count": 96,
   "id": "e1986122",
   "metadata": {
    "ExecuteTime": {
     "end_time": "2022-02-06T12:48:57.379352Z",
     "start_time": "2022-02-06T12:48:57.366622Z"
    }
   },
   "outputs": [],
   "source": [
    "Z = np.random.dirichlet(np.ones(5) / 5, (n,))"
   ]
  },
  {
   "cell_type": "code",
   "execution_count": 97,
   "id": "3894310b",
   "metadata": {
    "ExecuteTime": {
     "end_time": "2022-02-06T12:48:57.942323Z",
     "start_time": "2022-02-06T12:48:57.929324Z"
    }
   },
   "outputs": [],
   "source": [
    "theta = np.ones((d,d)) * 0.1\n",
    "np.fill_diagonal(theta, 1)"
   ]
  },
  {
   "cell_type": "code",
   "execution_count": 98,
   "id": "0d111091",
   "metadata": {
    "ExecuteTime": {
     "end_time": "2022-02-06T12:48:58.517421Z",
     "start_time": "2022-02-06T12:48:58.452422Z"
    }
   },
   "outputs": [],
   "source": [
    "rho = 0.1\n",
    "P = np.zeros((n,n))\n",
    "for i in range(n):\n",
    "    P[i] = rho * Z @ (Z[i] @ theta)"
   ]
  },
  {
   "cell_type": "code",
   "execution_count": 99,
   "id": "c3fd1f91",
   "metadata": {
    "ExecuteTime": {
     "end_time": "2022-02-06T12:48:59.208673Z",
     "start_time": "2022-02-06T12:48:58.984531Z"
    }
   },
   "outputs": [],
   "source": [
    "A = np.random.binomial(1, P, (n,n))\n",
    "np.fill_diagonal(A, 0)"
   ]
  },
  {
   "cell_type": "code",
   "execution_count": 100,
   "id": "434441e4",
   "metadata": {
    "ExecuteTime": {
     "end_time": "2022-02-06T12:48:59.910607Z",
     "start_time": "2022-02-06T12:48:59.893481Z"
    }
   },
   "outputs": [],
   "source": [
    "beta = np.random.normal(0, np.sqrt(100), (d,1))\n",
    "X = Z @ beta + np.random.normal(0, .1, (n,1))"
   ]
  },
  {
   "cell_type": "markdown",
   "id": "ac2eb491",
   "metadata": {},
   "source": [
    "#### Available algorithms"
   ]
  },
  {
   "cell_type": "code",
   "execution_count": 101,
   "id": "6de9e0a9",
   "metadata": {
    "ExecuteTime": {
     "end_time": "2022-02-06T12:49:00.753684Z",
     "start_time": "2022-02-06T12:49:00.747669Z"
    }
   },
   "outputs": [],
   "source": [
    "k=10\n",
    "share = 0.5\n",
    "S = np.random.choice(np.arange(n), size=int(n*(1-share)), replace=False)"
   ]
  },
  {
   "cell_type": "code",
   "execution_count": 102,
   "id": "bf38761e",
   "metadata": {
    "ExecuteTime": {
     "end_time": "2022-02-06T12:50:56.287098Z",
     "start_time": "2022-02-06T12:49:01.282394Z"
    }
   },
   "outputs": [
    {
     "name": "stdout",
     "output_type": "stream",
     "text": [
      "NBR done\n",
      "W_PPR done\n",
      "Jaccard done\n",
      "CN done\n"
     ]
    }
   ],
   "source": [
    "RMSE_NBR = np.sqrt(np.sum((X - NBR(X, A, S))**2))\n",
    "print('NBR done')\n",
    "RMSE_W_PPR = np.sqrt(np.sum((X - W_PPR(X, A, S, k))**2))\n",
    "print('W_PPR done')\n",
    "RMSE_Jaccard = np.sqrt(np.sum((X - Jaccard(X, A, S, k))**2))\n",
    "print('Jaccard done')\n",
    "RMSE_CN = np.sqrt(np.sum((X - CN(X, A, S, k))**2))\n",
    "print('CN done')"
   ]
  },
  {
   "cell_type": "code",
   "execution_count": 103,
   "id": "8fa02e77",
   "metadata": {
    "ExecuteTime": {
     "end_time": "2022-02-06T12:50:57.640346Z",
     "start_time": "2022-02-06T12:50:57.630349Z"
    }
   },
   "outputs": [],
   "source": [
    "RMSE_NBRs = [RMSE_NBR]\n",
    "RMSE_W_PPRs = [RMSE_W_PPR]\n",
    "RMSE_Jaccards = [RMSE_Jaccard]\n",
    "RMSE_CNs = [RMSE_CN]"
   ]
  },
  {
   "cell_type": "code",
   "execution_count": 104,
   "id": "3df1db73",
   "metadata": {
    "ExecuteTime": {
     "end_time": "2022-02-06T12:50:58.142199Z",
     "start_time": "2022-02-06T12:50:58.130576Z"
    }
   },
   "outputs": [],
   "source": [
    "share = 0.6\n",
    "S = np.random.choice(np.arange(n), size=int(n*(1-share)), replace=False)"
   ]
  },
  {
   "cell_type": "code",
   "execution_count": 105,
   "id": "905cd49f",
   "metadata": {
    "ExecuteTime": {
     "end_time": "2022-02-06T12:53:00.429264Z",
     "start_time": "2022-02-06T12:50:58.741379Z"
    }
   },
   "outputs": [
    {
     "name": "stdout",
     "output_type": "stream",
     "text": [
      "NBR done\n",
      "W_PPR done\n",
      "Jaccard done\n",
      "CN done\n"
     ]
    }
   ],
   "source": [
    "RMSE_NBR = np.sqrt(np.sum((X - NBR(X, A, S))**2))\n",
    "RMSE_NBRs.append(RMSE_NBR)\n",
    "print('NBR done')\n",
    "RMSE_W_PPR = np.sqrt(np.sum((X - W_PPR(X, A, S, k))**2))\n",
    "RMSE_W_PPRs.append(RMSE_W_PPR)\n",
    "print('W_PPR done')\n",
    "RMSE_Jaccard = np.sqrt(np.sum((X - Jaccard(X, A, S, k))**2))\n",
    "RMSE_Jaccards.append(RMSE_Jaccard)\n",
    "print('Jaccard done')\n",
    "RMSE_CN = np.sqrt(np.sum((X - CN(X, A, S, k))**2))\n",
    "RMSE_CNs.append(RMSE_CN)\n",
    "print('CN done')"
   ]
  },
  {
   "cell_type": "code",
   "execution_count": 106,
   "id": "15735bad",
   "metadata": {
    "ExecuteTime": {
     "end_time": "2022-02-06T12:53:35.521101Z",
     "start_time": "2022-02-06T12:53:35.511081Z"
    }
   },
   "outputs": [],
   "source": [
    "share = 0.7\n",
    "S = np.random.choice(np.arange(n), size=int(n*(1-share)), replace=False)"
   ]
  },
  {
   "cell_type": "code",
   "execution_count": 107,
   "id": "e851afd3",
   "metadata": {
    "ExecuteTime": {
     "end_time": "2022-02-06T12:55:31.410122Z",
     "start_time": "2022-02-06T12:53:36.087903Z"
    }
   },
   "outputs": [
    {
     "name": "stdout",
     "output_type": "stream",
     "text": [
      "NBR done\n",
      "W_PPR done\n",
      "Jaccard done\n",
      "CN done\n"
     ]
    }
   ],
   "source": [
    "RMSE_NBR = np.sqrt(np.sum((X - NBR(X, A, S))**2))\n",
    "RMSE_NBRs.append(RMSE_NBR)\n",
    "print('NBR done')\n",
    "RMSE_W_PPR = np.sqrt(np.sum((X - W_PPR(X, A, S, k))**2))\n",
    "RMSE_W_PPRs.append(RMSE_W_PPR)\n",
    "print('W_PPR done')\n",
    "RMSE_Jaccard = np.sqrt(np.sum((X - Jaccard(X, A, S, k))**2))\n",
    "RMSE_Jaccards.append(RMSE_Jaccard)\n",
    "print('Jaccard done')\n",
    "RMSE_CN = np.sqrt(np.sum((X - CN(X, A, S, k))**2))\n",
    "RMSE_CNs.append(RMSE_CN)\n",
    "print('CN done')"
   ]
  },
  {
   "cell_type": "code",
   "execution_count": 108,
   "id": "fb88d676",
   "metadata": {
    "ExecuteTime": {
     "end_time": "2022-02-06T12:55:42.048277Z",
     "start_time": "2022-02-06T12:55:42.039277Z"
    }
   },
   "outputs": [],
   "source": [
    "share = 0.8\n",
    "S = np.random.choice(np.arange(n), size=int(n*(1-share)), replace=False)"
   ]
  },
  {
   "cell_type": "code",
   "execution_count": 109,
   "id": "2a1a513e",
   "metadata": {
    "ExecuteTime": {
     "end_time": "2022-02-06T12:57:39.680851Z",
     "start_time": "2022-02-06T12:55:42.657607Z"
    }
   },
   "outputs": [
    {
     "name": "stdout",
     "output_type": "stream",
     "text": [
      "NBR done\n",
      "W_PPR done\n",
      "Jaccard done\n",
      "CN done\n"
     ]
    }
   ],
   "source": [
    "RMSE_NBR = np.sqrt(np.sum((X - NBR(X, A, S))**2))\n",
    "RMSE_NBRs.append(RMSE_NBR)\n",
    "print('NBR done')\n",
    "RMSE_W_PPR = np.sqrt(np.sum((X - W_PPR(X, A, S, k))**2))\n",
    "RMSE_W_PPRs.append(RMSE_W_PPR)\n",
    "print('W_PPR done')\n",
    "RMSE_Jaccard = np.sqrt(np.sum((X - Jaccard(X, A, S, k))**2))\n",
    "RMSE_Jaccards.append(RMSE_Jaccard)\n",
    "print('Jaccard done')\n",
    "RMSE_CN = np.sqrt(np.sum((X - CN(X, A, S, k))**2))\n",
    "RMSE_CNs.append(RMSE_CN)\n",
    "print('CN done')"
   ]
  },
  {
   "cell_type": "code",
   "execution_count": 110,
   "id": "8ea39fc7",
   "metadata": {
    "ExecuteTime": {
     "end_time": "2022-02-06T12:57:40.164358Z",
     "start_time": "2022-02-06T12:57:40.154357Z"
    }
   },
   "outputs": [],
   "source": [
    "share = 0.9\n",
    "S = np.random.choice(np.arange(n), size=int(n*(1-share)), replace=False)"
   ]
  },
  {
   "cell_type": "code",
   "execution_count": 111,
   "id": "bb387cb9",
   "metadata": {
    "ExecuteTime": {
     "end_time": "2022-02-06T12:59:35.947363Z",
     "start_time": "2022-02-06T12:57:40.890525Z"
    }
   },
   "outputs": [
    {
     "name": "stdout",
     "output_type": "stream",
     "text": [
      "NBR done\n",
      "W_PPR done\n",
      "Jaccard done\n",
      "CN done\n"
     ]
    }
   ],
   "source": [
    "RMSE_NBR = np.sqrt(np.sum((X - NBR(X, A, S))**2))\n",
    "RMSE_NBRs.append(RMSE_NBR)\n",
    "print('NBR done')\n",
    "RMSE_W_PPR = np.sqrt(np.sum((X - W_PPR(X, A, S, k))**2))\n",
    "RMSE_W_PPRs.append(RMSE_W_PPR)\n",
    "print('W_PPR done')\n",
    "RMSE_Jaccard = np.sqrt(np.sum((X - Jaccard(X, A, S, k))**2))\n",
    "RMSE_Jaccards.append(RMSE_Jaccard)\n",
    "print('Jaccard done')\n",
    "RMSE_CN = np.sqrt(np.sum((X - CN(X, A, S, k))**2))\n",
    "RMSE_CNs.append(RMSE_CN)\n",
    "print('CN done')"
   ]
  },
  {
   "cell_type": "code",
   "execution_count": 117,
   "id": "849a2960",
   "metadata": {
    "ExecuteTime": {
     "end_time": "2022-02-06T13:00:24.076617Z",
     "start_time": "2022-02-06T13:00:23.905334Z"
    }
   },
   "outputs": [
    {
     "data": {
      "image/png": "[encoded data removed]",
      "text/plain": [
       "<Figure size 576x288 with 1 Axes>"
      ]
     },
     "metadata": {
      "needs_background": "light"
     },
     "output_type": "display_data"
    }
   ],
   "source": [
    "plt.figure(figsize=(8,4))\n",
    "plt.title('MMSB')\n",
    "plt.xlabel('fraction of unknown covariates')\n",
    "plt.ylabel('RMSE')\n",
    "plt.plot([0.5, 0.6, 0.7, 0.8, 0.9], RMSE_NBRs, label='NBR')\n",
    "plt.plot([0.5, 0.6, 0.7, 0.8, 0.9], RMSE_W_PPRs, label='W-PPR')\n",
    "plt.plot([0.5, 0.6, 0.7, 0.8, 0.9], RMSE_Jaccards, label='Jaccard')\n",
    "plt.plot([0.5, 0.6, 0.7, 0.8, 0.9], RMSE_CNs, label='CN')\n",
    "plt.legend();"
   ]
  },
  {
   "cell_type": "markdown",
   "id": "e5778a24",
   "metadata": {},
   "source": [
    "### Random Dot Product Graph model (RDPG)"
   ]
  },
  {
   "cell_type": "code",
   "execution_count": 113,
   "id": "2a51b979",
   "metadata": {
    "ExecuteTime": {
     "end_time": "2022-02-06T13:00:12.503261Z",
     "start_time": "2022-02-06T13:00:12.490628Z"
    }
   },
   "outputs": [],
   "source": [
    "Z = np.random.normal(1, np.sqrt(0.1), size=(n, d)) + np.random.normal(2, np.sqrt(0.1), size=(n, d)) + np.random.normal(3, np.sqrt(0.1), size=(n, d)) + np.random.normal(4, np.sqrt(0.1), size=(n, d)) + np.random.normal(5, np.sqrt(0.1), size=(n, d))"
   ]
  },
  {
   "cell_type": "code",
   "execution_count": 114,
   "id": "cfe49cc9",
   "metadata": {
    "ExecuteTime": {
     "end_time": "2022-02-06T13:00:13.250435Z",
     "start_time": "2022-02-06T13:00:13.079280Z"
    }
   },
   "outputs": [],
   "source": [
    "rho = 0.1\n",
    "P = np.zeros((n,n))\n",
    "for i in range(n):\n",
    "    P[i] = np.min(np.stack((np.ones_like(Z @ Z[i]), np.max(np.stack((np.zeros_like(Z @ Z[i]), Z @ Z[i])), axis=0))), axis=0)"
   ]
  },
  {
   "cell_type": "code",
   "execution_count": 115,
   "id": "a8fcae3b",
   "metadata": {
    "ExecuteTime": {
     "end_time": "2022-02-06T13:00:13.797164Z",
     "start_time": "2022-02-06T13:00:13.648263Z"
    }
   },
   "outputs": [],
   "source": [
    "A = np.random.binomial(1, P, (n,n))\n",
    "np.fill_diagonal(A, 0)"
   ]
  },
  {
   "cell_type": "code",
   "execution_count": 116,
   "id": "c1645ec7",
   "metadata": {
    "ExecuteTime": {
     "end_time": "2022-02-06T13:00:14.218182Z",
     "start_time": "2022-02-06T13:00:14.209170Z"
    }
   },
   "outputs": [],
   "source": [
    "beta = np.random.normal(0, np.sqrt(100), (d,1))\n",
    "X = Z @ beta + np.random.normal(0, .1, (n,1))"
   ]
  },
  {
   "cell_type": "markdown",
   "id": "2934df64",
   "metadata": {},
   "source": [
    "#### Available algorithms"
   ]
  },
  {
   "cell_type": "code",
   "execution_count": 101,
   "id": "a26dbb49",
   "metadata": {
    "ExecuteTime": {
     "end_time": "2022-02-06T12:49:00.753684Z",
     "start_time": "2022-02-06T12:49:00.747669Z"
    }
   },
   "outputs": [],
   "source": [
    "k=10\n",
    "share = 0.5\n",
    "S = np.random.choice(np.arange(n), size=int(n*(1-share)), replace=False)"
   ]
  },
  {
   "cell_type": "code",
   "execution_count": null,
   "id": "b22dc161",
   "metadata": {
    "ExecuteTime": {
     "end_time": "2022-02-06T12:50:56.287098Z",
     "start_time": "2022-02-06T12:49:01.282394Z"
    }
   },
   "outputs": [],
   "source": [
    "RMSE_NBR = np.sqrt(np.sum((X - NBR(X, A, S))**2))\n",
    "print('NBR done')\n",
    "RMSE_W_PPR = np.sqrt(np.sum((X - W_PPR(X, A, S, k))**2))\n",
    "print('W_PPR done')\n",
    "RMSE_Jaccard = np.sqrt(np.sum((X - Jaccard(X, A, S, k))**2))\n",
    "print('Jaccard done')\n",
    "RMSE_CN = np.sqrt(np.sum((X - CN(X, A, S, k))**2))\n",
    "print('CN done')"
   ]
  },
  {
   "cell_type": "code",
   "execution_count": 103,
   "id": "963fbaeb",
   "metadata": {
    "ExecuteTime": {
     "end_time": "2022-02-06T12:50:57.640346Z",
     "start_time": "2022-02-06T12:50:57.630349Z"
    }
   },
   "outputs": [],
   "source": [
    "RMSE_NBRs = [RMSE_NBR]\n",
    "RMSE_W_PPRs = [RMSE_W_PPR]\n",
    "RMSE_Jaccards = [RMSE_Jaccard]\n",
    "RMSE_CNs = [RMSE_CN]"
   ]
  },
  {
   "cell_type": "code",
   "execution_count": 104,
   "id": "a54de2d6",
   "metadata": {
    "ExecuteTime": {
     "end_time": "2022-02-06T12:50:58.142199Z",
     "start_time": "2022-02-06T12:50:58.130576Z"
    }
   },
   "outputs": [],
   "source": [
    "share = 0.6\n",
    "S = np.random.choice(np.arange(n), size=int(n*(1-share)), replace=False)"
   ]
  },
  {
   "cell_type": "code",
   "execution_count": null,
   "id": "ed4b9528",
   "metadata": {
    "ExecuteTime": {
     "end_time": "2022-02-06T12:53:00.429264Z",
     "start_time": "2022-02-06T12:50:58.741379Z"
    }
   },
   "outputs": [],
   "source": [
    "RMSE_NBR = np.sqrt(np.sum((X - NBR(X, A, S))**2))\n",
    "RMSE_NBRs.append(RMSE_NBR)\n",
    "print('NBR done')\n",
    "RMSE_W_PPR = np.sqrt(np.sum((X - W_PPR(X, A, S, k))**2))\n",
    "RMSE_W_PPRs.append(RMSE_W_PPR)\n",
    "print('W_PPR done')\n",
    "RMSE_Jaccard = np.sqrt(np.sum((X - Jaccard(X, A, S, k))**2))\n",
    "RMSE_Jaccards.append(RMSE_Jaccard)\n",
    "print('Jaccard done')\n",
    "RMSE_CN = np.sqrt(np.sum((X - CN(X, A, S, k))**2))\n",
    "RMSE_CNs.append(RMSE_CN)\n",
    "print('CN done')"
   ]
  },
  {
   "cell_type": "code",
   "execution_count": 106,
   "id": "9a6b5d04",
   "metadata": {
    "ExecuteTime": {
     "end_time": "2022-02-06T12:53:35.521101Z",
     "start_time": "2022-02-06T12:53:35.511081Z"
    }
   },
   "outputs": [],
   "source": [
    "share = 0.7\n",
    "S = np.random.choice(np.arange(n), size=int(n*(1-share)), replace=False)"
   ]
  },
  {
   "cell_type": "code",
   "execution_count": null,
   "id": "54800fb5",
   "metadata": {
    "ExecuteTime": {
     "end_time": "2022-02-06T12:55:31.410122Z",
     "start_time": "2022-02-06T12:53:36.087903Z"
    }
   },
   "outputs": [],
   "source": [
    "RMSE_NBR = np.sqrt(np.sum((X - NBR(X, A, S))**2))\n",
    "RMSE_NBRs.append(RMSE_NBR)\n",
    "print('NBR done')\n",
    "RMSE_W_PPR = np.sqrt(np.sum((X - W_PPR(X, A, S, k))**2))\n",
    "RMSE_W_PPRs.append(RMSE_W_PPR)\n",
    "print('W_PPR done')\n",
    "RMSE_Jaccard = np.sqrt(np.sum((X - Jaccard(X, A, S, k))**2))\n",
    "RMSE_Jaccards.append(RMSE_Jaccard)\n",
    "print('Jaccard done')\n",
    "RMSE_CN = np.sqrt(np.sum((X - CN(X, A, S, k))**2))\n",
    "RMSE_CNs.append(RMSE_CN)\n",
    "print('CN done')"
   ]
  },
  {
   "cell_type": "code",
   "execution_count": 108,
   "id": "3892ecad",
   "metadata": {
    "ExecuteTime": {
     "end_time": "2022-02-06T12:55:42.048277Z",
     "start_time": "2022-02-06T12:55:42.039277Z"
    }
   },
   "outputs": [],
   "source": [
    "share = 0.8\n",
    "S = np.random.choice(np.arange(n), size=int(n*(1-share)), replace=False)"
   ]
  },
  {
   "cell_type": "code",
   "execution_count": null,
   "id": "b5673177",
   "metadata": {
    "ExecuteTime": {
     "start_time": "2022-02-06T12:55:42.656Z"
    }
   },
   "outputs": [],
   "source": [
    "RMSE_NBR = np.sqrt(np.sum((X - NBR(X, A, S))**2))\n",
    "RMSE_NBRs.append(RMSE_NBR)\n",
    "print('NBR done')\n",
    "RMSE_W_PPR = np.sqrt(np.sum((X - W_PPR(X, A, S, k))**2))\n",
    "RMSE_W_PPRs.append(RMSE_W_PPR)\n",
    "print('W_PPR done')\n",
    "RMSE_Jaccard = np.sqrt(np.sum((X - Jaccard(X, A, S, k))**2))\n",
    "RMSE_Jaccards.append(RMSE_Jaccard)\n",
    "print('Jaccard done')\n",
    "RMSE_CN = np.sqrt(np.sum((X - CN(X, A, S, k))**2))\n",
    "RMSE_CNs.append(RMSE_CN)\n",
    "print('CN done')"
   ]
  },
  {
   "cell_type": "code",
   "execution_count": 91,
   "id": "3eac7003",
   "metadata": {
    "ExecuteTime": {
     "end_time": "2022-02-06T12:44:58.200108Z",
     "start_time": "2022-02-06T12:44:58.188079Z"
    }
   },
   "outputs": [],
   "source": [
    "share = 0.9\n",
    "S = np.random.choice(np.arange(n), size=int(n*(1-share)), replace=False)"
   ]
  },
  {
   "cell_type": "code",
   "execution_count": null,
   "id": "e9f3e633",
   "metadata": {
    "ExecuteTime": {
     "end_time": "2022-02-06T12:47:01.392140Z",
     "start_time": "2022-02-06T12:44:59.006104Z"
    }
   },
   "outputs": [],
   "source": [
    "RMSE_NBR = np.sqrt(np.sum((X - NBR(X, A, S))**2))\n",
    "RMSE_NBRs.append(RMSE_NBR)\n",
    "print('NBR done')\n",
    "RMSE_W_PPR = np.sqrt(np.sum((X - W_PPR(X, A, S, k))**2))\n",
    "RMSE_W_PPRs.append(RMSE_W_PPR)\n",
    "print('W_PPR done')\n",
    "RMSE_Jaccard = np.sqrt(np.sum((X - Jaccard(X, A, S, k))**2))\n",
    "RMSE_Jaccards.append(RMSE_Jaccard)\n",
    "print('Jaccard done')\n",
    "RMSE_CN = np.sqrt(np.sum((X - CN(X, A, S, k))**2))\n",
    "RMSE_CNs.append(RMSE_CN)\n",
    "print('CN done')"
   ]
  },
  {
   "cell_type": "code",
   "execution_count": null,
   "id": "a911c889",
   "metadata": {
    "ExecuteTime": {
     "end_time": "2022-02-06T12:47:16.358114Z",
     "start_time": "2022-02-06T12:47:16.186575Z"
    }
   },
   "outputs": [],
   "source": [
    "plt.figure(figsize=(8,4))\n",
    "plt.title('SBM')\n",
    "plt.xlabel('fraction of unknown covariates')\n",
    "plt.ylabel('RMSE')\n",
    "plt.plot([0.5, 0.6, 0.7, 0.8, 0.9], RMSE_NBRs, label='NBR')\n",
    "plt.plot([0.5, 0.6, 0.7, 0.8, 0.9], RMSE_W_PPRs, label='W-PPR')\n",
    "plt.plot([0.5, 0.6, 0.7, 0.8, 0.9], RMSE_Jaccards, label='Jaccard')\n",
    "plt.plot([0.5, 0.6, 0.7, 0.8, 0.9], RMSE_CNs, label='CN')\n",
    "plt.legend();"
   ]
  }
 ],
 "metadata": {
  "kernelspec": {
   "display_name": "Python 3",
   "language": "python",
   "name": "python3"
  },
  "language_info": {
   "codemirror_mode": {
    "name": "ipython",
    "version": 3
   },
   "file_extension": ".py",
   "mimetype": "text/x-python",
   "name": "python",
   "nbconvert_exporter": "python",
   "pygments_lexer": "ipython3",
   "version": "3.8.8"
  },
  "toc": {
   "base_numbering": 1,
   "nav_menu": {},
   "number_sections": true,
   "sideBar": true,
   "skip_h1_title": false,
   "title_cell": "Table of Contents",
   "title_sidebar": "Contents",
   "toc_cell": false,
   "toc_position": {
    "height": "621.778px",
    "left": "32px",
    "top": "111.139px",
    "width": "341.306px"
   },
   "toc_section_display": true,
   "toc_window_display": true
  },
  "varInspector": {
   "cols": {
    "lenName": 16,
    "lenType": 16,
    "lenVar": 40
   },
   "kernels_config": {
    "python": {
     "delete_cmd_postfix": "",
     "delete_cmd_prefix": "del ",
     "library": "var_list.py",
     "varRefreshCmd": "print(var_dic_list())"
    },
    "r": {
     "delete_cmd_postfix": ") ",
     "delete_cmd_prefix": "rm(",
     "library": "var_list.r",
     "varRefreshCmd": "cat(var_dic_list()) "
    }
   },
   "types_to_exclude": [
    "module",
    "function",
    "builtin_function_or_method",
    "instance",
    "_Feature"
   ],
   "window_display": false
  }
 },
 "nbformat": 4,
 "nbformat_minor": 5
}
