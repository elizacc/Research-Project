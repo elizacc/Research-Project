{
 "cells": [
  {
   "cell_type": "code",
   "execution_count": 84,
   "id": "559da0b1",
   "metadata": {
    "ExecuteTime": {
     "end_time": "2022-02-05T20:56:58.584910Z",
     "start_time": "2022-02-05T20:56:58.509902Z"
    }
   },
   "outputs": [],
   "source": [
    "import numpy as np\n",
    "import requests\n",
    "import networkx as nx\n",
    "import matplotlib.pyplot as plt\n",
    "import node2vec\n",
    "from tqdm import tqdm\n",
    "from gensim.models import Word2Vec"
   ]
  },
  {
   "cell_type": "markdown",
   "id": "ef871447",
   "metadata": {},
   "source": [
    "## Algorithms"
   ]
  },
  {
   "cell_type": "code",
   "execution_count": 87,
   "id": "81a94523",
   "metadata": {
    "ExecuteTime": {
     "end_time": "2022-02-05T20:57:57.118184Z",
     "start_time": "2022-02-05T20:57:57.100156Z"
    }
   },
   "outputs": [],
   "source": [
    "# Algorithm 1\n",
    "def CN_VEC(X, A, S, k):\n",
    "    \"\"\"\n",
    "    X: array, Covariates of all nodes. For nodes which covariates are unknown array contains NaN\n",
    "    A: array, Adjacency matrix of the graph (now weighted)\n",
    "    S: array of indexes, Set of nodes with known covariates\n",
    "    k: number of neighbors\n",
    "    \n",
    "    \"\"\"\n",
    "    all_nodes = set(np.arange(len(A)))\n",
    "    no_cov_nodes = all_nodes - set(S)\n",
    "    X_hat = X.copy()\n",
    "    \n",
    "    for node_i in no_cov_nodes:\n",
    "        dists = []\n",
    "        for node_j in tqdm(S):\n",
    "            C_i = np.delete(A[node_i] @ A, [node_i, node_j])\n",
    "            C_j = np.delete(A[node_j] @ A, [node_i, node_j])\n",
    "            dist = np.sum((C_i**2 - 2) * (C_i >= 2) + (C_j**2 - 2) * (C_j >= 2) - 2 * C_i * C_j)\n",
    "            dists.append(dist)\n",
    "        idxs = np.argsort(dists)[:k]\n",
    "        ktop = np.array(S)[idxs]\n",
    "        X_hat[node_i] = np.mean(X[ktop])\n",
    "        \n",
    "    return X_hat"
   ]
  },
  {
   "cell_type": "code",
   "execution_count": 34,
   "id": "b74dfbde",
   "metadata": {
    "ExecuteTime": {
     "end_time": "2022-02-05T19:07:05.490664Z",
     "start_time": "2022-02-05T19:07:05.480434Z"
    }
   },
   "outputs": [],
   "source": [
    "# Algorithm 2\n",
    "def SVD_RBF(X, A, S, theta, d):\n",
    "    \"\"\"\n",
    "    X: array, Covariates of all nodes. For nodes which covariates are unknown array contains NaN\n",
    "    A: array, Adjacency matrix of the graph (now weighted)\n",
    "    S: array of indexes, Set of nodes with known covariates\n",
    "    theta: bandwidth\n",
    "    d: rank of matrix\n",
    "    \n",
    "    \"\"\"\n",
    "    \n",
    "    U, E, Vh = np.linalg.svd(A, hermitian=True)\n",
    "    U = U[:, :d]\n",
    "    E = E[:d]\n",
    "    V = U * E**(1/2)\n",
    "    \n",
    "    all_nodes = set(np.arange(len(A)))\n",
    "    no_cov_nodes = all_nodes - set(S)\n",
    "    X_hat = X.copy()\n",
    "    \n",
    "    for node_i in no_cov_nodes:\n",
    "        x_hat_num = 0\n",
    "        x_hat_denom = 0\n",
    "        for node_j in S:\n",
    "            x_hat_num += np.exp(-np.linalg.norm(V[node_i] - V[node_j])**2 / 2 / theta**2) * X[node_j]\n",
    "            x_hat_denom += np.exp(-np.linalg.norm(V[node_i] - V[node_j])**2 / 2 / theta**2)\n",
    "        X_hat[node_i] = x_hat_num / x_hat_denom\n",
    "        \n",
    "    return X_hat"
   ]
  },
  {
   "cell_type": "code",
   "execution_count": 35,
   "id": "c8988e69",
   "metadata": {
    "ExecuteTime": {
     "end_time": "2022-02-05T19:07:05.645599Z",
     "start_time": "2022-02-05T19:07:05.639428Z"
    }
   },
   "outputs": [],
   "source": [
    "def NBR(X, A, S):\n",
    "    all_nodes = set(np.arange(len(A)))\n",
    "    no_cov_nodes = all_nodes - set(S)\n",
    "    X_hat = X.copy()\n",
    "    \n",
    "    for node_i in no_cov_nodes:\n",
    "        neighbors = np.array(list(set(np.array(list(all_nodes))[A[node_i]]) - no_cov_nodes))\n",
    "        X_hat[node_i] = np.mean(X[neighbors])\n",
    "        \n",
    "    return X_hat"
   ]
  },
  {
   "cell_type": "code",
   "execution_count": 36,
   "id": "14747cf0",
   "metadata": {
    "ExecuteTime": {
     "end_time": "2022-02-05T19:07:05.833324Z",
     "start_time": "2022-02-05T19:07:05.816085Z"
    }
   },
   "outputs": [],
   "source": [
    "def W_PPR(X, A, S, k):\n",
    "    all_nodes = set(np.arange(len(A)))\n",
    "    no_cov_nodes = all_nodes - set(S)\n",
    "    X_hat = X.copy()\n",
    "    \n",
    "    gamma = np.exp(-.25)\n",
    "    D = np.diag(A @ np.ones(A.shape[0]))\n",
    "    M = (1 - gamma) * np.linalg.inv(np.eye(D.shape[0]) - gamma * A @ np.linalg.inv(D))\n",
    "    W = (M + M.T) / 2\n",
    "    \n",
    "    for node_i in no_cov_nodes:\n",
    "        neighbors = np.argsort(W[node_i])[np.isin(np.argsort(W[node_i]), S)][-k:]\n",
    "        X_hat[node_i] = np.mean(X[neighbors])\n",
    "        \n",
    "    return X_hat"
   ]
  },
  {
   "cell_type": "code",
   "execution_count": 37,
   "id": "f556ff14",
   "metadata": {
    "ExecuteTime": {
     "end_time": "2022-02-05T19:07:05.958238Z",
     "start_time": "2022-02-05T19:07:05.949221Z"
    }
   },
   "outputs": [],
   "source": [
    "def Jaccard(X, A, S, k):\n",
    "    all_nodes = set(np.arange(len(A)))\n",
    "    no_cov_nodes = all_nodes - set(S)\n",
    "    X_hat = X.copy()\n",
    "    \n",
    "    C = A @ A\n",
    "    d = A @ np.ones(A.shape[0]).reshape(-1,1) @ np.ones(A.shape[0]).reshape(1,-1)\n",
    "    W = C / (d + d.T - C)\n",
    "    \n",
    "    for node_i in no_cov_nodes:\n",
    "        neighbors = np.argsort(W[node_i])[np.isin(np.argsort(W[node_i]), S)][-k:]\n",
    "        X_hat[node_i] = np.mean(X[neighbors])\n",
    "        \n",
    "    return X_hat"
   ]
  },
  {
   "cell_type": "code",
   "execution_count": 38,
   "id": "aaf56617",
   "metadata": {
    "ExecuteTime": {
     "end_time": "2022-02-05T19:07:06.112504Z",
     "start_time": "2022-02-05T19:07:06.094607Z"
    }
   },
   "outputs": [],
   "source": [
    "def CN(X, A, S, k):\n",
    "    all_nodes = set(np.arange(len(A)))\n",
    "    no_cov_nodes = all_nodes - set(S)\n",
    "    X_hat = X.copy()\n",
    "    \n",
    "    W = A @ A\n",
    "    \n",
    "    for node_i in no_cov_nodes:\n",
    "        neighbors = np.argsort(W[node_i])[np.isin(np.argsort(W[node_i]), S)][-k:]\n",
    "        X_hat[node_i] = np.mean(X[neighbors])\n",
    "        \n",
    "    return X_hat"
   ]
  },
  {
   "cell_type": "code",
   "execution_count": 39,
   "id": "10a4caba",
   "metadata": {
    "ExecuteTime": {
     "end_time": "2022-02-05T19:07:06.268969Z",
     "start_time": "2022-02-05T19:07:06.259747Z"
    }
   },
   "outputs": [],
   "source": [
    "# https://github.com/aditya-grover/node2vec\n",
    "def learn_embeddings(walks):\n",
    "    '''\n",
    "    Learn embeddings by optimizing the Skipgram objective using SGD.\n",
    "    '''\n",
    "    walks = [list(map(str, walk)) for walk in walks]\n",
    "    model = Word2Vec(walks, vector_size=128, window=10, min_count=0, sg=1, workers=8, epochs=1)\n",
    "    \n",
    "    return model\n",
    "\n",
    "def main(A):\n",
    "    '''\n",
    "    Pipeline for representational learning for all nodes in a graph.\n",
    "    '''\n",
    "    nx_G = nx.from_numpy_array(A)\n",
    "    G = node2vec.Graph(nx_G, False, 1, 1)\n",
    "    G.preprocess_transition_probs()\n",
    "    walks = G.simulate_walks(10, 80)\n",
    "    \n",
    "    return learn_embeddings(walks)\n",
    "    \n",
    "def Node2Vec(X, A, S, theta, k):\n",
    "    all_nodes = set(np.arange(len(A)))\n",
    "    no_cov_nodes = all_nodes - set(S)\n",
    "    X_hat = X.copy()\n",
    "    \n",
    "    embeddings = main(A)\n",
    "    \n",
    "    for node_i in no_cov_nodes:\n",
    "        sims = []\n",
    "        for node_j in S:\n",
    "            sims.append(np.exp(-np.linalg.norm(embeddings.wv[node_i] - embeddings.wv[node_j])**2 / 2 / theta**2))\n",
    "        idxs = np.argsort(sims)[-k:]\n",
    "        ktop = np.array(S)[idxs]\n",
    "        X_hat[node_i] = np.mean(X[ktop])\n",
    "                        \n",
    "    return X_hat"
   ]
  },
  {
   "cell_type": "code",
   "execution_count": 70,
   "id": "80b3cd31",
   "metadata": {
    "ExecuteTime": {
     "end_time": "2022-02-05T19:28:44.174879Z",
     "start_time": "2022-02-05T19:28:44.165876Z"
    }
   },
   "outputs": [],
   "source": [
    "def graph_to_d_atleast2(G):\n",
    "    \"\"\"\n",
    "    This function is used to transform the original graph to a graph with minimum degree at least 2\n",
    "    \"\"\"\n",
    "    N = len(G.nodes)\n",
    "    new_node = N+1\n",
    "    source_list = []\n",
    "    target_list = []\n",
    "    for i in range(1,N+1):\n",
    "        if G.degree[i] == 1:\n",
    "            neigh = list(G.neighbors(i))\n",
    "            source_list = [source_list, i, new_node]\n",
    "            target_list = [target_list, new_node, neigh[0]]\n",
    "            new_node = new_node + 1\n",
    "\n",
    "    G = G.add_edges_from(list(zip(source_list,target_list)))\n",
    "    \n",
    "    return G\n",
    "\n",
    "def graph2lazy_nb_line_graph(G,mode):\n",
    "    \"\"\"\n",
    "    graph2lazy_nb_line_graph is used for transforming an undirected graph to a lazy non-backtracking line graph\n",
    "    which has a 2m by 2m symmetric adjacency matrix. This line graph is constructed by a symmetrication process\n",
    "    that denotes a average sum of non-backtracking transtion matrix and its transpose.\n",
    "    Input:\n",
    "       Data  - The adjacency matrix of original graph\n",
    "       N     - The node number of original graph\n",
    "       M     - The edge number of original graph\n",
    "    Output:\n",
    "      Oriented Line Graph with a sparse 2M *2M matrix\n",
    "    \"\"\"\n",
    "\n",
    "\n",
    "def NOBE(G, d=10):\n",
    "\n",
    "    N = len(G.nodes)\n",
    "\n",
    "    LG = graph_to_d_atleast2(G)\n",
    "    LLG = graph2nb_line_graph(LG, 1)\n",
    "    \n",
    "#     [U,D] = eigs_nodes(LLG,K+1,mode)\n",
    "#     [D,idx] = sort(diag(D),'descend')\n",
    "#     U = U(1:N, idx(2:K+1))"
   ]
  },
  {
   "cell_type": "markdown",
   "id": "e726d45f",
   "metadata": {},
   "source": [
    "### Tests"
   ]
  },
  {
   "cell_type": "markdown",
   "id": "d33b499e",
   "metadata": {},
   "source": [
    "#### Artificial"
   ]
  },
  {
   "cell_type": "code",
   "execution_count": 40,
   "id": "dd92e120",
   "metadata": {
    "ExecuteTime": {
     "end_time": "2022-02-05T19:07:09.563589Z",
     "start_time": "2022-02-05T19:07:09.559590Z"
    }
   },
   "outputs": [],
   "source": [
    "A = np.array([[0,1,1,0],[1,0,1,1],[1,1,0,1],[0,1,1,0]])"
   ]
  },
  {
   "cell_type": "code",
   "execution_count": 41,
   "id": "cc1558b1",
   "metadata": {
    "ExecuteTime": {
     "end_time": "2022-02-05T19:07:10.024242Z",
     "start_time": "2022-02-05T19:07:09.816121Z"
    }
   },
   "outputs": [
    {
     "data": {
      "image/png": "[encoded data removed]",
      "text/plain": [
       "<Figure size 432x288 with 1 Axes>"
      ]
     },
     "metadata": {},
     "output_type": "display_data"
    }
   ],
   "source": [
    "G = nx.from_numpy_array(A)\n",
    "nx.draw_networkx(G)"
   ]
  },
  {
   "cell_type": "code",
   "execution_count": 42,
   "id": "6addc324",
   "metadata": {
    "ExecuteTime": {
     "end_time": "2022-02-05T19:07:10.211255Z",
     "start_time": "2022-02-05T19:07:10.198102Z"
    }
   },
   "outputs": [],
   "source": [
    "X = np.array([np.nan,3,1,np.nan])"
   ]
  },
  {
   "cell_type": "code",
   "execution_count": 50,
   "id": "a5bf64e3",
   "metadata": {
    "ExecuteTime": {
     "end_time": "2022-02-05T19:08:22.303995Z",
     "start_time": "2022-02-05T19:08:22.285566Z"
    }
   },
   "outputs": [
    {
     "data": {
      "text/plain": [
       "array([2., 3., 1., 2.])"
      ]
     },
     "execution_count": 50,
     "metadata": {},
     "output_type": "execute_result"
    }
   ],
   "source": [
    "CN_VEC(X, A, [1,2], 2)"
   ]
  },
  {
   "cell_type": "code",
   "execution_count": 51,
   "id": "0708a449",
   "metadata": {
    "ExecuteTime": {
     "end_time": "2022-02-05T19:08:22.739065Z",
     "start_time": "2022-02-05T19:08:22.726068Z"
    }
   },
   "outputs": [
    {
     "data": {
      "text/plain": [
       "array([2., 3., 1., 2.])"
      ]
     },
     "execution_count": 51,
     "metadata": {},
     "output_type": "execute_result"
    }
   ],
   "source": [
    "SVD_RBF(X, A, [1,2], 1.5, 2)"
   ]
  },
  {
   "cell_type": "code",
   "execution_count": 52,
   "id": "055a246f",
   "metadata": {
    "ExecuteTime": {
     "end_time": "2022-02-05T19:08:23.163497Z",
     "start_time": "2022-02-05T19:08:23.146498Z"
    }
   },
   "outputs": [
    {
     "data": {
      "text/plain": [
       "array([3., 3., 1., 3.])"
      ]
     },
     "execution_count": 52,
     "metadata": {},
     "output_type": "execute_result"
    }
   ],
   "source": [
    "NBR(X, A, [1,2])"
   ]
  },
  {
   "cell_type": "code",
   "execution_count": 53,
   "id": "2d60552a",
   "metadata": {
    "ExecuteTime": {
     "end_time": "2022-02-05T19:08:23.834687Z",
     "start_time": "2022-02-05T19:08:23.817916Z"
    }
   },
   "outputs": [
    {
     "data": {
      "text/plain": [
       "array([2., 3., 1., 2.])"
      ]
     },
     "execution_count": 53,
     "metadata": {},
     "output_type": "execute_result"
    }
   ],
   "source": [
    "W_PPR(X, A, [1,2], 2)"
   ]
  },
  {
   "cell_type": "code",
   "execution_count": 54,
   "id": "972feaf1",
   "metadata": {
    "ExecuteTime": {
     "end_time": "2022-02-05T19:08:24.365564Z",
     "start_time": "2022-02-05T19:08:24.351052Z"
    }
   },
   "outputs": [
    {
     "data": {
      "text/plain": [
       "array([2., 3., 1., 2.])"
      ]
     },
     "execution_count": 54,
     "metadata": {},
     "output_type": "execute_result"
    }
   ],
   "source": [
    "Jaccard(X, A, [1,2], 2)"
   ]
  },
  {
   "cell_type": "code",
   "execution_count": 55,
   "id": "85e9df5f",
   "metadata": {
    "ExecuteTime": {
     "end_time": "2022-02-05T19:08:24.989560Z",
     "start_time": "2022-02-05T19:08:24.972362Z"
    }
   },
   "outputs": [
    {
     "data": {
      "text/plain": [
       "array([2., 3., 1., 2.])"
      ]
     },
     "execution_count": 55,
     "metadata": {},
     "output_type": "execute_result"
    }
   ],
   "source": [
    "CN(X, A, [1,2], 2)"
   ]
  },
  {
   "cell_type": "code",
   "execution_count": 56,
   "id": "d4d3d869",
   "metadata": {
    "ExecuteTime": {
     "end_time": "2022-02-05T19:08:26.002587Z",
     "start_time": "2022-02-05T19:08:25.967992Z"
    }
   },
   "outputs": [
    {
     "name": "stdout",
     "output_type": "stream",
     "text": [
      "Walk iteration:\n",
      "1 / 10\n",
      "2 / 10\n",
      "3 / 10\n",
      "4 / 10\n",
      "5 / 10\n",
      "6 / 10\n",
      "7 / 10\n",
      "8 / 10\n",
      "9 / 10\n",
      "10 / 10\n"
     ]
    },
    {
     "data": {
      "text/plain": [
       "array([2., 3., 1., 2.])"
      ]
     },
     "execution_count": 56,
     "metadata": {},
     "output_type": "execute_result"
    }
   ],
   "source": [
    "Node2Vec(X, A, [1,2], 1.5, 2)"
   ]
  },
  {
   "cell_type": "markdown",
   "id": "4b543783",
   "metadata": {},
   "source": [
    "#### Real"
   ]
  },
  {
   "cell_type": "code",
   "execution_count": 168,
   "id": "92b1d8a7",
   "metadata": {
    "ExecuteTime": {
     "end_time": "2022-01-24T16:15:00.850146Z",
     "start_time": "2022-01-24T16:15:00.490552Z"
    }
   },
   "outputs": [],
   "source": [
    "url = 'https://raw.githubusercontent.com/network-science-course/network-science-course/main/datasets/the_matrix_graph.gexf'\n",
    "open('the_matrix_graph.gexf', 'wb').write(requests.get(url).content);"
   ]
  },
  {
   "cell_type": "code",
   "execution_count": 169,
   "id": "9e26bb41",
   "metadata": {
    "ExecuteTime": {
     "end_time": "2022-01-24T16:15:01.417796Z",
     "start_time": "2022-01-24T16:15:01.233797Z"
    }
   },
   "outputs": [
    {
     "data": {
      "image/png": "[encoded data removed]",
      "text/plain": [
       "<Figure size 936x504 with 1 Axes>"
      ]
     },
     "metadata": {},
     "output_type": "display_data"
    }
   ],
   "source": [
    "def get_matrix_graph():\n",
    "    G = nx.read_gexf('the_matrix_graph.gexf')\n",
    "    mapping = {}\n",
    "    for node in G.nodes:\n",
    "        mapping[node] = G.nodes[node]['label']\n",
    "    G = nx.relabel_nodes(G, mapping)\n",
    "    return G\n",
    "matrixG = get_matrix_graph()\n",
    "plt.figure(figsize=(13, 7))\n",
    "layout = nx.kamada_kawai_layout(matrixG)\n",
    "nx.draw_networkx(matrixG, pos=layout)"
   ]
  },
  {
   "cell_type": "code",
   "execution_count": 170,
   "id": "c77e721c",
   "metadata": {
    "ExecuteTime": {
     "end_time": "2022-01-24T16:15:01.903425Z",
     "start_time": "2022-01-24T16:15:01.893427Z"
    }
   },
   "outputs": [],
   "source": [
    "A = nx.linalg.adjacency_matrix(matrixG).toarray()"
   ]
  },
  {
   "cell_type": "code",
   "execution_count": 171,
   "id": "a07ed026",
   "metadata": {
    "ExecuteTime": {
     "end_time": "2022-01-24T16:15:02.650613Z",
     "start_time": "2022-01-24T16:15:02.646633Z"
    }
   },
   "outputs": [],
   "source": [
    "A = (A > 0).astype(int)"
   ]
  },
  {
   "cell_type": "code",
   "execution_count": 159,
   "id": "6bd7723f",
   "metadata": {
    "ExecuteTime": {
     "end_time": "2022-01-24T16:13:40.565655Z",
     "start_time": "2022-01-24T16:13:40.556640Z"
    }
   },
   "outputs": [
    {
     "data": {
      "text/plain": [
       "array([3.66666667, 4.        , 3.66666667, 4.        , 3.        ,\n",
       "       3.66666667, 3.66666667, 3.66666667, 3.66666667, 3.66666667,\n",
       "       3.66666667, 3.66666667, 3.66666667, 3.66666667, 3.66666667,\n",
       "       3.66666667, 3.66666667, 3.66666667, 3.66666667, 3.66666667,\n",
       "       3.66666667, 3.66666667, 3.66666667, 3.66666667, 3.66666667,\n",
       "       3.66666667, 3.66666667, 3.66666667, 3.66666667, 3.66666667,\n",
       "       3.66666667])"
      ]
     },
     "execution_count": 159,
     "metadata": {},
     "output_type": "execute_result"
    }
   ],
   "source": [
    "CN_VEC(np.array(list(nx.get_node_attributes(matrixG, 'Eccentricity').values())), A, [1,3,4], 5)"
   ]
  },
  {
   "cell_type": "code",
   "execution_count": 173,
   "id": "0fd15956",
   "metadata": {
    "ExecuteTime": {
     "end_time": "2022-01-24T16:15:05.522146Z",
     "start_time": "2022-01-24T16:15:05.499144Z"
    }
   },
   "outputs": [
    {
     "data": {
      "text/plain": [
       "array([3.7221194 , 4.        , 3.69749884, 4.        , 3.        ,\n",
       "       3.59475274, 3.6803777 , 3.6803777 , 3.62806509, 3.67083882,\n",
       "       3.70903321, 3.68665244, 3.71082671, 3.68228056, 3.67567637,\n",
       "       3.69830543, 3.59475274, 3.648734  , 3.7036423 , 3.70700707,\n",
       "       3.71517701, 3.6906273 , 3.70065743, 3.70700707, 3.70614916,\n",
       "       3.71500653, 3.62244381, 3.69013034, 3.59679855, 3.66130606,\n",
       "       3.68228056])"
      ]
     },
     "execution_count": 173,
     "metadata": {},
     "output_type": "execute_result"
    }
   ],
   "source": [
    "SVD_RBF(np.array(list(nx.get_node_attributes(matrixG, 'Eccentricity').values())), A, [1,3,4], 1.5, 4)"
   ]
  },
  {
   "cell_type": "markdown",
   "id": "0f8a534c",
   "metadata": {},
   "source": [
    "## Experiments"
   ]
  },
  {
   "cell_type": "code",
   "execution_count": 71,
   "id": "9a707360",
   "metadata": {
    "ExecuteTime": {
     "end_time": "2022-02-05T19:31:58.785013Z",
     "start_time": "2022-02-05T19:31:58.777016Z"
    }
   },
   "outputs": [],
   "source": [
    "n = 2500\n",
    "d = 5"
   ]
  },
  {
   "cell_type": "markdown",
   "id": "064212dd",
   "metadata": {},
   "source": [
    "### Latent Space Model (LSM)"
   ]
  },
  {
   "cell_type": "code",
   "execution_count": 72,
   "id": "73af5648",
   "metadata": {
    "ExecuteTime": {
     "end_time": "2022-02-05T19:31:59.451874Z",
     "start_time": "2022-02-05T19:31:59.432466Z"
    }
   },
   "outputs": [],
   "source": [
    "Z = np.random.uniform(0, 1, size=(n, d))"
   ]
  },
  {
   "cell_type": "code",
   "execution_count": 73,
   "id": "87f35ed3",
   "metadata": {
    "ExecuteTime": {
     "end_time": "2022-02-05T19:31:59.938038Z",
     "start_time": "2022-02-05T19:31:59.730364Z"
    }
   },
   "outputs": [],
   "source": [
    "rho = 1\n",
    "P = np.zeros((n,n))\n",
    "for i in range(n):\n",
    "    P[i] = rho / (1 + np.exp(2.5 * np.sqrt(np.sum((Z - Z[i])**2, axis=1))))"
   ]
  },
  {
   "cell_type": "code",
   "execution_count": 74,
   "id": "9d8ecb4f",
   "metadata": {
    "ExecuteTime": {
     "end_time": "2022-02-05T19:32:00.418603Z",
     "start_time": "2022-02-05T19:32:00.092634Z"
    }
   },
   "outputs": [],
   "source": [
    "A = np.random.binomial(1, P, (n,n))\n",
    "np.fill_diagonal(A, 0)"
   ]
  },
  {
   "cell_type": "code",
   "execution_count": 75,
   "id": "22be76cd",
   "metadata": {
    "ExecuteTime": {
     "end_time": "2022-02-05T19:32:01.746896Z",
     "start_time": "2022-02-05T19:32:01.742156Z"
    }
   },
   "outputs": [],
   "source": [
    "beta = np.random.normal(0, np.sqrt(100), (d,1))\n",
    "X = Z @ beta + np.random.normal(0, .1, (n,1))"
   ]
  },
  {
   "cell_type": "code",
   "execution_count": 79,
   "id": "65834870",
   "metadata": {
    "ExecuteTime": {
     "end_time": "2022-02-05T19:33:15.649722Z",
     "start_time": "2022-02-05T19:33:15.633169Z"
    }
   },
   "outputs": [],
   "source": [
    "share = 0.5\n",
    "S = np.random.choice(np.arange(n), size=int(n*(1-share)), replace=False)"
   ]
  },
  {
   "cell_type": "code",
   "execution_count": 88,
   "id": "41bb8092",
   "metadata": {
    "ExecuteTime": {
     "end_time": "2022-02-05T20:59:01.932275Z",
     "start_time": "2022-02-05T20:58:00.407979Z"
    }
   },
   "outputs": [
    {
     "name": "stderr",
     "output_type": "stream",
     "text": [
      "100%|██████████████████████████████████████████████████████████████████████████████| 1250/1250 [00:58<00:00, 21.29it/s]\n",
      "  4%|███▌                                                                            | 56/1250 [00:02<00:59, 20.23it/s]\n"
     ]
    },
    {
     "ename": "KeyboardInterrupt",
     "evalue": "",
     "output_type": "error",
     "traceback": [
      "\u001b[1;31m---------------------------------------------------------------------------\u001b[0m",
      "\u001b[1;31mKeyboardInterrupt\u001b[0m                         Traceback (most recent call last)",
      "\u001b[1;32m<ipython-input-88-f1150508ed4f>\u001b[0m in \u001b[0;36m<module>\u001b[1;34m\u001b[0m\n\u001b[0;32m      1\u001b[0m \u001b[0mk\u001b[0m \u001b[1;33m=\u001b[0m \u001b[1;36m10\u001b[0m\u001b[1;33m\u001b[0m\u001b[1;33m\u001b[0m\u001b[0m\n\u001b[1;32m----> 2\u001b[1;33m \u001b[0mRMSE_CN_VEC\u001b[0m \u001b[1;33m=\u001b[0m \u001b[0mnp\u001b[0m\u001b[1;33m.\u001b[0m\u001b[0msqrt\u001b[0m\u001b[1;33m(\u001b[0m\u001b[0mnp\u001b[0m\u001b[1;33m.\u001b[0m\u001b[0msum\u001b[0m\u001b[1;33m(\u001b[0m\u001b[1;33m(\u001b[0m\u001b[0mX\u001b[0m \u001b[1;33m-\u001b[0m \u001b[0mCN_VEC\u001b[0m\u001b[1;33m(\u001b[0m\u001b[0mX\u001b[0m\u001b[1;33m,\u001b[0m \u001b[0mA\u001b[0m\u001b[1;33m,\u001b[0m \u001b[0mS\u001b[0m\u001b[1;33m,\u001b[0m \u001b[0mk\u001b[0m\u001b[1;33m)\u001b[0m\u001b[1;33m)\u001b[0m\u001b[1;33m**\u001b[0m\u001b[1;36m2\u001b[0m\u001b[1;33m)\u001b[0m\u001b[1;33m)\u001b[0m\u001b[1;33m\u001b[0m\u001b[1;33m\u001b[0m\u001b[0m\n\u001b[0m\u001b[0;32m      3\u001b[0m \u001b[0mprint\u001b[0m\u001b[1;33m(\u001b[0m\u001b[1;34m'CN_VEC done'\u001b[0m\u001b[1;33m)\u001b[0m\u001b[1;33m\u001b[0m\u001b[1;33m\u001b[0m\u001b[0m\n\u001b[0;32m      4\u001b[0m \u001b[0mRMSE_SVD_RBF\u001b[0m \u001b[1;33m=\u001b[0m \u001b[0mnp\u001b[0m\u001b[1;33m.\u001b[0m\u001b[0msqrt\u001b[0m\u001b[1;33m(\u001b[0m\u001b[0mnp\u001b[0m\u001b[1;33m.\u001b[0m\u001b[0msum\u001b[0m\u001b[1;33m(\u001b[0m\u001b[1;33m(\u001b[0m\u001b[0mX\u001b[0m \u001b[1;33m-\u001b[0m \u001b[0mSVD_RBF\u001b[0m\u001b[1;33m(\u001b[0m\u001b[0mX\u001b[0m\u001b[1;33m,\u001b[0m \u001b[0mA\u001b[0m\u001b[1;33m,\u001b[0m \u001b[0mS\u001b[0m\u001b[1;33m,\u001b[0m \u001b[1;33m(\u001b[0m\u001b[0mnp\u001b[0m\u001b[1;33m.\u001b[0m\u001b[0mlog\u001b[0m\u001b[1;33m(\u001b[0m\u001b[0mn\u001b[0m\u001b[1;33m)\u001b[0m\u001b[1;33m)\u001b[0m\u001b[1;33m**\u001b[0m\u001b[1;33m(\u001b[0m\u001b[1;36m3\u001b[0m\u001b[1;33m/\u001b[0m\u001b[0mk\u001b[0m\u001b[1;33m)\u001b[0m \u001b[1;33m/\u001b[0m \u001b[0mn\u001b[0m\u001b[1;33m**\u001b[0m\u001b[1;33m(\u001b[0m\u001b[1;36m1\u001b[0m \u001b[1;33m/\u001b[0m \u001b[1;36m2\u001b[0m \u001b[1;33m/\u001b[0m \u001b[1;33m(\u001b[0m\u001b[0mk\u001b[0m\u001b[1;33m+\u001b[0m\u001b[1;36m1\u001b[0m\u001b[1;33m)\u001b[0m\u001b[1;33m)\u001b[0m\u001b[1;33m,\u001b[0m \u001b[0mk\u001b[0m\u001b[1;33m)\u001b[0m\u001b[1;33m)\u001b[0m\u001b[1;33m**\u001b[0m\u001b[1;36m2\u001b[0m\u001b[1;33m)\u001b[0m\u001b[1;33m)\u001b[0m\u001b[1;33m\u001b[0m\u001b[1;33m\u001b[0m\u001b[0m\n\u001b[0;32m      5\u001b[0m \u001b[0mprint\u001b[0m\u001b[1;33m(\u001b[0m\u001b[1;34m'SVD_RBF done'\u001b[0m\u001b[1;33m)\u001b[0m\u001b[1;33m\u001b[0m\u001b[1;33m\u001b[0m\u001b[0m\n",
      "\u001b[1;32m<ipython-input-87-db66103af4e2>\u001b[0m in \u001b[0;36mCN_VEC\u001b[1;34m(X, A, S, k)\u001b[0m\n\u001b[0;32m     15\u001b[0m         \u001b[0mdists\u001b[0m \u001b[1;33m=\u001b[0m \u001b[1;33m[\u001b[0m\u001b[1;33m]\u001b[0m\u001b[1;33m\u001b[0m\u001b[1;33m\u001b[0m\u001b[0m\n\u001b[0;32m     16\u001b[0m         \u001b[1;32mfor\u001b[0m \u001b[0mnode_j\u001b[0m \u001b[1;32min\u001b[0m \u001b[0mtqdm\u001b[0m\u001b[1;33m(\u001b[0m\u001b[0mS\u001b[0m\u001b[1;33m)\u001b[0m\u001b[1;33m:\u001b[0m\u001b[1;33m\u001b[0m\u001b[1;33m\u001b[0m\u001b[0m\n\u001b[1;32m---> 17\u001b[1;33m             \u001b[0mC_i\u001b[0m \u001b[1;33m=\u001b[0m \u001b[0mnp\u001b[0m\u001b[1;33m.\u001b[0m\u001b[0mdelete\u001b[0m\u001b[1;33m(\u001b[0m\u001b[0mA\u001b[0m\u001b[1;33m[\u001b[0m\u001b[0mnode_i\u001b[0m\u001b[1;33m]\u001b[0m \u001b[1;33m@\u001b[0m \u001b[0mA\u001b[0m\u001b[1;33m,\u001b[0m \u001b[1;33m[\u001b[0m\u001b[0mnode_i\u001b[0m\u001b[1;33m,\u001b[0m \u001b[0mnode_j\u001b[0m\u001b[1;33m]\u001b[0m\u001b[1;33m)\u001b[0m\u001b[1;33m\u001b[0m\u001b[1;33m\u001b[0m\u001b[0m\n\u001b[0m\u001b[0;32m     18\u001b[0m             \u001b[0mC_j\u001b[0m \u001b[1;33m=\u001b[0m \u001b[0mnp\u001b[0m\u001b[1;33m.\u001b[0m\u001b[0mdelete\u001b[0m\u001b[1;33m(\u001b[0m\u001b[0mA\u001b[0m\u001b[1;33m[\u001b[0m\u001b[0mnode_j\u001b[0m\u001b[1;33m]\u001b[0m \u001b[1;33m@\u001b[0m \u001b[0mA\u001b[0m\u001b[1;33m,\u001b[0m \u001b[1;33m[\u001b[0m\u001b[0mnode_i\u001b[0m\u001b[1;33m,\u001b[0m \u001b[0mnode_j\u001b[0m\u001b[1;33m]\u001b[0m\u001b[1;33m)\u001b[0m\u001b[1;33m\u001b[0m\u001b[1;33m\u001b[0m\u001b[0m\n\u001b[0;32m     19\u001b[0m             \u001b[0mdist\u001b[0m \u001b[1;33m=\u001b[0m \u001b[0mnp\u001b[0m\u001b[1;33m.\u001b[0m\u001b[0msum\u001b[0m\u001b[1;33m(\u001b[0m\u001b[1;33m(\u001b[0m\u001b[0mC_i\u001b[0m\u001b[1;33m**\u001b[0m\u001b[1;36m2\u001b[0m \u001b[1;33m-\u001b[0m \u001b[1;36m2\u001b[0m\u001b[1;33m)\u001b[0m \u001b[1;33m*\u001b[0m \u001b[1;33m(\u001b[0m\u001b[0mC_i\u001b[0m \u001b[1;33m>=\u001b[0m \u001b[1;36m2\u001b[0m\u001b[1;33m)\u001b[0m \u001b[1;33m+\u001b[0m \u001b[1;33m(\u001b[0m\u001b[0mC_j\u001b[0m\u001b[1;33m**\u001b[0m\u001b[1;36m2\u001b[0m \u001b[1;33m-\u001b[0m \u001b[1;36m2\u001b[0m\u001b[1;33m)\u001b[0m \u001b[1;33m*\u001b[0m \u001b[1;33m(\u001b[0m\u001b[0mC_j\u001b[0m \u001b[1;33m>=\u001b[0m \u001b[1;36m2\u001b[0m\u001b[1;33m)\u001b[0m \u001b[1;33m-\u001b[0m \u001b[1;36m2\u001b[0m \u001b[1;33m*\u001b[0m \u001b[0mC_i\u001b[0m \u001b[1;33m*\u001b[0m \u001b[0mC_j\u001b[0m\u001b[1;33m)\u001b[0m\u001b[1;33m\u001b[0m\u001b[1;33m\u001b[0m\u001b[0m\n",
      "\u001b[1;31mKeyboardInterrupt\u001b[0m: "
     ]
    }
   ],
   "source": [
    "k = 10\n",
    "RMSE_CN_VEC = np.sqrt(np.sum((X - CN_VEC(X, A, S, k))**2))\n",
    "print('CN_VEC done')\n",
    "RMSE_SVD_RBF = np.sqrt(np.sum((X - SVD_RBF(X, A, S, (np.log(n))**(3/k) / n**(1 / 2 / (k+1)), k))**2))\n",
    "print('SVD_RBF done')\n",
    "RMSE_NBR = np.sqrt(np.sum((X - NBR(X, A, S))**2))\n",
    "print('NBR done')\n",
    "RMSE_W_PPR = np.sqrt(np.sum((X - W_PPR(X, A, S, k))**2))\n",
    "print('W_PPR done')\n",
    "RMSE_Jaccard = np.sqrt(np.sum((X - Jaccard(X, A, S, k))**2))\n",
    "print('Jaccard done')\n",
    "RMSE_CN = np.sqrt(np.sum((X - CN(X, A, S, k))**2))\n",
    "print('CN done')\n",
    "RMSE_Node2Vec = np.sqrt(np.sum((X - Node2Vec(X, A, S, (np.log(n))**(3/k) / n**(1 / 2 / (k+1)), k))**2))\n",
    "print('Node2Vec done')"
   ]
  },
  {
   "cell_type": "markdown",
   "id": "3cf11803",
   "metadata": {},
   "source": [
    "### Stochastic Blockmodel (SBM)"
   ]
  },
  {
   "cell_type": "code",
   "execution_count": 82,
   "id": "2f5d2595",
   "metadata": {
    "ExecuteTime": {
     "end_time": "2022-02-03T18:04:32.103808Z",
     "start_time": "2022-02-03T18:04:32.095794Z"
    }
   },
   "outputs": [],
   "source": [
    "Z0 = np.array([np.eye(d)[0]] * (n // 5))\n",
    "Z1 = np.array([np.eye(d)[1]] * (n // 5))\n",
    "Z2 = np.array([np.eye(d)[2]] * (n // 5))\n",
    "Z3 = np.array([np.eye(d)[3]] * (n // 5))\n",
    "Z4 = np.array([np.eye(d)[4]] * (n // 5))\n",
    "Z = np.concatenate([Z0, Z1, Z2, Z3, Z4])"
   ]
  },
  {
   "cell_type": "code",
   "execution_count": 80,
   "id": "4557b1ef",
   "metadata": {
    "ExecuteTime": {
     "end_time": "2022-02-03T18:03:39.038268Z",
     "start_time": "2022-02-03T18:03:39.030265Z"
    }
   },
   "outputs": [],
   "source": [
    "theta = np.random.uniform(0, 1, (d,d))\n",
    "theta = (theta + theta.T + 2 * np.eye(d)) / 4"
   ]
  },
  {
   "cell_type": "code",
   "execution_count": 95,
   "id": "e3df612d",
   "metadata": {
    "ExecuteTime": {
     "end_time": "2022-02-03T18:06:23.482958Z",
     "start_time": "2022-02-03T18:06:23.422946Z"
    }
   },
   "outputs": [],
   "source": [
    "rho = 0.1\n",
    "P = np.zeros((n,n))\n",
    "for i in range(n):\n",
    "    P[i] = rho * Z @ (Z[i] @ theta)"
   ]
  },
  {
   "cell_type": "code",
   "execution_count": 96,
   "id": "750872b4",
   "metadata": {
    "ExecuteTime": {
     "end_time": "2022-02-03T18:06:36.813019Z",
     "start_time": "2022-02-03T18:06:36.621856Z"
    }
   },
   "outputs": [],
   "source": [
    "A = np.random.binomial(1, P, (n,n))\n",
    "np.fill_diagonal(A, 0)"
   ]
  },
  {
   "cell_type": "code",
   "execution_count": 97,
   "id": "06070576",
   "metadata": {
    "ExecuteTime": {
     "end_time": "2022-02-03T18:06:45.361079Z",
     "start_time": "2022-02-03T18:06:45.348027Z"
    }
   },
   "outputs": [],
   "source": [
    "beta = np.random.normal(0, np.sqrt(100), (d,1))\n",
    "X = Z @ beta + np.random.normal(0, .1, (n,1))"
   ]
  },
  {
   "cell_type": "markdown",
   "id": "65011f31",
   "metadata": {},
   "source": [
    "### Mixed-membership Stochastic Blockmodel (MMSB)"
   ]
  },
  {
   "cell_type": "code",
   "execution_count": 143,
   "id": "e1986122",
   "metadata": {
    "ExecuteTime": {
     "end_time": "2022-02-03T18:21:05.169266Z",
     "start_time": "2022-02-03T18:21:05.161264Z"
    }
   },
   "outputs": [],
   "source": [
    "Z = np.random.dirichlet(np.ones(5) / 5, (n,))"
   ]
  },
  {
   "cell_type": "code",
   "execution_count": 144,
   "id": "3894310b",
   "metadata": {
    "ExecuteTime": {
     "end_time": "2022-02-03T18:21:05.359265Z",
     "start_time": "2022-02-03T18:21:05.347262Z"
    }
   },
   "outputs": [],
   "source": [
    "theta = np.ones((d,d)) * 0.1\n",
    "np.fill_diagonal(theta, 1)"
   ]
  },
  {
   "cell_type": "code",
   "execution_count": 145,
   "id": "0d111091",
   "metadata": {
    "ExecuteTime": {
     "end_time": "2022-02-03T18:21:05.611263Z",
     "start_time": "2022-02-03T18:21:05.541273Z"
    }
   },
   "outputs": [],
   "source": [
    "rho = 0.1\n",
    "P = np.zeros((n,n))\n",
    "for i in range(n):\n",
    "    P[i] = rho * Z @ (Z[i] @ theta)"
   ]
  },
  {
   "cell_type": "code",
   "execution_count": 146,
   "id": "c3fd1f91",
   "metadata": {
    "ExecuteTime": {
     "end_time": "2022-02-03T18:21:06.299360Z",
     "start_time": "2022-02-03T18:21:06.007345Z"
    }
   },
   "outputs": [],
   "source": [
    "A = np.random.binomial(1, P, (n,n))\n",
    "np.fill_diagonal(A, 0)"
   ]
  },
  {
   "cell_type": "code",
   "execution_count": 147,
   "id": "434441e4",
   "metadata": {
    "ExecuteTime": {
     "end_time": "2022-02-03T18:21:06.347349Z",
     "start_time": "2022-02-03T18:21:06.335357Z"
    }
   },
   "outputs": [],
   "source": [
    "beta = np.random.normal(0, np.sqrt(100), (d,1))\n",
    "X = Z @ beta + np.random.normal(0, .1, (n,1))"
   ]
  },
  {
   "cell_type": "markdown",
   "id": "e5778a24",
   "metadata": {},
   "source": [
    "### Random Dot Product Graph model (RDPG)"
   ]
  },
  {
   "cell_type": "code",
   "execution_count": 127,
   "id": "2a51b979",
   "metadata": {
    "ExecuteTime": {
     "end_time": "2022-02-03T18:14:49.692273Z",
     "start_time": "2022-02-03T18:14:49.686253Z"
    }
   },
   "outputs": [],
   "source": [
    "Z = np.random.normal(1, np.sqrt(0.1), size=(n, d)) + np.random.normal(2, np.sqrt(0.1), size=(n, d)) + np.random.normal(3, np.sqrt(0.1), size=(n, d)) + np.random.normal(4, np.sqrt(0.1), size=(n, d)) + np.random.normal(5, np.sqrt(0.1), size=(n, d))"
   ]
  },
  {
   "cell_type": "code",
   "execution_count": 120,
   "id": "cfe49cc9",
   "metadata": {
    "ExecuteTime": {
     "end_time": "2022-02-03T18:14:07.825423Z",
     "start_time": "2022-02-03T18:14:07.658405Z"
    }
   },
   "outputs": [],
   "source": [
    "rho = 0.1\n",
    "P = np.zeros((n,n))\n",
    "for i in range(n):\n",
    "    P[i] = np.min(np.stack((np.ones_like(Z @ Z[i]), np.max(np.stack((np.zeros_like(Z @ Z[i]), Z @ Z[i])), axis=0))), axis=0)"
   ]
  },
  {
   "cell_type": "code",
   "execution_count": 121,
   "id": "a8fcae3b",
   "metadata": {
    "ExecuteTime": {
     "end_time": "2022-02-03T18:14:08.170572Z",
     "start_time": "2022-02-03T18:14:08.003575Z"
    }
   },
   "outputs": [],
   "source": [
    "A = np.random.binomial(1, P, (n,n))\n",
    "np.fill_diagonal(A, 0)"
   ]
  },
  {
   "cell_type": "code",
   "execution_count": 122,
   "id": "c1645ec7",
   "metadata": {
    "ExecuteTime": {
     "end_time": "2022-02-03T18:14:08.329572Z",
     "start_time": "2022-02-03T18:14:08.322583Z"
    }
   },
   "outputs": [],
   "source": [
    "beta = np.random.normal(0, np.sqrt(100), (d,1))\n",
    "X = Z @ beta + np.random.normal(0, .1, (n,1))"
   ]
  }
 ],
 "metadata": {
  "kernelspec": {
   "display_name": "Python 3",
   "language": "python",
   "name": "python3"
  },
  "language_info": {
   "codemirror_mode": {
    "name": "ipython",
    "version": 3
   },
   "file_extension": ".py",
   "mimetype": "text/x-python",
   "name": "python",
   "nbconvert_exporter": "python",
   "pygments_lexer": "ipython3",
   "version": "3.8.8"
  },
  "toc": {
   "base_numbering": 1,
   "nav_menu": {},
   "number_sections": true,
   "sideBar": true,
   "skip_h1_title": false,
   "title_cell": "Table of Contents",
   "title_sidebar": "Contents",
   "toc_cell": false,
   "toc_position": {
    "height": "calc(100% - 180px)",
    "left": "10px",
    "top": "150px",
    "width": "341.319px"
   },
   "toc_section_display": true,
   "toc_window_display": true
  },
  "varInspector": {
   "cols": {
    "lenName": 16,
    "lenType": 16,
    "lenVar": 40
   },
   "kernels_config": {
    "python": {
     "delete_cmd_postfix": "",
     "delete_cmd_prefix": "del ",
     "library": "var_list.py",
     "varRefreshCmd": "print(var_dic_list())"
    },
    "r": {
     "delete_cmd_postfix": ") ",
     "delete_cmd_prefix": "rm(",
     "library": "var_list.r",
     "varRefreshCmd": "cat(var_dic_list()) "
    }
   },
   "types_to_exclude": [
    "module",
    "function",
    "builtin_function_or_method",
    "instance",
    "_Feature"
   ],
   "window_display": false
  }
 },
 "nbformat": 4,
 "nbformat_minor": 5
}
