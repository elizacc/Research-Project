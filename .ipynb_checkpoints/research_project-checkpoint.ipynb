{
 "cells": [
  {
   "cell_type": "code",
   "execution_count": 1,
   "id": "559da0b1",
   "metadata": {
    "ExecuteTime": {
     "end_time": "2022-05-04T17:52:07.532134Z",
     "start_time": "2022-05-04T17:51:50.403334Z"
    }
   },
   "outputs": [
    {
     "name": "stderr",
     "output_type": "stream",
     "text": [
      "C:\\Users\\Liza\\anaconda3\\lib\\site-packages\\gensim\\similarities\\__init__.py:15: UserWarning: The gensim.similarities.levenshtein submodule is disabled, because the optional Levenshtein package <https://pypi.org/project/python-Levenshtein/> is unavailable. Install Levenhstein (e.g. `pip install python-Levenshtein`) to suppress this warning.\n",
      "  warnings.warn(msg)\n"
     ]
    }
   ],
   "source": [
    "import numpy as np\n",
    "import pandas as pd\n",
    "import requests\n",
    "import networkx as nx\n",
    "import matplotlib.pyplot as plt\n",
    "import seaborn as sns\n",
    "import node2vec\n",
    "from tqdm.notebook import tqdm\n",
    "from gensim.models import Word2Vec\n",
    "from sklearn.metrics.pairwise import rbf_kernel\n",
    "from sklearn.metrics import mean_squared_error\n",
    "from scipy.sparse import csr_matrix, diags\n",
    "from scipy.sparse.linalg import eigs"
   ]
  },
  {
   "cell_type": "markdown",
   "id": "ef871447",
   "metadata": {},
   "source": [
    "## Algorithms"
   ]
  },
  {
   "cell_type": "code",
   "execution_count": 2,
   "id": "13fa37be",
   "metadata": {
    "ExecuteTime": {
     "end_time": "2022-05-04T17:52:08.839518Z",
     "start_time": "2022-05-04T17:52:08.826886Z"
    }
   },
   "outputs": [],
   "source": [
    "# Algorithm 1\n",
    "def CN_VEC(X, A, S, k):\n",
    "    \"\"\"\n",
    "    X: array, Covariates of all nodes. For nodes which covariates are unknown array contains NaN\n",
    "    A: array, Adjacency matrix of the graph (now weighted)\n",
    "    S: array of indexes, Set of nodes with known covariates\n",
    "    k: number of neighbors\n",
    "    \"\"\"\n",
    "    all_nodes = set(np.arange(A.shape[0]))\n",
    "    no_cov_nodes = all_nodes - set(S)\n",
    "    X_hat = X.copy()\n",
    "    C = A.dot(A).A\n",
    "    \n",
    "    for node_i in tqdm(no_cov_nodes):\n",
    "        Ci = np.ones_like(C) * C[node_i]\n",
    "        Ci[:, node_i] = 0\n",
    "        np.fill_diagonal(Ci, 0)\n",
    "        \n",
    "        Cj = C.copy()\n",
    "        Cj[:, node_i] = 0\n",
    "        np.fill_diagonal(Cj, 0)\n",
    "        \n",
    "        dists = np.sum((Ci**2 - 2) * (Ci >= 2) + (Cj**2 - 2) * (Cj >= 2) - 2 * Ci * Cj, axis=1)[S]\n",
    "        \n",
    "        idxs = np.argsort(dists)[:k]\n",
    "        ktop = np.array(S)[idxs]\n",
    "        X_hat[node_i] = np.mean(X[ktop])\n",
    "        \n",
    "    return X_hat"
   ]
  },
  {
   "cell_type": "code",
   "execution_count": 3,
   "id": "b74dfbde",
   "metadata": {
    "ExecuteTime": {
     "end_time": "2022-05-04T17:52:09.586302Z",
     "start_time": "2022-05-04T17:52:09.571300Z"
    }
   },
   "outputs": [],
   "source": [
    "# Algorithm 2\n",
    "def SVD_RBF(X, A, S, theta, d):\n",
    "    \"\"\"\n",
    "    X: array, Covariates of all nodes. For nodes which covariates are unknown array contains NaN\n",
    "    A: array, Adjacency matrix of the graph (now weighted)\n",
    "    S: array of indexes, Set of nodes with known covariates\n",
    "    theta: bandwidth\n",
    "    d: rank of matrix\n",
    "    \n",
    "    \"\"\"\n",
    "\n",
    "    E, U = eigs(A, d)\n",
    "    V = np.real(U) * np.abs(np.real(E))**(1/2)\n",
    "    \n",
    "    all_nodes = set(np.arange(A.shape[0]))\n",
    "    no_cov_nodes = np.array(list(all_nodes - set(S)))\n",
    "    X_hat = X.copy()\n",
    "    dists = rbf_kernel(V, V, gamma=1/2/(theta**2))\n",
    "    X_hat[no_cov_nodes] = np.sum(dists[no_cov_nodes][:, S] * X[S], axis=1) / np.sum(dists[no_cov_nodes][:, S], axis=1)\n",
    "        \n",
    "    return X_hat"
   ]
  },
  {
   "cell_type": "code",
   "execution_count": 4,
   "id": "c8988e69",
   "metadata": {
    "ExecuteTime": {
     "end_time": "2022-05-04T17:52:10.261463Z",
     "start_time": "2022-05-04T17:52:10.254484Z"
    }
   },
   "outputs": [],
   "source": [
    "def NBR(X, A, S):\n",
    "    all_nodes = set(np.arange(A.shape[0]))\n",
    "    no_cov_nodes = np.array(list(all_nodes - set(S)))\n",
    "    X_hat = X.copy()\n",
    "    neighbors = np.sum(A.A[no_cov_nodes][:, S], axis=1)\n",
    "    \n",
    "    X_hat[no_cov_nodes] = np.divide(np.sum(A.A[no_cov_nodes][:, S] * X[S], axis=1), neighbors, where=neighbors>0)\n",
    "        \n",
    "    return X_hat"
   ]
  },
  {
   "cell_type": "code",
   "execution_count": 5,
   "id": "14747cf0",
   "metadata": {
    "ExecuteTime": {
     "end_time": "2022-05-04T17:52:10.868798Z",
     "start_time": "2022-05-04T17:52:10.848093Z"
    }
   },
   "outputs": [],
   "source": [
    "def W_PPR(X, A, S, k):\n",
    "    all_nodes = set(np.arange(A.shape[0]))\n",
    "    no_cov_nodes = np.array(list(all_nodes - set(S)))\n",
    "    X_hat = X.copy()\n",
    "    \n",
    "    gamma = np.exp(-.25)\n",
    "    D = np.diag(A.dot(np.ones(A.shape[0])))\n",
    "    M = (1 - gamma) * np.linalg.inv(np.eye(D.shape[0]) - gamma * A.dot(np.linalg.inv(D)))\n",
    "    W = (M + M.T) / 2\n",
    "    \n",
    "    neighbors = np.argsort(W[no_cov_nodes][:, S], axis=1)[:, -k:]\n",
    "    weights = np.sum(np.take(W[no_cov_nodes][:, S], neighbors), axis=1)\n",
    "    X_hat[no_cov_nodes] = np.divide(np.sum(np.take(W[no_cov_nodes][:, S]*X[S], neighbors), axis=1), weights, where=weights>0)\n",
    "        \n",
    "    return X_hat"
   ]
  },
  {
   "cell_type": "code",
   "execution_count": 6,
   "id": "f556ff14",
   "metadata": {
    "ExecuteTime": {
     "end_time": "2022-05-04T17:52:12.027312Z",
     "start_time": "2022-05-04T17:52:12.021310Z"
    }
   },
   "outputs": [],
   "source": [
    "def Jaccard(X, A, S, k):\n",
    "    all_nodes = set(np.arange(A.shape[0]))\n",
    "    no_cov_nodes = np.array(list(all_nodes - set(S)))\n",
    "    X_hat = X.copy()\n",
    "    C = A.dot(A)\n",
    "    d = A.dot(np.outer(np.ones(A.shape[0]), np.ones(A.shape[0])))\n",
    "    W = np.array(C / (d + d.T - C))\n",
    "    \n",
    "    neighbors = np.argsort(W[no_cov_nodes][:, S], axis=1)[:, -k:]\n",
    "    weights = np.sum(np.take(W[no_cov_nodes][:, S], neighbors), axis=1)\n",
    "    X_hat[no_cov_nodes] = np.divide(np.sum(np.take(W[no_cov_nodes][:, S]*X[S], neighbors), axis=1), weights, where=weights>0)\n",
    "       \n",
    "    return X_hat"
   ]
  },
  {
   "cell_type": "code",
   "execution_count": 7,
   "id": "aaf56617",
   "metadata": {
    "ExecuteTime": {
     "end_time": "2022-05-04T17:52:21.987037Z",
     "start_time": "2022-05-04T17:52:21.971037Z"
    }
   },
   "outputs": [],
   "source": [
    "def CN(X, A, S, k):\n",
    "    all_nodes = set(np.arange(A.shape[0]))\n",
    "    no_cov_nodes = np.array(list(all_nodes - set(S)))\n",
    "    X_hat = X.copy()\n",
    "    \n",
    "    W = A.dot(A).A\n",
    "    \n",
    "    neighbors = np.argsort(W[no_cov_nodes][:, S], axis=1)[:, -k:]\n",
    "    weights = np.sum(np.take(W[no_cov_nodes][:, S], neighbors), axis=1)\n",
    "    X_hat[no_cov_nodes] = np.divide(np.sum(np.take(W[no_cov_nodes][:, S]*X[S], neighbors), axis=1), weights, where=weights>0)\n",
    "       \n",
    "    return X_hat"
   ]
  },
  {
   "cell_type": "code",
   "execution_count": null,
   "id": "e2c3a60d",
   "metadata": {},
   "outputs": [],
   "source": [
    "def Adar(X, A, S, k):\n",
    "    all_nodes = set(np.arange(A.shape[0]))\n",
    "    no_cov_nodes = np.array(list(all_nodes - set(S)))\n",
    "    X_hat = X.copy()\n",
    "    \n",
    "    W = A.dot(A).A\n",
    "    \n",
    "    neighbors = np.argsort(W[no_cov_nodes][:, S], axis=1)[:, -k:]\n",
    "    weights = np.sum(np.take(W[no_cov_nodes][:, S], neighbors), axis=1)\n",
    "    X_hat[no_cov_nodes] = np.divide(np.sum(np.take(W[no_cov_nodes][:, S]*X[S], neighbors), axis=1), weights, where=weights>0)\n",
    "       \n",
    "    return X_hat"
   ]
  },
  {
   "cell_type": "markdown",
   "id": "e726d45f",
   "metadata": {},
   "source": [
    "### Tests"
   ]
  },
  {
   "cell_type": "markdown",
   "id": "d33b499e",
   "metadata": {},
   "source": [
    "#### Artificial"
   ]
  },
  {
   "cell_type": "code",
   "execution_count": 90,
   "id": "dd92e120",
   "metadata": {
    "ExecuteTime": {
     "end_time": "2022-04-12T15:53:05.561478Z",
     "start_time": "2022-04-12T15:53:05.553838Z"
    }
   },
   "outputs": [],
   "source": [
    "A = csr_matrix(np.array([[0,1,1,0,1],[1,0,1,1,1],[1,1,0,1,1],[0,1,1,0,1],[0,1,0,0,0]], dtype=np.float64))"
   ]
  },
  {
   "cell_type": "code",
   "execution_count": 91,
   "id": "cc1558b1",
   "metadata": {
    "ExecuteTime": {
     "end_time": "2022-04-12T15:53:06.184729Z",
     "start_time": "2022-04-12T15:53:06.094863Z"
    }
   },
   "outputs": [
    {
     "data": {
      "image/png": "[encoded data removed]",
      "text/plain": [
       "<Figure size 432x288 with 1 Axes>"
      ]
     },
     "metadata": {},
     "output_type": "display_data"
    }
   ],
   "source": [
    "G = nx.from_numpy_array(A)\n",
    "nx.draw_networkx(G, node_color='yellowgreen')\n",
    "plt.axis('off');"
   ]
  },
  {
   "cell_type": "code",
   "execution_count": 92,
   "id": "6addc324",
   "metadata": {
    "ExecuteTime": {
     "end_time": "2022-04-12T15:53:06.588817Z",
     "start_time": "2022-04-12T15:53:06.574818Z"
    }
   },
   "outputs": [],
   "source": [
    "X = np.array([np.nan,3,1,np.nan,2])\n",
    "S = [1,2,4]\n",
    "k = 2"
   ]
  },
  {
   "cell_type": "code",
   "execution_count": 93,
   "id": "a5bf64e3",
   "metadata": {
    "ExecuteTime": {
     "end_time": "2022-04-12T15:53:12.864634Z",
     "start_time": "2022-04-12T15:53:12.835905Z"
    }
   },
   "outputs": [
    {
     "data": {
      "application/vnd.jupyter.widget-view+json": {
       "model_id": "22c571a3a5ed4def96d97a87bb719f19",
       "version_major": 2,
       "version_minor": 0
      },
      "text/plain": [
       "  0%|          | 0/2 [00:00<?, ?it/s]"
      ]
     },
     "metadata": {},
     "output_type": "display_data"
    },
    {
     "data": {
      "text/plain": [
       "array([2., 3., 1., 2., 2.])"
      ]
     },
     "execution_count": 93,
     "metadata": {},
     "output_type": "execute_result"
    }
   ],
   "source": [
    "CN_VEC(X, A, S, k)"
   ]
  },
  {
   "cell_type": "code",
   "execution_count": 94,
   "id": "0708a449",
   "metadata": {
    "ExecuteTime": {
     "end_time": "2022-04-12T15:53:13.597897Z",
     "start_time": "2022-04-12T15:53:13.589894Z"
    }
   },
   "outputs": [
    {
     "data": {
      "text/plain": [
       "array([2., 3., 1., 2., 2.])"
      ]
     },
     "execution_count": 94,
     "metadata": {},
     "output_type": "execute_result"
    }
   ],
   "source": [
    "SVD_RBF(X, A, S, 1.5, k)"
   ]
  },
  {
   "cell_type": "code",
   "execution_count": 95,
   "id": "055a246f",
   "metadata": {
    "ExecuteTime": {
     "end_time": "2022-04-12T15:53:14.212518Z",
     "start_time": "2022-04-12T15:53:14.200409Z"
    }
   },
   "outputs": [
    {
     "data": {
      "text/plain": [
       "array([2., 3., 1., 2., 2.])"
      ]
     },
     "execution_count": 95,
     "metadata": {},
     "output_type": "execute_result"
    }
   ],
   "source": [
    "NBR(X, A, S)"
   ]
  },
  {
   "cell_type": "code",
   "execution_count": 96,
   "id": "2d60552a",
   "metadata": {
    "ExecuteTime": {
     "end_time": "2022-04-12T15:53:14.792002Z",
     "start_time": "2022-04-12T15:53:14.777002Z"
    }
   },
   "outputs": [
    {
     "data": {
      "text/plain": [
       "array([2.38183187, 3.        , 1.        , 2.38183187, 2.        ])"
      ]
     },
     "execution_count": 96,
     "metadata": {},
     "output_type": "execute_result"
    }
   ],
   "source": [
    "W_PPR(X, A, S, k)"
   ]
  },
  {
   "cell_type": "code",
   "execution_count": 97,
   "id": "972feaf1",
   "metadata": {
    "ExecuteTime": {
     "end_time": "2022-04-12T15:53:16.196766Z",
     "start_time": "2022-04-12T15:53:16.178030Z"
    }
   },
   "outputs": [
    {
     "data": {
      "text/plain": [
       "array([2.28571429, 3.        , 1.        , 2.28571429, 2.        ])"
      ]
     },
     "execution_count": 97,
     "metadata": {},
     "output_type": "execute_result"
    }
   ],
   "source": [
    "Jaccard(X, A, S, k)"
   ]
  },
  {
   "cell_type": "code",
   "execution_count": 98,
   "id": "85e9df5f",
   "metadata": {
    "ExecuteTime": {
     "end_time": "2022-04-12T15:53:17.301868Z",
     "start_time": "2022-04-12T15:53:17.293744Z"
    }
   },
   "outputs": [
    {
     "data": {
      "text/plain": [
       "array([2.5, 3. , 1. , 2.5, 2. ])"
      ]
     },
     "execution_count": 98,
     "metadata": {},
     "output_type": "execute_result"
    }
   ],
   "source": [
    "CN(X, A, S, k)"
   ]
  },
  {
   "cell_type": "code",
   "execution_count": 99,
   "id": "d4d3d869",
   "metadata": {
    "ExecuteTime": {
     "end_time": "2022-04-12T15:53:18.517807Z",
     "start_time": "2022-04-12T15:53:18.455738Z"
    }
   },
   "outputs": [
    {
     "name": "stdout",
     "output_type": "stream",
     "text": [
      "Walk iteration:\n",
      "1 / 10\n",
      "2 / 10\n",
      "3 / 10\n",
      "4 / 10\n",
      "5 / 10\n",
      "6 / 10\n",
      "7 / 10\n",
      "8 / 10\n",
      "9 / 10\n",
      "10 / 10\n"
     ]
    },
    {
     "data": {
      "application/vnd.jupyter.widget-view+json": {
       "model_id": "25a6a0980ce0470aa151d527e47d7e67",
       "version_major": 2,
       "version_minor": 0
      },
      "text/plain": [
       "  0%|          | 0/2 [00:00<?, ?it/s]"
      ]
     },
     "metadata": {},
     "output_type": "display_data"
    },
    {
     "data": {
      "text/plain": [
       "array([1.5, 3. , 1. , 2. , 2. ])"
      ]
     },
     "execution_count": 99,
     "metadata": {},
     "output_type": "execute_result"
    }
   ],
   "source": [
    "Node2Vec(X, A, S, 1.5, k)"
   ]
  },
  {
   "cell_type": "markdown",
   "id": "4b543783",
   "metadata": {},
   "source": [
    "#### Real"
   ]
  },
  {
   "cell_type": "code",
   "execution_count": 147,
   "id": "92b1d8a7",
   "metadata": {
    "ExecuteTime": {
     "end_time": "2022-03-15T13:54:54.600541Z",
     "start_time": "2022-03-15T13:54:54.294738Z"
    }
   },
   "outputs": [],
   "source": [
    "url = 'https://raw.githubusercontent.com/network-science-course/network-science-course/main/datasets/the_matrix_graph.gexf'\n",
    "open('the_matrix_graph.gexf', 'wb').write(requests.get(url).content);"
   ]
  },
  {
   "cell_type": "code",
   "execution_count": 148,
   "id": "9e26bb41",
   "metadata": {
    "ExecuteTime": {
     "end_time": "2022-03-15T13:54:54.883327Z",
     "start_time": "2022-03-15T13:54:54.708324Z"
    }
   },
   "outputs": [
    {
     "data": {
      "image/png": "[encoded data removed]",
      "text/plain": [
       "<Figure size 936x504 with 1 Axes>"
      ]
     },
     "metadata": {},
     "output_type": "display_data"
    }
   ],
   "source": [
    "def get_matrix_graph():\n",
    "    G = nx.read_gexf('the_matrix_graph.gexf')\n",
    "    mapping = {}\n",
    "    for node in G.nodes:\n",
    "        mapping[node] = G.nodes[node]['label']\n",
    "    G = nx.relabel_nodes(G, mapping)\n",
    "    return G\n",
    "matrixG = get_matrix_graph()\n",
    "plt.figure(figsize=(13, 7))\n",
    "layout = nx.kamada_kawai_layout(matrixG)\n",
    "nx.draw_networkx(matrixG, pos=layout)"
   ]
  },
  {
   "cell_type": "code",
   "execution_count": 149,
   "id": "c77e721c",
   "metadata": {
    "ExecuteTime": {
     "end_time": "2022-03-15T13:54:55.488584Z",
     "start_time": "2022-03-15T13:54:55.471564Z"
    }
   },
   "outputs": [],
   "source": [
    "A = nx.linalg.adjacency_matrix(matrixG).toarray()"
   ]
  },
  {
   "cell_type": "code",
   "execution_count": 150,
   "id": "a07ed026",
   "metadata": {
    "ExecuteTime": {
     "end_time": "2022-03-15T13:54:55.946277Z",
     "start_time": "2022-03-15T13:54:55.930287Z"
    }
   },
   "outputs": [],
   "source": [
    "A = csr_matrix((A > 0).astype(float))"
   ]
  },
  {
   "cell_type": "code",
   "execution_count": 151,
   "id": "6bd7723f",
   "metadata": {
    "ExecuteTime": {
     "end_time": "2022-03-15T13:54:56.427636Z",
     "start_time": "2022-03-15T13:54:56.397640Z"
    }
   },
   "outputs": [
    {
     "data": {
      "application/vnd.jupyter.widget-view+json": {
       "model_id": "3531cb39b9e74872aa83803b7c908b1d",
       "version_major": 2,
       "version_minor": 0
      },
      "text/plain": [
       "  0%|          | 0/28 [00:00<?, ?it/s]"
      ]
     },
     "metadata": {},
     "output_type": "display_data"
    },
    {
     "data": {
      "text/plain": [
       "array([3.66666667, 4.        , 3.66666667, 4.        , 3.        ,\n",
       "       3.66666667, 3.66666667, 3.66666667, 3.66666667, 3.66666667,\n",
       "       3.66666667, 3.66666667, 3.66666667, 3.66666667, 3.66666667,\n",
       "       3.66666667, 3.66666667, 3.66666667, 3.66666667, 3.66666667,\n",
       "       3.66666667, 3.66666667, 3.66666667, 3.66666667, 3.66666667,\n",
       "       3.66666667, 3.66666667, 3.66666667, 3.66666667, 3.66666667,\n",
       "       3.66666667])"
      ]
     },
     "execution_count": 151,
     "metadata": {},
     "output_type": "execute_result"
    }
   ],
   "source": [
    "CN_VEC(np.array(list(nx.get_node_attributes(matrixG, 'Eccentricity').values())), A, [1,3,4], 5)"
   ]
  },
  {
   "cell_type": "code",
   "execution_count": 152,
   "id": "0fd15956",
   "metadata": {
    "ExecuteTime": {
     "end_time": "2022-03-15T13:54:56.959108Z",
     "start_time": "2022-03-15T13:54:56.941110Z"
    }
   },
   "outputs": [
    {
     "data": {
      "text/plain": [
       "array([3.7221194 , 4.        , 3.69749884, 4.        , 3.        ,\n",
       "       3.59475274, 3.6803777 , 3.6803777 , 3.62806509, 3.67083882,\n",
       "       3.70903321, 3.68665244, 3.71082671, 3.68228056, 3.67567637,\n",
       "       3.69830543, 3.59475274, 3.648734  , 3.7036423 , 3.70700707,\n",
       "       3.71517701, 3.6906273 , 3.70065743, 3.70700707, 3.70614916,\n",
       "       3.71500653, 3.62244381, 3.69013034, 3.59679855, 3.66130606,\n",
       "       3.68228056])"
      ]
     },
     "execution_count": 152,
     "metadata": {},
     "output_type": "execute_result"
    }
   ],
   "source": [
    "SVD_RBF(np.array(list(nx.get_node_attributes(matrixG, 'Eccentricity').values())), A, [1,3,4], 1.5, 4)"
   ]
  },
  {
   "cell_type": "markdown",
   "id": "0f8a534c",
   "metadata": {},
   "source": [
    "## Experiments"
   ]
  },
  {
   "cell_type": "code",
   "execution_count": 9,
   "id": "9a707360",
   "metadata": {
    "ExecuteTime": {
     "end_time": "2022-05-04T18:12:41.822556Z",
     "start_time": "2022-05-04T18:12:41.817482Z"
    }
   },
   "outputs": [],
   "source": [
    "n = 2500\n",
    "d = 5"
   ]
  },
  {
   "cell_type": "markdown",
   "id": "064212dd",
   "metadata": {},
   "source": [
    "### Latent Space Model (LSM)"
   ]
  },
  {
   "cell_type": "code",
   "execution_count": 10,
   "id": "73af5648",
   "metadata": {
    "ExecuteTime": {
     "end_time": "2022-05-04T18:12:42.913695Z",
     "start_time": "2022-05-04T18:12:42.904602Z"
    }
   },
   "outputs": [],
   "source": [
    "Z = np.random.uniform(0, 1, size=(n, d))"
   ]
  },
  {
   "cell_type": "code",
   "execution_count": 11,
   "id": "87f35ed3",
   "metadata": {
    "ExecuteTime": {
     "end_time": "2022-05-04T18:12:43.836271Z",
     "start_time": "2022-05-04T18:12:43.628822Z"
    }
   },
   "outputs": [],
   "source": [
    "rho = 1\n",
    "P = np.zeros((n,n))\n",
    "for i in range(n):\n",
    "    P[i] = rho / (1 + np.exp(2.5 * np.sqrt(np.sum((Z - Z[i])**2, axis=1))))"
   ]
  },
  {
   "cell_type": "code",
   "execution_count": 12,
   "id": "9d8ecb4f",
   "metadata": {
    "ExecuteTime": {
     "end_time": "2022-05-04T18:12:44.691986Z",
     "start_time": "2022-05-04T18:12:44.296591Z"
    }
   },
   "outputs": [
    {
     "name": "stderr",
     "output_type": "stream",
     "text": [
      "C:\\Users\\Liza\\anaconda3\\lib\\site-packages\\scipy\\sparse\\_index.py:125: SparseEfficiencyWarning: Changing the sparsity structure of a csr_matrix is expensive. lil_matrix is more efficient.\n",
      "  self._set_arrayXarray(i, j, x)\n"
     ]
    }
   ],
   "source": [
    "A = csr_matrix(np.random.binomial(1, P, (n,n)).astype(float))\n",
    "A.setdiag(0)\n",
    "A.eliminate_zeros()"
   ]
  },
  {
   "cell_type": "code",
   "execution_count": 13,
   "id": "22be76cd",
   "metadata": {
    "ExecuteTime": {
     "end_time": "2022-05-04T18:12:45.535847Z",
     "start_time": "2022-05-04T18:12:45.464268Z"
    }
   },
   "outputs": [],
   "source": [
    "beta = np.random.normal(0, 1, (d,1))\n",
    "beta = beta / np.linalg.norm(beta)\n",
    "X = (Z @ beta).flatten() + np.random.normal(0, .1, (n,))"
   ]
  },
  {
   "cell_type": "markdown",
   "id": "2579053e",
   "metadata": {},
   "source": [
    "#### Available algorithms"
   ]
  },
  {
   "cell_type": "code",
   "execution_count": 41,
   "id": "6a2ae6d3",
   "metadata": {
    "ExecuteTime": {
     "end_time": "2022-04-18T09:08:21.115014Z",
     "start_time": "2022-04-18T09:08:21.109016Z"
    }
   },
   "outputs": [],
   "source": [
    "k=10\n",
    "shares = np.array([0.5, 0.6, 0.7, 0.8, 0.9])"
   ]
  },
  {
   "cell_type": "code",
   "execution_count": 42,
   "id": "ab3f6ec3",
   "metadata": {
    "ExecuteTime": {
     "end_time": "2022-04-18T10:19:28.907178Z",
     "start_time": "2022-04-18T09:08:25.856834Z"
    }
   },
   "outputs": [
    {
     "data": {
      "application/vnd.jupyter.widget-view+json": {
       "model_id": "5175ee29980040f3b6f7f1da33105e85",
       "version_major": 2,
       "version_minor": 0
      },
      "text/plain": [
       "  0%|          | 0/1250 [00:00<?, ?it/s]"
      ]
     },
     "metadata": {},
     "output_type": "display_data"
    },
    {
     "name": "stdout",
     "output_type": "stream",
     "text": [
      "0.5 done\n"
     ]
    },
    {
     "data": {
      "application/vnd.jupyter.widget-view+json": {
       "model_id": "9bde13669091453e92a11d991dee6532",
       "version_major": 2,
       "version_minor": 0
      },
      "text/plain": [
       "  0%|          | 0/1500 [00:00<?, ?it/s]"
      ]
     },
     "metadata": {},
     "output_type": "display_data"
    },
    {
     "name": "stdout",
     "output_type": "stream",
     "text": [
      "0.6 done\n"
     ]
    },
    {
     "data": {
      "application/vnd.jupyter.widget-view+json": {
       "model_id": "de9008f914f24f1b93ac9aa103fc882d",
       "version_major": 2,
       "version_minor": 0
      },
      "text/plain": [
       "  0%|          | 0/1750 [00:00<?, ?it/s]"
      ]
     },
     "metadata": {},
     "output_type": "display_data"
    },
    {
     "name": "stdout",
     "output_type": "stream",
     "text": [
      "0.7 done\n"
     ]
    },
    {
     "data": {
      "application/vnd.jupyter.widget-view+json": {
       "model_id": "808072b4143a4523b7e5e47d16234a8d",
       "version_major": 2,
       "version_minor": 0
      },
      "text/plain": [
       "  0%|          | 0/2001 [00:00<?, ?it/s]"
      ]
     },
     "metadata": {},
     "output_type": "display_data"
    },
    {
     "name": "stdout",
     "output_type": "stream",
     "text": [
      "0.8 done\n"
     ]
    },
    {
     "data": {
      "application/vnd.jupyter.widget-view+json": {
       "model_id": "0d25a29fc27347838357637b231a28d7",
       "version_major": 2,
       "version_minor": 0
      },
      "text/plain": [
       "  0%|          | 0/2251 [00:00<?, ?it/s]"
      ]
     },
     "metadata": {},
     "output_type": "display_data"
    },
    {
     "name": "stdout",
     "output_type": "stream",
     "text": [
      "0.9 done\n"
     ]
    }
   ],
   "source": [
    "RMSE_NBRs = []\n",
    "RMSE_W_PPRs = []\n",
    "RMSE_Jaccards = []\n",
    "RMSE_CNs = []\n",
    "RMSE_SVD_RBFs = []\n",
    "RMSE_CN_VECs = []\n",
    "for share in shares:\n",
    "    S = np.random.choice(np.arange(n), size=int(n*(1-share)), replace=False)\n",
    "    RMSE_NBR = mean_squared_error(X, NBR(X, A, S), squared=False)\n",
    "    RMSE_NBRs.append(RMSE_NBR)\n",
    "#     print('NBR done')\n",
    "    RMSE_W_PPR = mean_squared_error(X, W_PPR(X, A, S, k), squared=False)\n",
    "    RMSE_W_PPRs.append(RMSE_W_PPR)\n",
    "#     print('W_PPR done')\n",
    "    RMSE_Jaccard = mean_squared_error(X, Jaccard(X, A, S, k), squared=False)\n",
    "    RMSE_Jaccards.append(RMSE_Jaccard)\n",
    "#     print('Jaccard done')\n",
    "    RMSE_CN = mean_squared_error(X, CN(X, A, S, k), squared=False)\n",
    "    RMSE_CNs.append(RMSE_CN)\n",
    "#     print('CN done')\n",
    "    RMSE_SVD_RBF = mean_squared_error(X, SVD_RBF(X, A, S, 0.04*(np.log(n))**(3/d) / n**(1 / 2 / (d+1)), d), squared=False)\n",
    "    RMSE_SVD_RBFs.append(RMSE_SVD_RBF)\n",
    "#     print('SVD RBF done')\n",
    "    RMSE_CN_VEC = mean_squared_error(X, CN_VEC(X, A, S, k), squared=False)\n",
    "    RMSE_CN_VECs.append(RMSE_CN_VEC)\n",
    "# #     print('CN VEC done')\n",
    "    print(share, 'done')"
   ]
  },
  {
   "cell_type": "code",
   "execution_count": 44,
   "id": "5aeda48d",
   "metadata": {
    "ExecuteTime": {
     "end_time": "2022-04-18T10:27:49.805748Z",
     "start_time": "2022-04-18T10:27:49.606773Z"
    }
   },
   "outputs": [
    {
     "data": {
      "image/png": "[encoded data removed]",
      "text/plain": [
       "<Figure size 576x360 with 1 Axes>"
      ]
     },
     "metadata": {
      "needs_background": "light"
     },
     "output_type": "display_data"
    }
   ],
   "source": [
    "plt.figure(figsize=(8,5))\n",
    "# plt.title('LSM')\n",
    "plt.xlabel('Fraction of Unknown Covariates', fontsize=28)\n",
    "# plt.ylabel('RMSE', fontsize=24)\n",
    "plt.yticks(fontsize=16)\n",
    "plt.xticks(fontsize=16)\n",
    "plt.ylim(0, 0.63)\n",
    "width = 0.01\n",
    "plt.bar(x=shares-3*width, height=np.array(RMSE_CN_VECs).reshape(5,-1).mean(axis=0), width=width, label='CN-VEC', color='r')\n",
    "plt.bar(x=shares-2*width, height=np.array(RMSE_SVD_RBFs).reshape(5,-1).mean(axis=1), width=width, label='SVD-RBF', color='b', hatch='\\\\\\\\')\n",
    "plt.bar(x=shares-width, height=np.array(RMSE_NBRs).reshape(5,-1).mean(axis=1), width=width, label='NBR', color='goldenrod', hatch='..')\n",
    "plt.bar(x=shares, height=np.array(RMSE_W_PPRs).reshape(5,-1).mean(axis=1), width=width, label='W-PPR', color='mediumturquoise', hatch='--')\n",
    "plt.bar(x=shares+width, height=np.array(RMSE_Jaccards).reshape(5,-1).mean(axis=1), width=width, label='Jaccard', color='burlywood', hatch='oo')\n",
    "plt.bar(x=shares+2*width, height=np.array(RMSE_CNs).reshape(5,-1).mean(axis=1), width=width, label='CN', color='gray', hatch='//');\n",
    "# plt.legend();"
   ]
  },
  {
   "cell_type": "markdown",
   "id": "3cf11803",
   "metadata": {},
   "source": [
    "### Stochastic Blockmodel (SBM)"
   ]
  },
  {
   "cell_type": "code",
   "execution_count": 47,
   "id": "2f5d2595",
   "metadata": {
    "ExecuteTime": {
     "end_time": "2022-04-18T12:48:47.679363Z",
     "start_time": "2022-04-18T12:48:47.667363Z"
    }
   },
   "outputs": [],
   "source": [
    "Z0 = np.array([np.eye(d)[0]] * (n // 5))\n",
    "Z1 = np.array([np.eye(d)[1]] * (n // 5))\n",
    "Z2 = np.array([np.eye(d)[2]] * (n // 5))\n",
    "Z3 = np.array([np.eye(d)[3]] * (n // 5))\n",
    "Z4 = np.array([np.eye(d)[4]] * (n // 5))\n",
    "Z = np.concatenate([Z0, Z1, Z2, Z3, Z4])"
   ]
  },
  {
   "cell_type": "code",
   "execution_count": 48,
   "id": "4557b1ef",
   "metadata": {
    "ExecuteTime": {
     "end_time": "2022-04-18T12:48:48.163363Z",
     "start_time": "2022-04-18T12:48:48.143380Z"
    }
   },
   "outputs": [],
   "source": [
    "theta = np.random.uniform(0, 1, (d,d))\n",
    "theta = (theta + theta.T + 2 * np.eye(d)) / 4"
   ]
  },
  {
   "cell_type": "code",
   "execution_count": 49,
   "id": "e3df612d",
   "metadata": {
    "ExecuteTime": {
     "end_time": "2022-04-18T12:48:48.659691Z",
     "start_time": "2022-04-18T12:48:48.631690Z"
    }
   },
   "outputs": [],
   "source": [
    "rho = 0.1\n",
    "P = rho * Z @ theta @ Z.T"
   ]
  },
  {
   "cell_type": "code",
   "execution_count": 50,
   "id": "750872b4",
   "metadata": {
    "ExecuteTime": {
     "end_time": "2022-04-18T12:48:49.387700Z",
     "start_time": "2022-04-18T12:48:49.135696Z"
    }
   },
   "outputs": [
    {
     "name": "stderr",
     "output_type": "stream",
     "text": [
      "C:\\Users\\Liza\\anaconda3\\lib\\site-packages\\scipy\\sparse\\_index.py:125: SparseEfficiencyWarning: Changing the sparsity structure of a csr_matrix is expensive. lil_matrix is more efficient.\n",
      "  self._set_arrayXarray(i, j, x)\n"
     ]
    }
   ],
   "source": [
    "A = csr_matrix(np.random.binomial(1, P, (n,n)).astype(float))\n",
    "A.setdiag(0)\n",
    "A.eliminate_zeros()"
   ]
  },
  {
   "cell_type": "code",
   "execution_count": 51,
   "id": "06070576",
   "metadata": {
    "ExecuteTime": {
     "end_time": "2022-04-18T12:48:49.763695Z",
     "start_time": "2022-04-18T12:48:49.743726Z"
    }
   },
   "outputs": [],
   "source": [
    "beta = np.random.normal(0, 1, (d,1))\n",
    "beta = beta / np.linalg.norm(beta)\n",
    "X = (Z @ beta).flatten() + np.random.normal(0, .1, (n,))"
   ]
  },
  {
   "cell_type": "markdown",
   "id": "de502fb8",
   "metadata": {},
   "source": [
    "#### Available algorithms"
   ]
  },
  {
   "cell_type": "code",
   "execution_count": 52,
   "id": "6e1e9da3",
   "metadata": {
    "ExecuteTime": {
     "end_time": "2022-04-18T12:48:52.744748Z",
     "start_time": "2022-04-18T12:48:52.728791Z"
    }
   },
   "outputs": [],
   "source": [
    "k=10\n",
    "shares = np.array([0.5, 0.6, 0.7, 0.8, 0.9])"
   ]
  },
  {
   "cell_type": "code",
   "execution_count": 55,
   "id": "75d1357e",
   "metadata": {
    "ExecuteTime": {
     "end_time": "2022-04-18T13:42:12.522044Z",
     "start_time": "2022-04-18T12:49:42.089767Z"
    }
   },
   "outputs": [
    {
     "data": {
      "application/vnd.jupyter.widget-view+json": {
       "model_id": "251b1dd55ade4eea901d710b17878a95",
       "version_major": 2,
       "version_minor": 0
      },
      "text/plain": [
       "  0%|          | 0/1250 [00:00<?, ?it/s]"
      ]
     },
     "metadata": {},
     "output_type": "display_data"
    },
    {
     "name": "stdout",
     "output_type": "stream",
     "text": [
      "0.5 done\n"
     ]
    },
    {
     "data": {
      "application/vnd.jupyter.widget-view+json": {
       "model_id": "4c553cdd808b4064b37ea93f69f3d7f4",
       "version_major": 2,
       "version_minor": 0
      },
      "text/plain": [
       "  0%|          | 0/1500 [00:00<?, ?it/s]"
      ]
     },
     "metadata": {},
     "output_type": "display_data"
    },
    {
     "name": "stdout",
     "output_type": "stream",
     "text": [
      "0.6 done\n"
     ]
    },
    {
     "data": {
      "application/vnd.jupyter.widget-view+json": {
       "model_id": "2dc64548d1954338a077742e5f822e09",
       "version_major": 2,
       "version_minor": 0
      },
      "text/plain": [
       "  0%|          | 0/1750 [00:00<?, ?it/s]"
      ]
     },
     "metadata": {},
     "output_type": "display_data"
    },
    {
     "name": "stdout",
     "output_type": "stream",
     "text": [
      "0.7 done\n"
     ]
    },
    {
     "data": {
      "application/vnd.jupyter.widget-view+json": {
       "model_id": "4541aacac4c24c598a696eb4c8155a6f",
       "version_major": 2,
       "version_minor": 0
      },
      "text/plain": [
       "  0%|          | 0/2001 [00:00<?, ?it/s]"
      ]
     },
     "metadata": {},
     "output_type": "display_data"
    },
    {
     "name": "stdout",
     "output_type": "stream",
     "text": [
      "0.8 done\n"
     ]
    },
    {
     "data": {
      "application/vnd.jupyter.widget-view+json": {
       "model_id": "408552b7a79545ff9af4b26b8d539791",
       "version_major": 2,
       "version_minor": 0
      },
      "text/plain": [
       "  0%|          | 0/2251 [00:00<?, ?it/s]"
      ]
     },
     "metadata": {},
     "output_type": "display_data"
    },
    {
     "name": "stdout",
     "output_type": "stream",
     "text": [
      "0.9 done\n"
     ]
    }
   ],
   "source": [
    "RMSE_NBRs = []\n",
    "RMSE_W_PPRs = []\n",
    "RMSE_Jaccards = []\n",
    "RMSE_CNs = []\n",
    "RMSE_SVD_RBFs = []\n",
    "RMSE_CN_VECs = []\n",
    "for share in shares:\n",
    "    S = np.random.choice(np.arange(n), size=int(n*(1-share)), replace=False)\n",
    "    RMSE_NBR = mean_squared_error(X, NBR(X, A, S), squared=False)\n",
    "    RMSE_NBRs.append(RMSE_NBR)\n",
    "#     print('NBR done')\n",
    "    RMSE_W_PPR = mean_squared_error(X, W_PPR(X, A, S, k), squared=False)\n",
    "    RMSE_W_PPRs.append(RMSE_W_PPR)\n",
    "#     print('W_PPR done')\n",
    "    RMSE_Jaccard = mean_squared_error(X, Jaccard(X, A, S, k), squared=False)\n",
    "    RMSE_Jaccards.append(RMSE_Jaccard)\n",
    "#     print('Jaccard done')\n",
    "    RMSE_CN = mean_squared_error(X, CN(X, A, S, k), squared=False)\n",
    "    RMSE_CNs.append(RMSE_CN)\n",
    "#     print('CN done')\n",
    "    RMSE_SVD_RBF = mean_squared_error(X, SVD_RBF(X, A, S, 0.03*(np.log(n))**(3/d) / n**(1 / 2 / (d+1)), d), squared=False)\n",
    "    RMSE_SVD_RBFs.append(RMSE_SVD_RBF)\n",
    "#     print('SVD RBF done')\n",
    "    RMSE_CN_VEC = mean_squared_error(X, CN_VEC(X, A, S, k), squared=False)\n",
    "    RMSE_CN_VECs.append(RMSE_CN_VEC)\n",
    "# #     print('CN VEC done')\n",
    "    print(share, 'done')"
   ]
  },
  {
   "cell_type": "code",
   "execution_count": 56,
   "id": "23756d56",
   "metadata": {
    "ExecuteTime": {
     "end_time": "2022-04-18T13:42:14.035504Z",
     "start_time": "2022-04-18T13:42:13.875789Z"
    }
   },
   "outputs": [
    {
     "data": {
      "image/png": "[encoded data removed]",
      "text/plain": [
       "<Figure size 576x360 with 1 Axes>"
      ]
     },
     "metadata": {
      "needs_background": "light"
     },
     "output_type": "display_data"
    }
   ],
   "source": [
    "plt.figure(figsize=(8,5))\n",
    "# plt.title('SBM')\n",
    "plt.xlabel('Fraction of Unknown Covariates', fontsize=28)\n",
    "# plt.ylabel('RMSE', fontsize=24)\n",
    "plt.yticks(fontsize=16)\n",
    "plt.xticks(fontsize=16)\n",
    "plt.ylim(0, 0.49)\n",
    "width = 0.01\n",
    "plt.bar(x=shares-3*width, height=RMSE_CN_VECs, width=width, label='CN-VEC', color='r')\n",
    "plt.bar(x=shares-2*width, height=RMSE_SVD_RBFs, width=width, label='SVD-RBF', color='b', hatch='\\\\\\\\')\n",
    "plt.bar(x=shares-width, height=RMSE_NBRs, width=width, label='NBR', color='goldenrod', hatch='..')\n",
    "plt.bar(x=shares, height=RMSE_W_PPRs, width=width, label='W-PPR', color='mediumturquoise', hatch='--')\n",
    "plt.bar(x=shares+width, height=RMSE_Jaccards, width=width, label='Jaccard', color='burlywood', hatch='oo')\n",
    "plt.bar(x=shares+2*width, height=RMSE_CNs, width=width, label='CN', color='gray', hatch='//');\n",
    "# plt.legend();"
   ]
  },
  {
   "cell_type": "markdown",
   "id": "65011f31",
   "metadata": {},
   "source": [
    "### Mixed-membership Stochastic Blockmodel (MMSB)"
   ]
  },
  {
   "cell_type": "code",
   "execution_count": 34,
   "id": "e1986122",
   "metadata": {
    "ExecuteTime": {
     "end_time": "2022-04-18T11:29:08.663703Z",
     "start_time": "2022-04-18T11:29:08.649704Z"
    }
   },
   "outputs": [],
   "source": [
    "Z = np.random.dirichlet(np.ones(5) / 5, (n,))"
   ]
  },
  {
   "cell_type": "code",
   "execution_count": 35,
   "id": "877f19b8",
   "metadata": {
    "ExecuteTime": {
     "end_time": "2022-04-18T11:29:09.115882Z",
     "start_time": "2022-04-18T11:29:09.101888Z"
    }
   },
   "outputs": [
    {
     "data": {
      "text/plain": [
       "array([1., 1., 1., ..., 1., 1., 1.])"
      ]
     },
     "execution_count": 35,
     "metadata": {},
     "output_type": "execute_result"
    }
   ],
   "source": [
    "Z.sum(1)"
   ]
  },
  {
   "cell_type": "code",
   "execution_count": 36,
   "id": "3894310b",
   "metadata": {
    "ExecuteTime": {
     "end_time": "2022-04-18T11:29:09.727422Z",
     "start_time": "2022-04-18T11:29:09.723421Z"
    }
   },
   "outputs": [],
   "source": [
    "theta = np.ones((d,d)) * 0.1\n",
    "np.fill_diagonal(theta, 1)"
   ]
  },
  {
   "cell_type": "code",
   "execution_count": 37,
   "id": "0d111091",
   "metadata": {
    "ExecuteTime": {
     "end_time": "2022-04-18T11:29:10.449950Z",
     "start_time": "2022-04-18T11:29:10.425948Z"
    }
   },
   "outputs": [],
   "source": [
    "rho = 0.1\n",
    "P = rho * Z @ theta @ Z.T"
   ]
  },
  {
   "cell_type": "code",
   "execution_count": 38,
   "id": "c3fd1f91",
   "metadata": {
    "ExecuteTime": {
     "end_time": "2022-04-18T11:29:11.368878Z",
     "start_time": "2022-04-18T11:29:10.993875Z"
    }
   },
   "outputs": [
    {
     "name": "stderr",
     "output_type": "stream",
     "text": [
      "C:\\Users\\Liza\\anaconda3\\lib\\site-packages\\scipy\\sparse\\_index.py:125: SparseEfficiencyWarning: Changing the sparsity structure of a csr_matrix is expensive. lil_matrix is more efficient.\n",
      "  self._set_arrayXarray(i, j, x)\n"
     ]
    }
   ],
   "source": [
    "A = csr_matrix(np.random.binomial(1, P, (n,n)).astype(float))\n",
    "A.setdiag(0)\n",
    "A.eliminate_zeros()"
   ]
  },
  {
   "cell_type": "code",
   "execution_count": 39,
   "id": "434441e4",
   "metadata": {
    "ExecuteTime": {
     "end_time": "2022-04-18T11:29:11.653874Z",
     "start_time": "2022-04-18T11:29:11.644879Z"
    }
   },
   "outputs": [],
   "source": [
    "beta = np.random.normal(0, 1, (d,1))\n",
    "beta = beta / np.linalg.norm(beta)\n",
    "X = (Z @ beta).flatten() + np.random.normal(0, .1, (n,))"
   ]
  },
  {
   "cell_type": "markdown",
   "id": "ac2eb491",
   "metadata": {},
   "source": [
    "#### Available algorithms"
   ]
  },
  {
   "cell_type": "code",
   "execution_count": 40,
   "id": "6de9e0a9",
   "metadata": {
    "ExecuteTime": {
     "end_time": "2022-04-18T11:29:13.989251Z",
     "start_time": "2022-04-18T11:29:13.977238Z"
    }
   },
   "outputs": [],
   "source": [
    "k=10\n",
    "shares = np.array([0.5, 0.6, 0.7, 0.8, 0.9])"
   ]
  },
  {
   "cell_type": "code",
   "execution_count": 41,
   "id": "315afb00",
   "metadata": {
    "ExecuteTime": {
     "end_time": "2022-04-18T11:29:15.532144Z",
     "start_time": "2022-04-18T11:29:15.524156Z"
    }
   },
   "outputs": [],
   "source": [
    "grid = np.linspace(0.01, 1, 100)"
   ]
  },
  {
   "cell_type": "code",
   "execution_count": 42,
   "id": "e4cf1c82",
   "metadata": {
    "ExecuteTime": {
     "end_time": "2022-04-18T11:30:56.420439Z",
     "start_time": "2022-04-18T11:29:17.318375Z"
    }
   },
   "outputs": [],
   "source": [
    "RMSE_SVD_RBFs = np.zeros((100, 5))\n",
    "for i, theta in enumerate(grid):\n",
    "    rmse = []\n",
    "    for share in shares:\n",
    "        S = np.random.choice(np.arange(n), size=int(n*(1-share)), replace=False)\n",
    "        RMSE_SVD_RBF = mean_squared_error(X, SVD_RBF(X, A, S, theta*(np.log(n))**(3/d) / n**(1 / 2 / (d+1)), d), squared=False)\n",
    "        rmse.append(RMSE_SVD_RBF)\n",
    "    RMSE_SVD_RBFs[i] = rmse"
   ]
  },
  {
   "cell_type": "code",
   "execution_count": 43,
   "id": "53adc80b",
   "metadata": {
    "ExecuteTime": {
     "end_time": "2022-04-18T11:40:43.150829Z",
     "start_time": "2022-04-18T11:40:42.966804Z"
    }
   },
   "outputs": [
    {
     "data": {
      "image/png": "[encoded data removed]",
      "text/plain": [
       "<Figure size 432x288 with 1 Axes>"
      ]
     },
     "metadata": {
      "needs_background": "light"
     },
     "output_type": "display_data"
    }
   ],
   "source": [
    "for line in RMSE_SVD_RBFs:\n",
    "    plt.plot(line)"
   ]
  },
  {
   "cell_type": "code",
   "execution_count": 44,
   "id": "2f636f55",
   "metadata": {
    "ExecuteTime": {
     "end_time": "2022-04-18T11:40:45.738325Z",
     "start_time": "2022-04-18T11:40:45.722313Z"
    }
   },
   "outputs": [
    {
     "data": {
      "text/plain": [
       "array([[0.10549242, 0.11832312, 0.12929818, 0.14820458, 0.16130764],\n",
       "       [0.09759157, 0.10676585, 0.11412474, 0.12220592, 0.13592694],\n",
       "       [0.10062899, 0.10538617, 0.11856077, 0.12329412, 0.13830058],\n",
       "       [0.10308389, 0.11516358, 0.12527134, 0.13389363, 0.13827153],\n",
       "       [0.11268936, 0.12652847, 0.13646481, 0.14576597, 0.15166916],\n",
       "       [0.1302448 , 0.14110456, 0.1539945 , 0.15973754, 0.16939427],\n",
       "       [0.14653947, 0.15764908, 0.17194948, 0.18648653, 0.19682146],\n",
       "       [0.16200338, 0.1735061 , 0.19055119, 0.19946699, 0.21288138],\n",
       "       [0.16585453, 0.18455891, 0.20013433, 0.21634027, 0.224794  ],\n",
       "       [0.1823834 , 0.19906875, 0.20892793, 0.22304528, 0.24411136]])"
      ]
     },
     "execution_count": 44,
     "metadata": {},
     "output_type": "execute_result"
    }
   ],
   "source": [
    "RMSE_SVD_RBFs[:10]"
   ]
  },
  {
   "cell_type": "code",
   "execution_count": 45,
   "id": "bf38761e",
   "metadata": {
    "ExecuteTime": {
     "end_time": "2022-04-18T12:29:32.999011Z",
     "start_time": "2022-04-18T11:41:16.232753Z"
    }
   },
   "outputs": [
    {
     "data": {
      "application/vnd.jupyter.widget-view+json": {
       "model_id": "abc68cc78e8b4097b71dfaec635bdfb1",
       "version_major": 2,
       "version_minor": 0
      },
      "text/plain": [
       "  0%|          | 0/1250 [00:00<?, ?it/s]"
      ]
     },
     "metadata": {},
     "output_type": "display_data"
    },
    {
     "name": "stdout",
     "output_type": "stream",
     "text": [
      "0.5 done\n"
     ]
    },
    {
     "data": {
      "application/vnd.jupyter.widget-view+json": {
       "model_id": "576c01a4c89b46b288e423a31b961159",
       "version_major": 2,
       "version_minor": 0
      },
      "text/plain": [
       "  0%|          | 0/1500 [00:00<?, ?it/s]"
      ]
     },
     "metadata": {},
     "output_type": "display_data"
    },
    {
     "name": "stdout",
     "output_type": "stream",
     "text": [
      "0.6 done\n"
     ]
    },
    {
     "data": {
      "application/vnd.jupyter.widget-view+json": {
       "model_id": "1168bac33f6044d9ac4ad35792872ee6",
       "version_major": 2,
       "version_minor": 0
      },
      "text/plain": [
       "  0%|          | 0/1750 [00:00<?, ?it/s]"
      ]
     },
     "metadata": {},
     "output_type": "display_data"
    },
    {
     "name": "stdout",
     "output_type": "stream",
     "text": [
      "0.7 done\n"
     ]
    },
    {
     "data": {
      "application/vnd.jupyter.widget-view+json": {
       "model_id": "ad7c986ca24f4aa6bd90f391b3eb174e",
       "version_major": 2,
       "version_minor": 0
      },
      "text/plain": [
       "  0%|          | 0/2001 [00:00<?, ?it/s]"
      ]
     },
     "metadata": {},
     "output_type": "display_data"
    },
    {
     "name": "stdout",
     "output_type": "stream",
     "text": [
      "0.8 done\n"
     ]
    },
    {
     "data": {
      "application/vnd.jupyter.widget-view+json": {
       "model_id": "d890bf839e8c4f33b0bb10728896c976",
       "version_major": 2,
       "version_minor": 0
      },
      "text/plain": [
       "  0%|          | 0/2251 [00:00<?, ?it/s]"
      ]
     },
     "metadata": {},
     "output_type": "display_data"
    },
    {
     "name": "stdout",
     "output_type": "stream",
     "text": [
      "0.9 done\n"
     ]
    }
   ],
   "source": [
    "RMSE_NBRs = []\n",
    "RMSE_W_PPRs = []\n",
    "RMSE_Jaccards = []\n",
    "RMSE_CNs = []\n",
    "RMSE_SVD_RBFs = []\n",
    "RMSE_CN_VECs = []\n",
    "for share in shares:\n",
    "    S = np.random.choice(np.arange(n), size=int(n*(1-share)), replace=False)\n",
    "    RMSE_NBR = mean_squared_error(X, NBR(X, A, S), squared=False)\n",
    "    RMSE_NBRs.append(RMSE_NBR)\n",
    "#     print('NBR done')\n",
    "    RMSE_W_PPR = mean_squared_error(X, W_PPR(X, A, S, k), squared=False)\n",
    "    RMSE_W_PPRs.append(RMSE_W_PPR)\n",
    "#     print('W_PPR done')\n",
    "    RMSE_Jaccard = mean_squared_error(X, Jaccard(X, A, S, k), squared=False)\n",
    "    RMSE_Jaccards.append(RMSE_Jaccard)\n",
    "#     print('Jaccard done')\n",
    "    RMSE_CN = mean_squared_error(X, CN(X, A, S, k), squared=False)\n",
    "    RMSE_CNs.append(RMSE_CN)\n",
    "#     print('CN done')\n",
    "    RMSE_SVD_RBF = mean_squared_error(X, SVD_RBF(X, A, S, 0.01*(np.log(n))**(3/d) / n**(1 / 2 / (d+1)), d), squared=False)\n",
    "    RMSE_SVD_RBFs.append(RMSE_SVD_RBF)\n",
    "#     print('SVD RBF done')\n",
    "    RMSE_CN_VEC = mean_squared_error(X, CN_VEC(X, A, S, k), squared=False)\n",
    "    RMSE_CN_VECs.append(RMSE_CN_VEC)\n",
    "# #     print('CN VEC done')\n",
    "    print(share, 'done')"
   ]
  },
  {
   "cell_type": "code",
   "execution_count": 46,
   "id": "849a2960",
   "metadata": {
    "ExecuteTime": {
     "end_time": "2022-04-18T12:47:25.265825Z",
     "start_time": "2022-04-18T12:47:25.101805Z"
    }
   },
   "outputs": [
    {
     "data": {
      "image/png": "[encoded data removed]",
      "text/plain": [
       "<Figure size 576x360 with 1 Axes>"
      ]
     },
     "metadata": {
      "needs_background": "light"
     },
     "output_type": "display_data"
    }
   ],
   "source": [
    "plt.figure(figsize=(8,5))\n",
    "# plt.title('MMSB')\n",
    "plt.xlabel('Fraction of Unknown Covariates', fontsize=28)\n",
    "# plt.ylabel('RMSE', fontsize=24)\n",
    "plt.yticks(fontsize=16)\n",
    "plt.xticks(fontsize=16)\n",
    "plt.ylim(0, 0.34)\n",
    "width = 0.01\n",
    "plt.bar(x=shares-3*width, height=RMSE_CN_VECs, width=width, label='CN-VEC', color='r')\n",
    "plt.bar(x=shares-2*width, height=RMSE_SVD_RBFs, width=width, label='SVD-RBF', color='b', hatch='\\\\\\\\')\n",
    "plt.bar(x=shares-width, height=RMSE_NBRs, width=width, label='NBR', color='goldenrod', hatch='..')\n",
    "plt.bar(x=shares, height=RMSE_W_PPRs, width=width, label='W-PPR', color='mediumturquoise', hatch='--')\n",
    "plt.bar(x=shares+width, height=RMSE_Jaccards, width=width, label='Jaccard', color='burlywood', hatch='oo')\n",
    "plt.bar(x=shares+2*width, height=RMSE_CNs, width=width, label='CN', color='gray', hatch='//');\n",
    "# plt.legend();"
   ]
  },
  {
   "cell_type": "markdown",
   "id": "e5778a24",
   "metadata": {},
   "source": [
    "### Random Dot Product Graph model (RDPG)"
   ]
  },
  {
   "cell_type": "code",
   "execution_count": null,
   "id": "2a51b979",
   "metadata": {
    "ExecuteTime": {
     "end_time": "2022-04-12T16:50:34.820811Z",
     "start_time": "2022-04-12T16:50:34.819813Z"
    }
   },
   "outputs": [],
   "source": [
    "Z = [np.random.normal(i, np.sqrt(0.1), size=(n, d)) for i in range(1,6)]"
   ]
  },
  {
   "cell_type": "code",
   "execution_count": 114,
   "id": "cfe49cc9",
   "metadata": {
    "ExecuteTime": {
     "end_time": "2022-02-06T13:00:13.250435Z",
     "start_time": "2022-02-06T13:00:13.079280Z"
    }
   },
   "outputs": [],
   "source": [
    "rho = 0.1\n",
    "P = np.zeros((n,n))\n",
    "for i in range(n):\n",
    "    P[i] = np.min(np.stack((np.ones_like(Z @ Z[i]), np.max(np.stack((np.zeros_like(Z @ Z[i]), Z @ Z[i])), axis=0))), axis=0)"
   ]
  },
  {
   "cell_type": "code",
   "execution_count": 115,
   "id": "a8fcae3b",
   "metadata": {
    "ExecuteTime": {
     "end_time": "2022-02-06T13:00:13.797164Z",
     "start_time": "2022-02-06T13:00:13.648263Z"
    }
   },
   "outputs": [],
   "source": [
    "A = csr_matrix(np.random.binomial(1, P, (n,n)).astype(float))\n",
    "A.setdiag(0)\n",
    "A.eliminate_zeros()"
   ]
  },
  {
   "cell_type": "code",
   "execution_count": 116,
   "id": "c1645ec7",
   "metadata": {
    "ExecuteTime": {
     "end_time": "2022-02-06T13:00:14.218182Z",
     "start_time": "2022-02-06T13:00:14.209170Z"
    }
   },
   "outputs": [],
   "source": [
    "beta = np.random.normal(0, 1, (d,1))\n",
    "beta = beta / np.linalg.norm(beta)\n",
    "X = (Z @ beta).flatten() + np.random.normal(0, .1, (n,))"
   ]
  },
  {
   "cell_type": "markdown",
   "id": "2934df64",
   "metadata": {},
   "source": [
    "#### Available algorithms"
   ]
  },
  {
   "cell_type": "code",
   "execution_count": 101,
   "id": "a26dbb49",
   "metadata": {
    "ExecuteTime": {
     "end_time": "2022-02-06T12:49:00.753684Z",
     "start_time": "2022-02-06T12:49:00.747669Z"
    }
   },
   "outputs": [],
   "source": [
    "k=10\n",
    "shares = np.array([0.5, 0.6, 0.7, 0.8, 0.9])"
   ]
  },
  {
   "cell_type": "code",
   "execution_count": null,
   "id": "b22dc161",
   "metadata": {
    "ExecuteTime": {
     "end_time": "2022-02-06T12:50:56.287098Z",
     "start_time": "2022-02-06T12:49:01.282394Z"
    }
   },
   "outputs": [],
   "source": [
    "RMSE_NBRs = []\n",
    "RMSE_W_PPRs = []\n",
    "RMSE_Jaccards = []\n",
    "RMSE_CNs = []\n",
    "RMSE_SVD_RBFs = []\n",
    "RMSE_CN_VECs = []\n",
    "for share in [0.5, 0.6, 0.7, 0.8, 0.9]:\n",
    "    S = np.random.choice(np.arange(n), size=int(n*(1-share)), replace=False)\n",
    "    RMSE_NBR = mean_squared_error(X, NBR(X, A, S), squared=False)\n",
    "    RMSE_NBRs.append(RMSE_NBR)\n",
    "#     print('NBR done')\n",
    "    RMSE_W_PPR = mean_squared_error(X, W_PPR(X, A, S, k), squared=False)\n",
    "    RMSE_W_PPRs.append(RMSE_W_PPR)\n",
    "#     print('W_PPR done')\n",
    "    RMSE_Jaccard = mean_squared_error(X, Jaccard(X, A, S, k), squared=False)\n",
    "    RMSE_Jaccards.append(RMSE_Jaccard)\n",
    "#     print('Jaccard done')\n",
    "    RMSE_CN = mean_squared_error(X, CN(X, A, S, k), squared=False)\n",
    "    RMSE_CNs.append(RMSE_CN)\n",
    "#     print('CN done')\n",
    "    RMSE_SVD_RBF = mean_squared_error(X, SVD_RBF(X, A, S, (np.log(n))**(3/d) / n**(1 / 2 / (d+1)), d), squared=False)\n",
    "    RMSE_SVD_RBFs.append(RMSE_SVD_RBF)\n",
    "#     print('SVD RBF done')\n",
    "#     RMSE_CN_VEC = mean_squared_error(X, CN_VEC(X, A, S, k), squared=False)\n",
    "#     RMSE_CN_VECs.append(RMSE_CN_VEC)\n",
    "# #     print('CN VEC done')\n",
    "    print(share, 'done')"
   ]
  },
  {
   "cell_type": "code",
   "execution_count": null,
   "id": "a911c889",
   "metadata": {
    "ExecuteTime": {
     "end_time": "2022-02-06T12:47:16.358114Z",
     "start_time": "2022-02-06T12:47:16.186575Z"
    }
   },
   "outputs": [],
   "source": [
    "plt.figure(figsize=(8,4))\n",
    "plt.title('MMSB')\n",
    "plt.xlabel('Fraction of Unknown Covariates', fontsize=24)\n",
    "plt.ylabel('RMSE', fontsize=24)\n",
    "plt.yticks(fontsize=16)\n",
    "plt.xticks(fontsize=16)\n",
    "plt.ylim(0, 0.6)\n",
    "width = 0.01\n",
    "# plt.bar(x=shares-3*width, height=RMSE_CN_VECs, width=width, label='CN-VEC', color='r')\n",
    "plt.bar(x=shares-2*width, height=RMSE_SVD_RBFs, width=width, label='SVD-RBF', color='b', hatch='\\\\\\\\')\n",
    "plt.bar(x=shares-width, height=RMSE_NBRs, width=width, label='NBR', color='goldenrod', hatch='..')\n",
    "plt.bar(x=shares, height=RMSE_W_PPRs, width=width, label='W-PPR', color='mediumturquoise', hatch='--')\n",
    "plt.bar(x=shares+width, height=RMSE_Jaccards, width=width, label='Jaccard', color='burlywood', hatch='oo')\n",
    "plt.bar(x=shares+2*width, height=RMSE_CNs, width=width, label='CN', color='gray', hatch='//');\n",
    "# plt.legend();"
   ]
  }
 ],
 "metadata": {
  "kernelspec": {
   "display_name": "Python 3 (ipykernel)",
   "language": "python",
   "name": "python3"
  },
  "language_info": {
   "codemirror_mode": {
    "name": "ipython",
    "version": 3
   },
   "file_extension": ".py",
   "mimetype": "text/x-python",
   "name": "python",
   "nbconvert_exporter": "python",
   "pygments_lexer": "ipython3",
   "version": "3.9.7"
  },
  "toc": {
   "base_numbering": 1,
   "nav_menu": {},
   "number_sections": true,
   "sideBar": true,
   "skip_h1_title": false,
   "title_cell": "Table of Contents",
   "title_sidebar": "Contents",
   "toc_cell": false,
   "toc_position": {
    "height": "621.778px",
    "left": "24px",
    "top": "111.139px",
    "width": "341.306px"
   },
   "toc_section_display": true,
   "toc_window_display": true
  },
  "varInspector": {
   "cols": {
    "lenName": 16,
    "lenType": 16,
    "lenVar": 40
   },
   "kernels_config": {
    "python": {
     "delete_cmd_postfix": "",
     "delete_cmd_prefix": "del ",
     "library": "var_list.py",
     "varRefreshCmd": "print(var_dic_list())"
    },
    "r": {
     "delete_cmd_postfix": ") ",
     "delete_cmd_prefix": "rm(",
     "library": "var_list.r",
     "varRefreshCmd": "cat(var_dic_list()) "
    }
   },
   "types_to_exclude": [
    "module",
    "function",
    "builtin_function_or_method",
    "instance",
    "_Feature"
   ],
   "window_display": false
  }
 },
 "nbformat": 4,
 "nbformat_minor": 5
}
