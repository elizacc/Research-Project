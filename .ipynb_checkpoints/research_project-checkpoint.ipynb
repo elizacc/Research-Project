{
 "cells": [
  {
   "cell_type": "code",
   "execution_count": 1,
   "id": "559da0b1",
   "metadata": {
    "ExecuteTime": {
     "end_time": "2022-03-15T13:03:15.936530Z",
     "start_time": "2022-03-15T13:03:13.716823Z"
    }
   },
   "outputs": [
    {
     "name": "stderr",
     "output_type": "stream",
     "text": [
      "C:\\Users\\Liza\\anaconda3\\lib\\site-packages\\gensim\\similarities\\__init__.py:15: UserWarning: The gensim.similarities.levenshtein submodule is disabled, because the optional Levenshtein package <https://pypi.org/project/python-Levenshtein/> is unavailable. Install Levenhstein (e.g. `pip install python-Levenshtein`) to suppress this warning.\n",
      "  warnings.warn(msg)\n"
     ]
    }
   ],
   "source": [
    "import numpy as np\n",
    "import requests\n",
    "import networkx as nx\n",
    "import matplotlib.pyplot as plt\n",
    "import node2vec\n",
    "from tqdm.notebook import tqdm\n",
    "from gensim.models import Word2Vec\n",
    "from sklearn.metrics.pairwise import rbf_kernel\n",
    "from sklearn.metrics import mean_squared_error\n",
    "from scipy.sparse import csr_matrix, diags\n",
    "from scipy.sparse.linalg import svds"
   ]
  },
  {
   "cell_type": "markdown",
   "id": "ef871447",
   "metadata": {},
   "source": [
    "## Algorithms"
   ]
  },
  {
   "cell_type": "code",
   "execution_count": 34,
   "id": "81a94523",
   "metadata": {
    "ExecuteTime": {
     "end_time": "2022-03-15T11:00:15.066817Z",
     "start_time": "2022-03-15T11:00:15.053850Z"
    },
    "code_folding": [
     0
    ]
   },
   "outputs": [],
   "source": [
    "# # Algorithm 1\n",
    "# def CN_VEC(X, A, S, k):\n",
    "#     \"\"\"\n",
    "#     X: array, Covariates of all nodes. For nodes which covariates are unknown array contains NaN\n",
    "#     A: array, Adjacency matrix of the graph (now weighted)\n",
    "#     S: array of indexes, Set of nodes with known covariates\n",
    "#     k: number of neighbors\n",
    "    \n",
    "#     \"\"\"\n",
    "#     all_nodes = set(np.arange(len(A)))\n",
    "#     no_cov_nodes = all_nodes - set(S)\n",
    "#     X_hat = X.copy()\n",
    "    \n",
    "#     for node_i in no_cov_nodes:\n",
    "#         dists = []\n",
    "#         for node_j in S:\n",
    "#             C_i = np.delete(A[node_i] @ A, [node_i, node_j])\n",
    "#             C_j = np.delete(A[node_j] @ A, [node_i, node_j])\n",
    "#             dist = np.sum((C_i**2 - 2) * (C_i >= 2) + (C_j**2 - 2) * (C_j >= 2) - 2 * C_i * C_j)\n",
    "#             dists.append(dist)\n",
    "#         idxs = np.argsort(dists)[:k]\n",
    "#         ktop = np.array(S)[idxs]\n",
    "#         X_hat[node_i] = np.mean(X[ktop])\n",
    "        \n",
    "#     return X_hat"
   ]
  },
  {
   "cell_type": "code",
   "execution_count": 2,
   "id": "13fa37be",
   "metadata": {
    "ExecuteTime": {
     "end_time": "2022-03-15T13:03:17.513384Z",
     "start_time": "2022-03-15T13:03:17.501787Z"
    }
   },
   "outputs": [],
   "source": [
    "# Algorithm 1\n",
    "def CN_VEC(X, A, S, k):\n",
    "    \"\"\"\n",
    "    X: array, Covariates of all nodes. For nodes which covariates are unknown array contains NaN\n",
    "    A: array, Adjacency matrix of the graph (now weighted)\n",
    "    S: array of indexes, Set of nodes with known covariates\n",
    "    k: number of neighbors\n",
    "    \"\"\"\n",
    "    all_nodes = set(np.arange(A.shape[0]))\n",
    "    no_cov_nodes = all_nodes - set(S)\n",
    "    X_hat = X.copy()\n",
    "    C = A.dot(A).A\n",
    "    \n",
    "    for node_i in tqdm(no_cov_nodes):\n",
    "        Ci = np.ones_like(C) * C[node_i]\n",
    "        Ci[:, node_i] = 0\n",
    "        np.fill_diagonal(Ci, 0)\n",
    "        \n",
    "        Cj = C.copy()\n",
    "        Cj[:, node_i] = 0\n",
    "        np.fill_diagonal(Cj, 0)\n",
    "        \n",
    "        dists = np.sum((Ci**2 - 2) * (Ci >= 2) + (Cj**2 - 2) * (Cj >= 2) - 2 * Ci * Cj, axis=1)[S]\n",
    "        \n",
    "        idxs = np.argsort(dists)[:k]\n",
    "        ktop = np.array(S)[idxs]\n",
    "        X_hat[node_i] = np.mean(X[ktop])\n",
    "        \n",
    "    return X_hat"
   ]
  },
  {
   "cell_type": "code",
   "execution_count": 3,
   "id": "b74dfbde",
   "metadata": {
    "ExecuteTime": {
     "end_time": "2022-03-15T13:03:17.813372Z",
     "start_time": "2022-03-15T13:03:17.806370Z"
    }
   },
   "outputs": [],
   "source": [
    "# Algorithm 2\n",
    "def SVD_RBF(X, A, S, theta, d):\n",
    "    \"\"\"\n",
    "    X: array, Covariates of all nodes. For nodes which covariates are unknown array contains NaN\n",
    "    A: array, Adjacency matrix of the graph (now weighted)\n",
    "    S: array of indexes, Set of nodes with known covariates\n",
    "    theta: bandwidth\n",
    "    d: rank of matrix\n",
    "    \n",
    "    \"\"\"\n",
    "\n",
    "    U, E, _ = svds(A, d)\n",
    "    V = U * E**(1/2)\n",
    "    \n",
    "    all_nodes = set(np.arange(A.shape[0]))\n",
    "    no_cov_nodes = np.array(list(all_nodes - set(S)))\n",
    "    X_hat = X.copy()\n",
    "    dists = rbf_kernel(V, V, gamma=1/2/theta**2)\n",
    "    X_hat[no_cov_nodes] = np.sum(dists[no_cov_nodes][:, S] * X[S], axis=1) / np.sum(dists[no_cov_nodes][:, S], axis=1)\n",
    "        \n",
    "    return X_hat"
   ]
  },
  {
   "cell_type": "code",
   "execution_count": 4,
   "id": "c8988e69",
   "metadata": {
    "ExecuteTime": {
     "end_time": "2022-03-15T13:03:18.945920Z",
     "start_time": "2022-03-15T13:03:18.934917Z"
    }
   },
   "outputs": [],
   "source": [
    "def NBR(X, A, S):\n",
    "    all_nodes = set(np.arange(A.shape[0]))\n",
    "    no_cov_nodes = np.array(list(all_nodes - set(S)))\n",
    "    X_hat = X.copy()\n",
    "    neighbors = np.sum(A.A[no_cov_nodes][:, S], axis=1)\n",
    "    \n",
    "    X_hat[no_cov_nodes] = np.divide(np.sum(A.A[no_cov_nodes][:, S] * X[S], axis=1), neighbors, where=neighbors>0)\n",
    "        \n",
    "    return X_hat"
   ]
  },
  {
   "cell_type": "code",
   "execution_count": 139,
   "id": "14747cf0",
   "metadata": {
    "ExecuteTime": {
     "end_time": "2022-03-15T13:54:26.334952Z",
     "start_time": "2022-03-15T13:54:26.325933Z"
    }
   },
   "outputs": [],
   "source": [
    "def W_PPR(X, A, S, k):\n",
    "    all_nodes = set(np.arange(A.shape[0]))\n",
    "    no_cov_nodes = np.array(list(all_nodes - set(S)))\n",
    "    X_hat = X.copy()\n",
    "    \n",
    "    gamma = np.exp(-.25)\n",
    "    D = np.diag(A.dot(np.ones(A.shape[0])))\n",
    "    M = (1 - gamma) * np.linalg.inv(np.eye(D.shape[0]) - gamma * A.dot(np.linalg.inv(D)))\n",
    "    W = (M + M.T) / 2\n",
    "    \n",
    "    neighbors = np.argsort(W[no_cov_nodes][:, S], axis=1)[-k:]\n",
    "    weights = np.sum(np.take(W[no_cov_nodes][:, S], neighbors), axis=1)\n",
    "    X_hat[no_cov_nodes] = np.divide(np.sum(np.take(W[no_cov_nodes][:, S]*X[S], neighbors), axis=1), weights, where=weights>0)\n",
    "        \n",
    "    return X_hat"
   ]
  },
  {
   "cell_type": "code",
   "execution_count": 140,
   "id": "f556ff14",
   "metadata": {
    "ExecuteTime": {
     "end_time": "2022-03-15T13:54:26.552949Z",
     "start_time": "2022-03-15T13:54:26.546938Z"
    }
   },
   "outputs": [],
   "source": [
    "def Jaccard(X, A, S, k):\n",
    "    all_nodes = set(np.arange(A.shape[0]))\n",
    "    no_cov_nodes = np.array(list(all_nodes - set(S)))\n",
    "    X_hat = X.copy()\n",
    "    C = A.dot(A)\n",
    "    d = A.dot(np.outer(np.ones(A.shape[0]), np.ones(A.shape[0])))\n",
    "    W = np.array(C / (d + d.T - C))\n",
    "    \n",
    "    neighbors = np.argsort(W[no_cov_nodes][:, S], axis=1)[-k:]\n",
    "    weights = np.sum(np.take(W[no_cov_nodes][:, S], neighbors), axis=1)\n",
    "    X_hat[no_cov_nodes] = np.divide(np.sum(np.take(W[no_cov_nodes][:, S]*X[S], neighbors), axis=1), weights, where=weights>0)\n",
    "       \n",
    "    return X_hat"
   ]
  },
  {
   "cell_type": "code",
   "execution_count": 141,
   "id": "aaf56617",
   "metadata": {
    "ExecuteTime": {
     "end_time": "2022-03-15T13:54:26.866931Z",
     "start_time": "2022-03-15T13:54:26.858934Z"
    }
   },
   "outputs": [],
   "source": [
    "def CN(X, A, S, k):\n",
    "    all_nodes = set(np.arange(A.shape[0]))\n",
    "    no_cov_nodes = np.array(list(all_nodes - set(S)))\n",
    "    X_hat = X.copy()\n",
    "    \n",
    "    W = A.dot(A).A\n",
    "    \n",
    "    neighbors = np.argsort(W[no_cov_nodes][:, S], axis=1)[-k:]\n",
    "    weights = np.sum(np.take(W[no_cov_nodes][:, S], neighbors), axis=1)\n",
    "    X_hat[no_cov_nodes] = np.divide(np.sum(np.take(W[no_cov_nodes][:, S]*X[S], neighbors), axis=1), weights, where=weights>0)\n",
    "       \n",
    "    return X_hat"
   ]
  },
  {
   "cell_type": "code",
   "execution_count": 8,
   "id": "10a4caba",
   "metadata": {
    "ExecuteTime": {
     "end_time": "2022-03-15T13:03:31.170342Z",
     "start_time": "2022-03-15T13:03:31.154483Z"
    }
   },
   "outputs": [],
   "source": [
    "# https://github.com/aditya-grover/node2vec\n",
    "def learn_embeddings(walks):\n",
    "    '''\n",
    "    Learn embeddings by optimizing the Skipgram objective using SGD.\n",
    "    '''\n",
    "    walks = [list(map(str, walk)) for walk in walks]\n",
    "    model = Word2Vec(walks, vector_size=128, window=10, min_count=0, sg=1, workers=8, epochs=1)\n",
    "    \n",
    "    return model\n",
    "\n",
    "def main(A):\n",
    "    '''\n",
    "    Pipeline for representational learning for all nodes in a graph.\n",
    "    '''\n",
    "    nx_G = nx.from_numpy_array(A.A)\n",
    "    G = node2vec.Graph(nx_G, False, 1, 1)\n",
    "    G.preprocess_transition_probs()\n",
    "    walks = G.simulate_walks(10, 80)\n",
    "    \n",
    "    return learn_embeddings(walks)\n",
    "    \n",
    "def Node2Vec(X, A, S, theta, k):\n",
    "    all_nodes = set(np.arange(A.shape[0]))\n",
    "    no_cov_nodes = all_nodes - set(S)\n",
    "    X_hat = X.copy()\n",
    "    \n",
    "    embeddings = main(A)\n",
    "    \n",
    "    for node_i in tqdm(no_cov_nodes):\n",
    "        sims = []\n",
    "        for node_j in S:\n",
    "            sims.append(np.exp(-np.linalg.norm(embeddings.wv[node_i] - embeddings.wv[node_j])**2 / 2 / theta**2))\n",
    "        idxs = np.argsort(sims)[-k:]\n",
    "        ktop = np.array(S)[idxs]\n",
    "        X_hat[node_i] = np.mean(X[ktop])\n",
    "                        \n",
    "    return X_hat"
   ]
  },
  {
   "cell_type": "code",
   "execution_count": 29,
   "id": "80b3cd31",
   "metadata": {
    "ExecuteTime": {
     "end_time": "2022-03-15T11:17:33.346239Z",
     "start_time": "2022-03-15T11:17:33.336194Z"
    }
   },
   "outputs": [],
   "source": [
    "def graph_to_d_atleast2(G):\n",
    "    \"\"\"\n",
    "    This function is used to transform the original graph to a graph with minimum degree at least 2\n",
    "    \"\"\"\n",
    "    N = len(G.nodes)\n",
    "    new_node = N+1\n",
    "    source_list = []\n",
    "    target_list = []\n",
    "    for i in range(1,N+1):\n",
    "        if G.degree[i] == 1:\n",
    "            neigh = list(G.neighbors(i))\n",
    "            source_list = [source_list, i, new_node]\n",
    "            target_list = [target_list, new_node, neigh[0]]\n",
    "            new_node = new_node + 1\n",
    "\n",
    "    G = G.add_edges_from(list(zip(source_list,target_list)))\n",
    "    \n",
    "    return G\n",
    "\n",
    "def graph2lazy_nb_line_graph(G,mode):\n",
    "    \"\"\"\n",
    "    graph2lazy_nb_line_graph is used for transforming an undirected graph to a lazy non-backtracking line graph\n",
    "    which has a 2m by 2m symmetric adjacency matrix. This line graph is constructed by a symmetrication process\n",
    "    that denotes a average sum of non-backtracking transtion matrix and its transpose.\n",
    "    Input:\n",
    "       Data  - The adjacency matrix of original graph\n",
    "       N     - The node number of original graph\n",
    "       M     - The edge number of original graph\n",
    "    Output:\n",
    "      Oriented Line Graph with a sparse 2M *2M matrix\n",
    "    \"\"\"\n",
    "\n",
    "\n",
    "def NOBE(G, d=10):\n",
    "\n",
    "    N = len(G.nodes)\n",
    "\n",
    "    LG = graph_to_d_atleast2(G)\n",
    "    LLG = graph2nb_line_graph(LG, 1)\n",
    "    \n",
    "#     [U,D] = eigs_nodes(LLG,K+1,mode)\n",
    "#     [D,idx] = sort(diag(D),'descend')\n",
    "#     U = U(1:N, idx(2:K+1))"
   ]
  },
  {
   "cell_type": "markdown",
   "id": "e726d45f",
   "metadata": {},
   "source": [
    "### Tests"
   ]
  },
  {
   "cell_type": "markdown",
   "id": "d33b499e",
   "metadata": {},
   "source": [
    "#### Artificial"
   ]
  },
  {
   "cell_type": "code",
   "execution_count": 128,
   "id": "dd92e120",
   "metadata": {
    "ExecuteTime": {
     "end_time": "2022-03-15T13:53:08.920910Z",
     "start_time": "2022-03-15T13:53:08.905920Z"
    }
   },
   "outputs": [],
   "source": [
    "A = csr_matrix(np.array([[0,1,1,0,1],[1,0,1,1,1],[1,1,0,1,1],[0,1,1,0,1],[0,1,0,0,0]], dtype=np.float64))"
   ]
  },
  {
   "cell_type": "code",
   "execution_count": 129,
   "id": "cc1558b1",
   "metadata": {
    "ExecuteTime": {
     "end_time": "2022-03-15T13:53:09.191904Z",
     "start_time": "2022-03-15T13:53:09.112912Z"
    }
   },
   "outputs": [
    {
     "data": {
      "image/png": "[encoded data removed]",
      "text/plain": [
       "<Figure size 432x288 with 1 Axes>"
      ]
     },
     "metadata": {},
     "output_type": "display_data"
    }
   ],
   "source": [
    "G = nx.from_numpy_array(A)\n",
    "nx.draw_networkx(G, node_color='yellowgreen')\n",
    "plt.axis('off');"
   ]
  },
  {
   "cell_type": "code",
   "execution_count": 130,
   "id": "6addc324",
   "metadata": {
    "ExecuteTime": {
     "end_time": "2022-03-15T13:53:09.599936Z",
     "start_time": "2022-03-15T13:53:09.580904Z"
    }
   },
   "outputs": [],
   "source": [
    "X = np.array([np.nan,3,1,np.nan,2])\n",
    "S = [1,2,4]\n",
    "k = 2"
   ]
  },
  {
   "cell_type": "code",
   "execution_count": 118,
   "id": "a5bf64e3",
   "metadata": {
    "ExecuteTime": {
     "end_time": "2022-03-15T13:51:14.859770Z",
     "start_time": "2022-03-15T13:51:14.831776Z"
    }
   },
   "outputs": [
    {
     "data": {
      "application/vnd.jupyter.widget-view+json": {
       "model_id": "158d788f102e49729b042711a485ad2a",
       "version_major": 2,
       "version_minor": 0
      },
      "text/plain": [
       "  0%|          | 0/2 [00:00<?, ?it/s]"
      ]
     },
     "metadata": {},
     "output_type": "display_data"
    },
    {
     "data": {
      "text/plain": [
       "array([2., 3., 1., 2., 2.])"
      ]
     },
     "execution_count": 118,
     "metadata": {},
     "output_type": "execute_result"
    }
   ],
   "source": [
    "CN_VEC(X, A, S, k)"
   ]
  },
  {
   "cell_type": "code",
   "execution_count": 119,
   "id": "0708a449",
   "metadata": {
    "ExecuteTime": {
     "end_time": "2022-03-15T13:51:15.506975Z",
     "start_time": "2022-03-15T13:51:15.498978Z"
    }
   },
   "outputs": [
    {
     "data": {
      "text/plain": [
       "array([1.95934136, 3.        , 1.        , 1.95934136, 2.        ])"
      ]
     },
     "execution_count": 119,
     "metadata": {},
     "output_type": "execute_result"
    }
   ],
   "source": [
    "SVD_RBF(X, A, S, 1.5, k)"
   ]
  },
  {
   "cell_type": "code",
   "execution_count": 120,
   "id": "055a246f",
   "metadata": {
    "ExecuteTime": {
     "end_time": "2022-03-15T13:51:16.088066Z",
     "start_time": "2022-03-15T13:51:16.074069Z"
    }
   },
   "outputs": [
    {
     "data": {
      "text/plain": [
       "array([2., 3., 1., 2., 2.])"
      ]
     },
     "execution_count": 120,
     "metadata": {},
     "output_type": "execute_result"
    }
   ],
   "source": [
    "NBR(X, A, S)"
   ]
  },
  {
   "cell_type": "code",
   "execution_count": 142,
   "id": "2d60552a",
   "metadata": {
    "ExecuteTime": {
     "end_time": "2022-03-15T13:54:34.561553Z",
     "start_time": "2022-03-15T13:54:34.549555Z"
    }
   },
   "outputs": [
    {
     "data": {
      "text/plain": [
       "array([2.07428563, 3.        , 1.        , 2.07428563, 2.        ])"
      ]
     },
     "execution_count": 142,
     "metadata": {},
     "output_type": "execute_result"
    }
   ],
   "source": [
    "W_PPR(X, A, S, k)"
   ]
  },
  {
   "cell_type": "code",
   "execution_count": 144,
   "id": "972feaf1",
   "metadata": {
    "ExecuteTime": {
     "end_time": "2022-03-15T13:54:40.640258Z",
     "start_time": "2022-03-15T13:54:40.631260Z"
    }
   },
   "outputs": [
    {
     "data": {
      "text/plain": [
       "array([2.14893617, 3.        , 1.        , 2.14893617, 2.        ])"
      ]
     },
     "execution_count": 144,
     "metadata": {},
     "output_type": "execute_result"
    }
   ],
   "source": [
    "Jaccard(X, A, S, k)"
   ]
  },
  {
   "cell_type": "code",
   "execution_count": 145,
   "id": "85e9df5f",
   "metadata": {
    "ExecuteTime": {
     "end_time": "2022-03-15T13:54:44.560661Z",
     "start_time": "2022-03-15T13:54:44.551698Z"
    }
   },
   "outputs": [
    {
     "data": {
      "text/plain": [
       "array([2.2, 3. , 1. , 2.2, 2. ])"
      ]
     },
     "execution_count": 145,
     "metadata": {},
     "output_type": "execute_result"
    }
   ],
   "source": [
    "CN(X, A, S, k)"
   ]
  },
  {
   "cell_type": "code",
   "execution_count": 146,
   "id": "d4d3d869",
   "metadata": {
    "ExecuteTime": {
     "end_time": "2022-03-15T13:54:49.736987Z",
     "start_time": "2022-03-15T13:54:49.681979Z"
    }
   },
   "outputs": [
    {
     "name": "stdout",
     "output_type": "stream",
     "text": [
      "Walk iteration:\n",
      "1 / 10\n",
      "2 / 10\n",
      "3 / 10\n",
      "4 / 10\n",
      "5 / 10\n",
      "6 / 10\n",
      "7 / 10\n",
      "8 / 10\n",
      "9 / 10\n",
      "10 / 10\n"
     ]
    },
    {
     "data": {
      "application/vnd.jupyter.widget-view+json": {
       "model_id": "bd4158e3770f4416a5211a9b4972b326",
       "version_major": 2,
       "version_minor": 0
      },
      "text/plain": [
       "  0%|          | 0/2 [00:00<?, ?it/s]"
      ]
     },
     "metadata": {},
     "output_type": "display_data"
    },
    {
     "data": {
      "text/plain": [
       "array([2.5, 3. , 1. , 1.5, 2. ])"
      ]
     },
     "execution_count": 146,
     "metadata": {},
     "output_type": "execute_result"
    }
   ],
   "source": [
    "Node2Vec(X, A, S, 1.5, k)"
   ]
  },
  {
   "cell_type": "markdown",
   "id": "4b543783",
   "metadata": {},
   "source": [
    "#### Real"
   ]
  },
  {
   "cell_type": "code",
   "execution_count": 147,
   "id": "92b1d8a7",
   "metadata": {
    "ExecuteTime": {
     "end_time": "2022-03-15T13:54:54.600541Z",
     "start_time": "2022-03-15T13:54:54.294738Z"
    }
   },
   "outputs": [],
   "source": [
    "url = 'https://raw.githubusercontent.com/network-science-course/network-science-course/main/datasets/the_matrix_graph.gexf'\n",
    "open('the_matrix_graph.gexf', 'wb').write(requests.get(url).content);"
   ]
  },
  {
   "cell_type": "code",
   "execution_count": 148,
   "id": "9e26bb41",
   "metadata": {
    "ExecuteTime": {
     "end_time": "2022-03-15T13:54:54.883327Z",
     "start_time": "2022-03-15T13:54:54.708324Z"
    }
   },
   "outputs": [
    {
     "data": {
      "image/png": "[encoded data removed]",
      "text/plain": [
       "<Figure size 936x504 with 1 Axes>"
      ]
     },
     "metadata": {},
     "output_type": "display_data"
    }
   ],
   "source": [
    "def get_matrix_graph():\n",
    "    G = nx.read_gexf('the_matrix_graph.gexf')\n",
    "    mapping = {}\n",
    "    for node in G.nodes:\n",
    "        mapping[node] = G.nodes[node]['label']\n",
    "    G = nx.relabel_nodes(G, mapping)\n",
    "    return G\n",
    "matrixG = get_matrix_graph()\n",
    "plt.figure(figsize=(13, 7))\n",
    "layout = nx.kamada_kawai_layout(matrixG)\n",
    "nx.draw_networkx(matrixG, pos=layout)"
   ]
  },
  {
   "cell_type": "code",
   "execution_count": 149,
   "id": "c77e721c",
   "metadata": {
    "ExecuteTime": {
     "end_time": "2022-03-15T13:54:55.488584Z",
     "start_time": "2022-03-15T13:54:55.471564Z"
    }
   },
   "outputs": [],
   "source": [
    "A = nx.linalg.adjacency_matrix(matrixG).toarray()"
   ]
  },
  {
   "cell_type": "code",
   "execution_count": 150,
   "id": "a07ed026",
   "metadata": {
    "ExecuteTime": {
     "end_time": "2022-03-15T13:54:55.946277Z",
     "start_time": "2022-03-15T13:54:55.930287Z"
    }
   },
   "outputs": [],
   "source": [
    "A = csr_matrix((A > 0).astype(float))"
   ]
  },
  {
   "cell_type": "code",
   "execution_count": 151,
   "id": "6bd7723f",
   "metadata": {
    "ExecuteTime": {
     "end_time": "2022-03-15T13:54:56.427636Z",
     "start_time": "2022-03-15T13:54:56.397640Z"
    }
   },
   "outputs": [
    {
     "data": {
      "application/vnd.jupyter.widget-view+json": {
       "model_id": "3531cb39b9e74872aa83803b7c908b1d",
       "version_major": 2,
       "version_minor": 0
      },
      "text/plain": [
       "  0%|          | 0/28 [00:00<?, ?it/s]"
      ]
     },
     "metadata": {},
     "output_type": "display_data"
    },
    {
     "data": {
      "text/plain": [
       "array([3.66666667, 4.        , 3.66666667, 4.        , 3.        ,\n",
       "       3.66666667, 3.66666667, 3.66666667, 3.66666667, 3.66666667,\n",
       "       3.66666667, 3.66666667, 3.66666667, 3.66666667, 3.66666667,\n",
       "       3.66666667, 3.66666667, 3.66666667, 3.66666667, 3.66666667,\n",
       "       3.66666667, 3.66666667, 3.66666667, 3.66666667, 3.66666667,\n",
       "       3.66666667, 3.66666667, 3.66666667, 3.66666667, 3.66666667,\n",
       "       3.66666667])"
      ]
     },
     "execution_count": 151,
     "metadata": {},
     "output_type": "execute_result"
    }
   ],
   "source": [
    "CN_VEC(np.array(list(nx.get_node_attributes(matrixG, 'Eccentricity').values())), A, [1,3,4], 5)"
   ]
  },
  {
   "cell_type": "code",
   "execution_count": 152,
   "id": "0fd15956",
   "metadata": {
    "ExecuteTime": {
     "end_time": "2022-03-15T13:54:56.959108Z",
     "start_time": "2022-03-15T13:54:56.941110Z"
    }
   },
   "outputs": [
    {
     "data": {
      "text/plain": [
       "array([3.7221194 , 4.        , 3.69749884, 4.        , 3.        ,\n",
       "       3.59475274, 3.6803777 , 3.6803777 , 3.62806509, 3.67083882,\n",
       "       3.70903321, 3.68665244, 3.71082671, 3.68228056, 3.67567637,\n",
       "       3.69830543, 3.59475274, 3.648734  , 3.7036423 , 3.70700707,\n",
       "       3.71517701, 3.6906273 , 3.70065743, 3.70700707, 3.70614916,\n",
       "       3.71500653, 3.62244381, 3.69013034, 3.59679855, 3.66130606,\n",
       "       3.68228056])"
      ]
     },
     "execution_count": 152,
     "metadata": {},
     "output_type": "execute_result"
    }
   ],
   "source": [
    "SVD_RBF(np.array(list(nx.get_node_attributes(matrixG, 'Eccentricity').values())), A, [1,3,4], 1.5, 4)"
   ]
  },
  {
   "cell_type": "markdown",
   "id": "0f8a534c",
   "metadata": {},
   "source": [
    "## Experiments"
   ]
  },
  {
   "cell_type": "code",
   "execution_count": 36,
   "id": "9a707360",
   "metadata": {
    "ExecuteTime": {
     "end_time": "2022-03-15T13:04:50.679865Z",
     "start_time": "2022-03-15T13:04:50.669955Z"
    }
   },
   "outputs": [],
   "source": [
    "n = 2500\n",
    "d = 5"
   ]
  },
  {
   "cell_type": "markdown",
   "id": "064212dd",
   "metadata": {},
   "source": [
    "### Latent Space Model (LSM)"
   ]
  },
  {
   "cell_type": "code",
   "execution_count": 45,
   "id": "73af5648",
   "metadata": {
    "ExecuteTime": {
     "end_time": "2022-03-15T13:11:50.060250Z",
     "start_time": "2022-03-15T13:11:50.041253Z"
    }
   },
   "outputs": [],
   "source": [
    "Z = np.random.uniform(0, 1, size=(n, d))"
   ]
  },
  {
   "cell_type": "code",
   "execution_count": 46,
   "id": "87f35ed3",
   "metadata": {
    "ExecuteTime": {
     "end_time": "2022-03-15T13:11:51.507537Z",
     "start_time": "2022-03-15T13:11:51.308309Z"
    }
   },
   "outputs": [],
   "source": [
    "rho = 1\n",
    "P = np.zeros((n,n))\n",
    "for i in range(n):\n",
    "    P[i] = rho / (1 + np.exp(2.5 * np.sqrt(np.sum((Z - Z[i])**2, axis=1))))"
   ]
  },
  {
   "cell_type": "code",
   "execution_count": 47,
   "id": "9d8ecb4f",
   "metadata": {
    "ExecuteTime": {
     "end_time": "2022-03-15T13:11:52.618364Z",
     "start_time": "2022-03-15T13:11:52.190553Z"
    }
   },
   "outputs": [
    {
     "name": "stderr",
     "output_type": "stream",
     "text": [
      "C:\\Users\\Liza\\anaconda3\\lib\\site-packages\\scipy\\sparse\\_index.py:125: SparseEfficiencyWarning: Changing the sparsity structure of a csr_matrix is expensive. lil_matrix is more efficient.\n",
      "  self._set_arrayXarray(i, j, x)\n"
     ]
    }
   ],
   "source": [
    "A = csr_matrix(np.random.binomial(1, P, (n,n)).astype(float))\n",
    "A.setdiag(0)\n",
    "A.eliminate_zeros()"
   ]
  },
  {
   "cell_type": "code",
   "execution_count": 53,
   "id": "22be76cd",
   "metadata": {
    "ExecuteTime": {
     "end_time": "2022-03-15T13:12:29.579757Z",
     "start_time": "2022-03-15T13:12:29.569059Z"
    }
   },
   "outputs": [],
   "source": [
    "beta = np.random.normal(0, np.sqrt(100), (d,1))\n",
    "X = (Z @ beta).flatten() + np.random.normal(0, .1, (n,))"
   ]
  },
  {
   "cell_type": "markdown",
   "id": "2579053e",
   "metadata": {},
   "source": [
    "#### Available algorithms"
   ]
  },
  {
   "cell_type": "code",
   "execution_count": 56,
   "id": "6a2ae6d3",
   "metadata": {
    "ExecuteTime": {
     "end_time": "2022-03-15T13:12:35.511450Z",
     "start_time": "2022-03-15T13:12:35.505459Z"
    }
   },
   "outputs": [],
   "source": [
    "k=10\n",
    "share = 0.5\n",
    "S = np.random.choice(np.arange(n), size=int(n*(1-share)), replace=False)"
   ]
  },
  {
   "cell_type": "code",
   "execution_count": 57,
   "id": "72b85613",
   "metadata": {
    "ExecuteTime": {
     "end_time": "2022-03-15T13:19:52.021954Z",
     "start_time": "2022-03-15T13:12:36.023418Z"
    }
   },
   "outputs": [
    {
     "name": "stdout",
     "output_type": "stream",
     "text": [
      "NBR done\n",
      "W_PPR done\n",
      "Jaccard done\n",
      "CN done\n",
      "SVD RBF done\n"
     ]
    },
    {
     "data": {
      "application/vnd.jupyter.widget-view+json": {
       "model_id": "be92d065a8404fcead124c1706b380dc",
       "version_major": 2,
       "version_minor": 0
      },
      "text/plain": [
       "  0%|          | 0/1250 [00:00<?, ?it/s]"
      ]
     },
     "metadata": {},
     "output_type": "display_data"
    },
    {
     "name": "stdout",
     "output_type": "stream",
     "text": [
      "CN VEC done\n"
     ]
    }
   ],
   "source": [
    "RMSE_NBR = mean_squared_error(X, NBR(X, A, S), squared=False)\n",
    "print('NBR done')\n",
    "RMSE_W_PPR = mean_squared_error(X, W_PPR(X, A, S, k), squared=False)\n",
    "print('W_PPR done')\n",
    "RMSE_Jaccard = mean_squared_error(X, Jaccard(X, A, S, k), squared=False)\n",
    "print('Jaccard done')\n",
    "RMSE_CN = mean_squared_error(X, CN(X, A, S, k), squared=False)\n",
    "print('CN done')\n",
    "RMSE_SVD_RBF = mean_squared_error(X, SVD_RBF(X, A, S, (np.log(n))**(3/d) / n**(1 / 2 / (d+1)), d), squared=False)\n",
    "print('SVD RBF done')\n",
    "RMSE_CN_VEC = mean_squared_error(X, CN_VEC(X, A, S, k), squared=False)\n",
    "print('CN VEC done')"
   ]
  },
  {
   "cell_type": "code",
   "execution_count": 61,
   "id": "468c3596",
   "metadata": {
    "ExecuteTime": {
     "end_time": "2022-03-02T10:39:39.085421Z",
     "start_time": "2022-03-02T10:39:39.069394Z"
    }
   },
   "outputs": [],
   "source": [
    "RMSE_NBRs = [RMSE_NBR]\n",
    "RMSE_W_PPRs = [RMSE_W_PPR]\n",
    "RMSE_Jaccards = [RMSE_Jaccard]\n",
    "RMSE_CNs = [RMSE_CN]\n",
    "RMSE_SVD_RBFs = [RMSE_SVD_RBF]\n",
    "RMSE_CN_VECs = [RMSE_CN_VEC]"
   ]
  },
  {
   "cell_type": "code",
   "execution_count": 62,
   "id": "542f455d",
   "metadata": {
    "ExecuteTime": {
     "end_time": "2022-03-02T10:39:40.209313Z",
     "start_time": "2022-03-02T10:39:40.189051Z"
    }
   },
   "outputs": [],
   "source": [
    "share = 0.6\n",
    "S = np.random.choice(np.arange(n), size=int(n*(1-share)), replace=False)"
   ]
  },
  {
   "cell_type": "code",
   "execution_count": 63,
   "id": "10a9005f",
   "metadata": {
    "ExecuteTime": {
     "end_time": "2022-03-02T10:41:43.993973Z",
     "start_time": "2022-03-02T10:39:41.966587Z"
    }
   },
   "outputs": [
    {
     "name": "stdout",
     "output_type": "stream",
     "text": [
      "NBR done\n",
      "W_PPR done\n",
      "Jaccard done\n",
      "CN done\n"
     ]
    }
   ],
   "source": [
    "RMSE_NBR = mean_squared_error(X, NBR(X, A, S), squared=False)\n",
    "RMSE_NBRs.append(RMSE_NBR)\n",
    "print('NBR done')\n",
    "RMSE_W_PPR = mean_squared_error(X, W_PPR(X, A, S, k), squared=False)\n",
    "RMSE_W_PPRs.append(RMSE_W_PPR)\n",
    "print('W_PPR done')\n",
    "RMSE_Jaccard = mean_squared_error(X, Jaccard(X, A, S, k), squared=False)\n",
    "RMSE_Jaccards.append(RMSE_Jaccard)\n",
    "print('Jaccard done')\n",
    "RMSE_CN = mean_squared_error(X, CN(X, A, S, k), squared=False)\n",
    "RMSE_CNs.append(RMSE_CN)\n",
    "print('CN done')\n",
    "RMSE_SVD_RBF = mean_squared_error(X, SVD_RBF(X, A, S, (np.log(n))**(3/d) / n**(1 / 2 / (d+1)), d), squared=False)\n",
    "RMSE_SVD_RBFs.append(RMSE_SVD_RBF)\n",
    "print('SVD RBF done')\n",
    "RMSE_CN_VEC = mean_squared_error(X, CN_VEC(X, A, S, k), squared=False)\n",
    "RMSE_CN_VECs.append(RMSE_CN_VEC)\n",
    "print('CN VEC done')"
   ]
  },
  {
   "cell_type": "code",
   "execution_count": 64,
   "id": "ca15d236",
   "metadata": {
    "ExecuteTime": {
     "end_time": "2022-03-02T10:42:56.382286Z",
     "start_time": "2022-03-02T10:42:56.364397Z"
    }
   },
   "outputs": [],
   "source": [
    "share = 0.7\n",
    "S = np.random.choice(np.arange(n), size=int(n*(1-share)), replace=False)"
   ]
  },
  {
   "cell_type": "code",
   "execution_count": 65,
   "id": "d23b658d",
   "metadata": {
    "ExecuteTime": {
     "end_time": "2022-03-02T10:44:59.523779Z",
     "start_time": "2022-03-02T10:42:57.309852Z"
    }
   },
   "outputs": [
    {
     "name": "stdout",
     "output_type": "stream",
     "text": [
      "NBR done\n",
      "W_PPR done\n",
      "Jaccard done\n",
      "CN done\n"
     ]
    }
   ],
   "source": [
    "RMSE_NBR = mean_squared_error(X, NBR(X, A, S), squared=False)\n",
    "RMSE_NBRs.append(RMSE_NBR)\n",
    "print('NBR done')\n",
    "RMSE_W_PPR = mean_squared_error(X, W_PPR(X, A, S, k), squared=False)\n",
    "RMSE_W_PPRs.append(RMSE_W_PPR)\n",
    "print('W_PPR done')\n",
    "RMSE_Jaccard = mean_squared_error(X, Jaccard(X, A, S, k), squared=False)\n",
    "RMSE_Jaccards.append(RMSE_Jaccard)\n",
    "print('Jaccard done')\n",
    "RMSE_CN = mean_squared_error(X, CN(X, A, S, k), squared=False)\n",
    "RMSE_CNs.append(RMSE_CN)\n",
    "print('CN done')\n",
    "RMSE_SVD_RBF = mean_squared_error(X, SVD_RBF(X, A, S, (np.log(n))**(3/d) / n**(1 / 2 / (d+1)), d), squared=False)\n",
    "RMSE_SVD_RBFs.append(RMSE_SVD_RBF)\n",
    "print('SVD RBF done')\n",
    "RMSE_CN_VEC = mean_squared_error(X, CN_VEC(X, A, S, k), squared=False)\n",
    "RMSE_CN_VECs.append(RMSE_CN_VEC)\n",
    "print('CN VEC done')"
   ]
  },
  {
   "cell_type": "code",
   "execution_count": 66,
   "id": "6a054bf2",
   "metadata": {
    "ExecuteTime": {
     "end_time": "2022-03-02T10:45:02.150760Z",
     "start_time": "2022-03-02T10:45:02.143677Z"
    }
   },
   "outputs": [],
   "source": [
    "share = 0.8\n",
    "S = np.random.choice(np.arange(n), size=int(n*(1-share)), replace=False)"
   ]
  },
  {
   "cell_type": "code",
   "execution_count": 67,
   "id": "1760eb1a",
   "metadata": {
    "ExecuteTime": {
     "end_time": "2022-03-02T10:47:04.211341Z",
     "start_time": "2022-03-02T10:45:02.942688Z"
    }
   },
   "outputs": [
    {
     "name": "stdout",
     "output_type": "stream",
     "text": [
      "NBR done\n",
      "W_PPR done\n",
      "Jaccard done\n",
      "CN done\n"
     ]
    }
   ],
   "source": [
    "RMSE_NBR = mean_squared_error(X, NBR(X, A, S), squared=False)\n",
    "RMSE_NBRs.append(RMSE_NBR)\n",
    "print('NBR done')\n",
    "RMSE_W_PPR = mean_squared_error(X, W_PPR(X, A, S, k), squared=False)\n",
    "RMSE_W_PPRs.append(RMSE_W_PPR)\n",
    "print('W_PPR done')\n",
    "RMSE_Jaccard = mean_squared_error(X, Jaccard(X, A, S, k), squared=False)\n",
    "RMSE_Jaccards.append(RMSE_Jaccard)\n",
    "print('Jaccard done')\n",
    "RMSE_CN = mean_squared_error(X, CN(X, A, S, k), squared=False)\n",
    "RMSE_CNs.append(RMSE_CN)\n",
    "print('CN done')\n",
    "RMSE_SVD_RBF = mean_squared_error(X, SVD_RBF(X, A, S, (np.log(n))**(3/d) / n**(1 / 2 / (d+1)), d), squared=False)\n",
    "RMSE_SVD_RBFs.append(RMSE_SVD_RBF)\n",
    "print('SVD RBF done')\n",
    "RMSE_CN_VEC = mean_squared_error(X, CN_VEC(X, A, S, k), squared=False)\n",
    "RMSE_CN_VECs.append(RMSE_CN_VEC)\n",
    "print('CN VEC done')"
   ]
  },
  {
   "cell_type": "code",
   "execution_count": 68,
   "id": "6dba894b",
   "metadata": {
    "ExecuteTime": {
     "end_time": "2022-03-02T10:47:51.376813Z",
     "start_time": "2022-03-02T10:47:51.359813Z"
    }
   },
   "outputs": [],
   "source": [
    "share = 0.9\n",
    "S = np.random.choice(np.arange(n), size=int(n*(1-share)), replace=False)"
   ]
  },
  {
   "cell_type": "code",
   "execution_count": 69,
   "id": "25d04d0f",
   "metadata": {
    "ExecuteTime": {
     "end_time": "2022-03-02T10:49:54.021503Z",
     "start_time": "2022-03-02T10:47:52.893560Z"
    }
   },
   "outputs": [
    {
     "name": "stdout",
     "output_type": "stream",
     "text": [
      "NBR done\n",
      "W_PPR done\n",
      "Jaccard done\n",
      "CN done\n"
     ]
    }
   ],
   "source": [
    "RMSE_NBR = mean_squared_error(X, NBR(X, A, S), squared=False)\n",
    "RMSE_NBRs.append(RMSE_NBR)\n",
    "print('NBR done')\n",
    "RMSE_W_PPR = mean_squared_error(X, W_PPR(X, A, S, k), squared=False)\n",
    "RMSE_W_PPRs.append(RMSE_W_PPR)\n",
    "print('W_PPR done')\n",
    "RMSE_Jaccard = mean_squared_error(X, Jaccard(X, A, S, k), squared=False)\n",
    "RMSE_Jaccards.append(RMSE_Jaccard)\n",
    "print('Jaccard done')\n",
    "RMSE_CN = mean_squared_error(X, CN(X, A, S, k), squared=False)\n",
    "RMSE_CNs.append(RMSE_CN)\n",
    "print('CN done')\n",
    "RMSE_SVD_RBF = mean_squared_error(X, SVD_RBF(X, A, S, (np.log(n))**(3/d) / n**(1 / 2 / (d+1)), d), squared=False)\n",
    "RMSE_SVD_RBFs.append(RMSE_SVD_RBF)\n",
    "print('SVD RBF done')\n",
    "RMSE_CN_VEC = mean_squared_error(X, CN_VEC(X, A, S, k), squared=False)\n",
    "RMSE_CN_VECs.append(RMSE_CN_VEC)\n",
    "print('CN VEC done')"
   ]
  },
  {
   "cell_type": "code",
   "execution_count": 70,
   "id": "4b22001a",
   "metadata": {
    "ExecuteTime": {
     "end_time": "2022-03-02T10:55:44.198867Z",
     "start_time": "2022-03-02T10:55:44.067033Z"
    }
   },
   "outputs": [
    {
     "data": {
      "image/png": "[encoded data removed]",
      "text/plain": [
       "<Figure size 576x288 with 1 Axes>"
      ]
     },
     "metadata": {
      "needs_background": "light"
     },
     "output_type": "display_data"
    }
   ],
   "source": [
    "plt.figure(figsize=(8,4))\n",
    "plt.title('LSM')\n",
    "plt.xlabel('fraction of unknown covariates')\n",
    "plt.ylabel('RMSE')\n",
    "colors = plt.cm.summer_r(np.linspace(0.2,1,5))\n",
    "plt.plot([0.5, 0.6, 0.7, 0.8, 0.9], RMSE_NBRs, marker='o', color=colors[0], label='NBR')\n",
    "plt.plot([0.5, 0.6, 0.7, 0.8, 0.9], RMSE_W_PPRs, marker='*', color=colors[1], label='W-PPR')\n",
    "plt.plot([0.5, 0.6, 0.7, 0.8, 0.9], RMSE_Jaccards, marker='^', color=colors[2], label='Jaccard')\n",
    "plt.plot([0.5, 0.6, 0.7, 0.8, 0.9], RMSE_CNs, marker='s', color=colors[3], label='CN')\n",
    "plt.plot([0.5, 0.6, 0.7, 0.8, 0.9], RMSE_SVD_RBFs, color=colors[4], label='SVD-RBF')\n",
    "plt.plot([0.5, 0.6, 0.7, 0.8, 0.9], RMSE_CN_VECs, color=colors[5], label='CN-VEC')\n",
    "plt.legend();"
   ]
  },
  {
   "cell_type": "markdown",
   "id": "3cf11803",
   "metadata": {},
   "source": [
    "### Stochastic Blockmodel (SBM)"
   ]
  },
  {
   "cell_type": "code",
   "execution_count": 71,
   "id": "2f5d2595",
   "metadata": {
    "ExecuteTime": {
     "end_time": "2022-03-02T11:00:49.484164Z",
     "start_time": "2022-03-02T11:00:49.463169Z"
    }
   },
   "outputs": [],
   "source": [
    "Z0 = np.array([np.eye(d)[0]] * (n // 5))\n",
    "Z1 = np.array([np.eye(d)[1]] * (n // 5))\n",
    "Z2 = np.array([np.eye(d)[2]] * (n // 5))\n",
    "Z3 = np.array([np.eye(d)[3]] * (n // 5))\n",
    "Z4 = np.array([np.eye(d)[4]] * (n // 5))\n",
    "Z = np.concatenate([Z0, Z1, Z2, Z3, Z4])"
   ]
  },
  {
   "cell_type": "code",
   "execution_count": 72,
   "id": "4557b1ef",
   "metadata": {
    "ExecuteTime": {
     "end_time": "2022-03-02T11:00:49.964659Z",
     "start_time": "2022-03-02T11:00:49.951598Z"
    }
   },
   "outputs": [],
   "source": [
    "theta = np.random.uniform(0, 1, (d,d))\n",
    "theta = (theta + theta.T + 2 * np.eye(d)) / 4"
   ]
  },
  {
   "cell_type": "code",
   "execution_count": 73,
   "id": "e3df612d",
   "metadata": {
    "ExecuteTime": {
     "end_time": "2022-03-02T11:00:50.371065Z",
     "start_time": "2022-03-02T11:00:50.325308Z"
    }
   },
   "outputs": [],
   "source": [
    "rho = 0.1\n",
    "P = np.zeros((n,n))\n",
    "for i in range(n):\n",
    "    P[i] = rho * Z @ (Z[i] @ theta)"
   ]
  },
  {
   "cell_type": "code",
   "execution_count": 74,
   "id": "750872b4",
   "metadata": {
    "ExecuteTime": {
     "end_time": "2022-03-02T11:00:50.884932Z",
     "start_time": "2022-03-02T11:00:50.700093Z"
    }
   },
   "outputs": [],
   "source": [
    "A = np.random.binomial(1, P, (n,n))\n",
    "np.fill_diagonal(A, 0)"
   ]
  },
  {
   "cell_type": "code",
   "execution_count": 75,
   "id": "06070576",
   "metadata": {
    "ExecuteTime": {
     "end_time": "2022-03-02T11:00:51.228370Z",
     "start_time": "2022-03-02T11:00:51.221355Z"
    }
   },
   "outputs": [],
   "source": [
    "beta = np.random.normal(0, np.sqrt(100), (d,1))\n",
    "X = Z @ beta + np.random.normal(0, .1, (n,1))"
   ]
  },
  {
   "cell_type": "markdown",
   "id": "de502fb8",
   "metadata": {},
   "source": [
    "#### Available algorithms"
   ]
  },
  {
   "cell_type": "code",
   "execution_count": 76,
   "id": "6e1e9da3",
   "metadata": {
    "ExecuteTime": {
     "end_time": "2022-03-02T11:00:52.285866Z",
     "start_time": "2022-03-02T11:00:52.278846Z"
    }
   },
   "outputs": [],
   "source": [
    "k=10\n",
    "share = 0.5\n",
    "S = np.random.choice(np.arange(n), size=int(n*(1-share)), replace=False)"
   ]
  },
  {
   "cell_type": "code",
   "execution_count": 77,
   "id": "75d1357e",
   "metadata": {
    "ExecuteTime": {
     "end_time": "2022-03-02T11:02:53.159014Z",
     "start_time": "2022-03-02T11:00:52.957947Z"
    }
   },
   "outputs": [
    {
     "name": "stdout",
     "output_type": "stream",
     "text": [
      "NBR done\n",
      "W_PPR done\n",
      "Jaccard done\n",
      "CN done\n"
     ]
    }
   ],
   "source": [
    "RMSE_NBR = mean_squared_error(X, NBR(X, A, S), squared=False)\n",
    "print('NBR done')\n",
    "RMSE_W_PPR = mean_squared_error(X, W_PPR(X, A, S, k), squared=False)\n",
    "print('W_PPR done')\n",
    "RMSE_Jaccard = mean_squared_error(X, Jaccard(X, A, S, k), squared=False)\n",
    "print('Jaccard done')\n",
    "RMSE_CN = mean_squared_error(X, CN(X, A, S, k), squared=False)\n",
    "print('CN done')\n",
    "RMSE_SVD_RBF = mean_squared_error(X, SVD_RBF(X, A, S, (np.log(n))**(3/d) / n**(1 / 2 / (d+1)), d), squared=False)\n",
    "print('SVD RBF done')\n",
    "RMSE_CN_VEC = mean_squared_error(X, CN_VEC(X, A, S, k), squared=False)\n",
    "print('CN VEC done')"
   ]
  },
  {
   "cell_type": "code",
   "execution_count": 78,
   "id": "e4c28741",
   "metadata": {
    "ExecuteTime": {
     "end_time": "2022-03-02T11:03:12.642124Z",
     "start_time": "2022-03-02T11:03:12.637045Z"
    }
   },
   "outputs": [],
   "source": [
    "RMSE_NBRs = [RMSE_NBR]\n",
    "RMSE_W_PPRs = [RMSE_W_PPR]\n",
    "RMSE_Jaccards = [RMSE_Jaccard]\n",
    "RMSE_CNs = [RMSE_CN]\n",
    "RMSE_SVD_RBFs = [RMSE_SVD_RBF]\n",
    "RMSE_CN_VECs = [RMSE_CN_VEC]"
   ]
  },
  {
   "cell_type": "code",
   "execution_count": 79,
   "id": "cdbbdc5d",
   "metadata": {
    "ExecuteTime": {
     "end_time": "2022-03-02T11:03:13.658367Z",
     "start_time": "2022-03-02T11:03:13.643366Z"
    }
   },
   "outputs": [],
   "source": [
    "share = 0.6\n",
    "S = np.random.choice(np.arange(n), size=int(n*(1-share)), replace=False)"
   ]
  },
  {
   "cell_type": "code",
   "execution_count": 80,
   "id": "9e06b9bc",
   "metadata": {
    "ExecuteTime": {
     "end_time": "2022-03-02T11:05:14.788230Z",
     "start_time": "2022-03-02T11:03:15.086192Z"
    }
   },
   "outputs": [
    {
     "name": "stdout",
     "output_type": "stream",
     "text": [
      "NBR done\n",
      "W_PPR done\n",
      "Jaccard done\n",
      "CN done\n"
     ]
    }
   ],
   "source": [
    "RMSE_NBR = mean_squared_error(X, NBR(X, A, S), squared=False)\n",
    "RMSE_NBRs.append(RMSE_NBR)\n",
    "print('NBR done')\n",
    "RMSE_W_PPR = mean_squared_error(X, W_PPR(X, A, S, k), squared=False)\n",
    "RMSE_W_PPRs.append(RMSE_W_PPR)\n",
    "print('W_PPR done')\n",
    "RMSE_Jaccard = mean_squared_error(X, Jaccard(X, A, S, k), squared=False)\n",
    "RMSE_Jaccards.append(RMSE_Jaccard)\n",
    "print('Jaccard done')\n",
    "RMSE_CN = mean_squared_error(X, CN(X, A, S, k), squared=False)\n",
    "RMSE_CNs.append(RMSE_CN)\n",
    "print('CN done')\n",
    "RMSE_SVD_RBF = mean_squared_error(X, SVD_RBF(X, A, S, (np.log(n))**(3/d) / n**(1 / 2 / (d+1)), d), squared=False)\n",
    "RMSE_SVD_RBFs.append(RMSE_SVD_RBF)\n",
    "print('SVD RBF done')\n",
    "RMSE_CN_VEC = mean_squared_error(X, CN_VEC(X, A, S, k), squared=False)\n",
    "RMSE_CN_VECs.append(RMSE_CN_VEC)\n",
    "print('CN VEC done')"
   ]
  },
  {
   "cell_type": "code",
   "execution_count": 81,
   "id": "82da8920",
   "metadata": {
    "ExecuteTime": {
     "end_time": "2022-03-02T11:05:18.215043Z",
     "start_time": "2022-03-02T11:05:18.197042Z"
    }
   },
   "outputs": [],
   "source": [
    "share = 0.7\n",
    "S = np.random.choice(np.arange(n), size=int(n*(1-share)), replace=False)"
   ]
  },
  {
   "cell_type": "code",
   "execution_count": 82,
   "id": "927bc62e",
   "metadata": {
    "ExecuteTime": {
     "end_time": "2022-03-02T11:07:18.900596Z",
     "start_time": "2022-03-02T11:05:18.694475Z"
    }
   },
   "outputs": [
    {
     "name": "stdout",
     "output_type": "stream",
     "text": [
      "NBR done\n",
      "W_PPR done\n",
      "Jaccard done\n",
      "CN done\n"
     ]
    }
   ],
   "source": [
    "RMSE_NBR = mean_squared_error(X, NBR(X, A, S), squared=False)\n",
    "RMSE_NBRs.append(RMSE_NBR)\n",
    "print('NBR done')\n",
    "RMSE_W_PPR = mean_squared_error(X, W_PPR(X, A, S, k), squared=False)\n",
    "RMSE_W_PPRs.append(RMSE_W_PPR)\n",
    "print('W_PPR done')\n",
    "RMSE_Jaccard = mean_squared_error(X, Jaccard(X, A, S, k), squared=False)\n",
    "RMSE_Jaccards.append(RMSE_Jaccard)\n",
    "print('Jaccard done')\n",
    "RMSE_CN = mean_squared_error(X, CN(X, A, S, k), squared=False)\n",
    "RMSE_CNs.append(RMSE_CN)\n",
    "print('CN done')\n",
    "RMSE_SVD_RBF = mean_squared_error(X, SVD_RBF(X, A, S, (np.log(n))**(3/d) / n**(1 / 2 / (d+1)), d), squared=False)\n",
    "RMSE_SVD_RBFs.append(RMSE_SVD_RBF)\n",
    "print('SVD RBF done')\n",
    "RMSE_CN_VEC = mean_squared_error(X, CN_VEC(X, A, S, k), squared=False)\n",
    "RMSE_CN_VECs.append(RMSE_CN_VEC)\n",
    "print('CN VEC done')"
   ]
  },
  {
   "cell_type": "code",
   "execution_count": 83,
   "id": "76d6b7a2",
   "metadata": {
    "ExecuteTime": {
     "end_time": "2022-03-02T11:09:27.938938Z",
     "start_time": "2022-03-02T11:09:27.928928Z"
    }
   },
   "outputs": [],
   "source": [
    "share = 0.8\n",
    "S = np.random.choice(np.arange(n), size=int(n*(1-share)), replace=False)"
   ]
  },
  {
   "cell_type": "code",
   "execution_count": 84,
   "id": "4ba7a009",
   "metadata": {
    "ExecuteTime": {
     "end_time": "2022-03-02T11:11:36.574043Z",
     "start_time": "2022-03-02T11:09:28.678039Z"
    }
   },
   "outputs": [
    {
     "name": "stdout",
     "output_type": "stream",
     "text": [
      "NBR done\n",
      "W_PPR done\n",
      "Jaccard done\n",
      "CN done\n"
     ]
    }
   ],
   "source": [
    "RMSE_NBR = mean_squared_error(X, NBR(X, A, S), squared=False)\n",
    "RMSE_NBRs.append(RMSE_NBR)\n",
    "print('NBR done')\n",
    "RMSE_W_PPR = mean_squared_error(X, W_PPR(X, A, S, k), squared=False)\n",
    "RMSE_W_PPRs.append(RMSE_W_PPR)\n",
    "print('W_PPR done')\n",
    "RMSE_Jaccard = mean_squared_error(X, Jaccard(X, A, S, k), squared=False)\n",
    "RMSE_Jaccards.append(RMSE_Jaccard)\n",
    "print('Jaccard done')\n",
    "RMSE_CN = mean_squared_error(X, CN(X, A, S, k), squared=False)\n",
    "RMSE_CNs.append(RMSE_CN)\n",
    "print('CN done')\n",
    "RMSE_SVD_RBF = mean_squared_error(X, SVD_RBF(X, A, S, (np.log(n))**(3/d) / n**(1 / 2 / (d+1)), d), squared=False)\n",
    "RMSE_SVD_RBFs.append(RMSE_SVD_RBF)\n",
    "print('SVD RBF done')\n",
    "RMSE_CN_VEC = mean_squared_error(X, CN_VEC(X, A, S, k), squared=False)\n",
    "RMSE_CN_VECs.append(RMSE_CN_VEC)\n",
    "print('CN VEC done')"
   ]
  },
  {
   "cell_type": "code",
   "execution_count": 85,
   "id": "d7aa1fa6",
   "metadata": {
    "ExecuteTime": {
     "end_time": "2022-03-02T11:12:21.455183Z",
     "start_time": "2022-03-02T11:12:21.439180Z"
    }
   },
   "outputs": [],
   "source": [
    "share = 0.9\n",
    "S = np.random.choice(np.arange(n), size=int(n*(1-share)), replace=False)"
   ]
  },
  {
   "cell_type": "code",
   "execution_count": 86,
   "id": "9f68982a",
   "metadata": {
    "ExecuteTime": {
     "end_time": "2022-03-02T11:15:07.659600Z",
     "start_time": "2022-03-02T11:12:22.733311Z"
    }
   },
   "outputs": [
    {
     "name": "stdout",
     "output_type": "stream",
     "text": [
      "NBR done\n",
      "W_PPR done\n",
      "Jaccard done\n",
      "CN done\n"
     ]
    }
   ],
   "source": [
    "RMSE_NBR = mean_squared_error(X, NBR(X, A, S), squared=False)\n",
    "RMSE_NBRs.append(RMSE_NBR)\n",
    "print('NBR done')\n",
    "RMSE_W_PPR = mean_squared_error(X, W_PPR(X, A, S, k), squared=False)\n",
    "RMSE_W_PPRs.append(RMSE_W_PPR)\n",
    "print('W_PPR done')\n",
    "RMSE_Jaccard = mean_squared_error(X, Jaccard(X, A, S, k), squared=False)\n",
    "RMSE_Jaccards.append(RMSE_Jaccard)\n",
    "print('Jaccard done')\n",
    "RMSE_CN = mean_squared_error(X, CN(X, A, S, k), squared=False)\n",
    "RMSE_CNs.append(RMSE_CN)\n",
    "print('CN done')\n",
    "RMSE_SVD_RBF = mean_squared_error(X, SVD_RBF(X, A, S, (np.log(n))**(3/d) / n**(1 / 2 / (d+1)), d), squared=False)\n",
    "RMSE_SVD_RBFs.append(RMSE_SVD_RBF)\n",
    "print('SVD RBF done')\n",
    "RMSE_CN_VEC = mean_squared_error(X, CN_VEC(X, A, S, k), squared=False)\n",
    "RMSE_CN_VECs.append(RMSE_CN_VEC)\n",
    "print('CN VEC done')"
   ]
  },
  {
   "cell_type": "code",
   "execution_count": 87,
   "id": "23756d56",
   "metadata": {
    "ExecuteTime": {
     "end_time": "2022-03-02T11:15:23.800331Z",
     "start_time": "2022-03-02T11:15:23.664741Z"
    }
   },
   "outputs": [
    {
     "data": {
      "image/png": "[encoded data removed]",
      "text/plain": [
       "<Figure size 576x288 with 1 Axes>"
      ]
     },
     "metadata": {
      "needs_background": "light"
     },
     "output_type": "display_data"
    }
   ],
   "source": [
    "plt.figure(figsize=(8,4))\n",
    "plt.title('SBM')\n",
    "plt.xlabel('fraction of unknown covariates')\n",
    "plt.ylabel('RMSE')\n",
    "colors = plt.cm.summer_r(np.linspace(0.2,1,5))\n",
    "plt.plot([0.5, 0.6, 0.7, 0.8, 0.9], RMSE_NBRs, marker='o', color=colors[0], label='NBR')\n",
    "plt.plot([0.5, 0.6, 0.7, 0.8, 0.9], RMSE_W_PPRs, marker='*', color=colors[1], label='W-PPR')\n",
    "plt.plot([0.5, 0.6, 0.7, 0.8, 0.9], RMSE_Jaccards, marker='^', color=colors[2], label='Jaccard')\n",
    "plt.plot([0.5, 0.6, 0.7, 0.8, 0.9], RMSE_CNs, marker='s', color=colors[3], label='CN')\n",
    "plt.plot([0.5, 0.6, 0.7, 0.8, 0.9], RMSE_SVD_RBFs, color=colors[4], label='SVD-RBF')\n",
    "plt.plot([0.5, 0.6, 0.7, 0.8, 0.9], RMSE_CN_VECs, color=colors[5], label='CN-VEC')\n",
    "plt.legend();"
   ]
  },
  {
   "cell_type": "markdown",
   "id": "65011f31",
   "metadata": {},
   "source": [
    "### Mixed-membership Stochastic Blockmodel (MMSB)"
   ]
  },
  {
   "cell_type": "code",
   "execution_count": 88,
   "id": "e1986122",
   "metadata": {
    "ExecuteTime": {
     "end_time": "2022-03-02T11:16:20.105404Z",
     "start_time": "2022-03-02T11:16:20.093470Z"
    }
   },
   "outputs": [],
   "source": [
    "Z = np.random.dirichlet(np.ones(5) / 5, (n,))"
   ]
  },
  {
   "cell_type": "code",
   "execution_count": 89,
   "id": "3894310b",
   "metadata": {
    "ExecuteTime": {
     "end_time": "2022-03-02T11:16:20.693602Z",
     "start_time": "2022-03-02T11:16:20.673401Z"
    }
   },
   "outputs": [],
   "source": [
    "theta = np.ones((d,d)) * 0.1\n",
    "np.fill_diagonal(theta, 1)"
   ]
  },
  {
   "cell_type": "code",
   "execution_count": 90,
   "id": "0d111091",
   "metadata": {
    "ExecuteTime": {
     "end_time": "2022-03-02T11:16:21.279423Z",
     "start_time": "2022-03-02T11:16:21.218253Z"
    }
   },
   "outputs": [],
   "source": [
    "rho = 0.1\n",
    "P = np.zeros((n,n))\n",
    "for i in range(n):\n",
    "    P[i] = rho * Z @ (Z[i] @ theta)"
   ]
  },
  {
   "cell_type": "code",
   "execution_count": 91,
   "id": "c3fd1f91",
   "metadata": {
    "ExecuteTime": {
     "end_time": "2022-03-02T11:16:22.055230Z",
     "start_time": "2022-03-02T11:16:21.769249Z"
    }
   },
   "outputs": [],
   "source": [
    "A = np.random.binomial(1, P, (n,n))\n",
    "np.fill_diagonal(A, 0)"
   ]
  },
  {
   "cell_type": "code",
   "execution_count": 92,
   "id": "434441e4",
   "metadata": {
    "ExecuteTime": {
     "end_time": "2022-03-02T11:16:22.469324Z",
     "start_time": "2022-03-02T11:16:22.465326Z"
    }
   },
   "outputs": [],
   "source": [
    "beta = np.random.normal(0, np.sqrt(100), (d,1))\n",
    "X = Z @ beta + np.random.normal(0, .1, (n,1))"
   ]
  },
  {
   "cell_type": "markdown",
   "id": "ac2eb491",
   "metadata": {},
   "source": [
    "#### Available algorithms"
   ]
  },
  {
   "cell_type": "code",
   "execution_count": 93,
   "id": "6de9e0a9",
   "metadata": {
    "ExecuteTime": {
     "end_time": "2022-03-02T11:16:23.772765Z",
     "start_time": "2022-03-02T11:16:23.759585Z"
    }
   },
   "outputs": [],
   "source": [
    "k=10\n",
    "share = 0.5\n",
    "S = np.random.choice(np.arange(n), size=int(n*(1-share)), replace=False)"
   ]
  },
  {
   "cell_type": "code",
   "execution_count": 94,
   "id": "bf38761e",
   "metadata": {
    "ExecuteTime": {
     "end_time": "2022-03-02T11:18:39.863925Z",
     "start_time": "2022-03-02T11:16:24.601380Z"
    }
   },
   "outputs": [
    {
     "name": "stdout",
     "output_type": "stream",
     "text": [
      "NBR done\n",
      "W_PPR done\n",
      "Jaccard done\n",
      "CN done\n"
     ]
    }
   ],
   "source": [
    "RMSE_NBR = mean_squared_error(X, NBR(X, A, S), squared=False)\n",
    "print('NBR done')\n",
    "RMSE_W_PPR = mean_squared_error(X, W_PPR(X, A, S, k), squared=False)\n",
    "print('W_PPR done')\n",
    "RMSE_Jaccard = mean_squared_error(X, Jaccard(X, A, S, k), squared=False)\n",
    "print('Jaccard done')\n",
    "RMSE_CN = mean_squared_error(X, CN(X, A, S, k), squared=False)\n",
    "print('CN done')\n",
    "RMSE_SVD_RBF = mean_squared_error(X, SVD_RBF(X, A, S, (np.log(n))**(3/d) / n**(1 / 2 / (d+1)), d), squared=False)\n",
    "print('SVD RBF done')\n",
    "RMSE_CN_VEC = mean_squared_error(X, CN_VEC(X, A, S, k), squared=False)\n",
    "print('CN VEC done')"
   ]
  },
  {
   "cell_type": "code",
   "execution_count": 95,
   "id": "8fa02e77",
   "metadata": {
    "ExecuteTime": {
     "end_time": "2022-03-02T11:18:41.595175Z",
     "start_time": "2022-03-02T11:18:41.591193Z"
    }
   },
   "outputs": [],
   "source": [
    "RMSE_NBRs = [RMSE_NBR]\n",
    "RMSE_W_PPRs = [RMSE_W_PPR]\n",
    "RMSE_Jaccards = [RMSE_Jaccard]\n",
    "RMSE_CNs = [RMSE_CN]\n",
    "RMSE_SVD_RBFs = [RMSE_SVD_RBF]\n",
    "RMSE_CN_VECs = [RMSE_CN_VEC]"
   ]
  },
  {
   "cell_type": "code",
   "execution_count": 96,
   "id": "3df1db73",
   "metadata": {
    "ExecuteTime": {
     "end_time": "2022-03-02T11:18:42.284441Z",
     "start_time": "2022-03-02T11:18:42.268092Z"
    }
   },
   "outputs": [],
   "source": [
    "share = 0.6\n",
    "S = np.random.choice(np.arange(n), size=int(n*(1-share)), replace=False)"
   ]
  },
  {
   "cell_type": "code",
   "execution_count": 97,
   "id": "905cd49f",
   "metadata": {
    "ExecuteTime": {
     "end_time": "2022-03-02T11:20:44.211460Z",
     "start_time": "2022-03-02T11:18:42.956337Z"
    }
   },
   "outputs": [
    {
     "name": "stdout",
     "output_type": "stream",
     "text": [
      "NBR done\n",
      "W_PPR done\n",
      "Jaccard done\n",
      "CN done\n"
     ]
    }
   ],
   "source": [
    "RMSE_NBR = mean_squared_error(X, NBR(X, A, S), squared=False)\n",
    "RMSE_NBRs.append(RMSE_NBR)\n",
    "print('NBR done')\n",
    "RMSE_W_PPR = mean_squared_error(X, W_PPR(X, A, S, k), squared=False)\n",
    "RMSE_W_PPRs.append(RMSE_W_PPR)\n",
    "print('W_PPR done')\n",
    "RMSE_Jaccard = mean_squared_error(X, Jaccard(X, A, S, k), squared=False)\n",
    "RMSE_Jaccards.append(RMSE_Jaccard)\n",
    "print('Jaccard done')\n",
    "RMSE_CN = mean_squared_error(X, CN(X, A, S, k), squared=False)\n",
    "RMSE_CNs.append(RMSE_CN)\n",
    "print('CN done')\n",
    "RMSE_SVD_RBF = mean_squared_error(X, SVD_RBF(X, A, S, (np.log(n))**(3/d) / n**(1 / 2 / (d+1)), d), squared=False)\n",
    "RMSE_SVD_RBFs.append(RMSE_SVD_RBF)\n",
    "print('SVD RBF done')\n",
    "RMSE_CN_VEC = mean_squared_error(X, CN_VEC(X, A, S, k), squared=False)\n",
    "RMSE_CN_VECs.append(RMSE_CN_VEC)\n",
    "print('CN VEC done')"
   ]
  },
  {
   "cell_type": "code",
   "execution_count": 98,
   "id": "15735bad",
   "metadata": {
    "ExecuteTime": {
     "end_time": "2022-03-02T11:21:01.896454Z",
     "start_time": "2022-03-02T11:21:01.880446Z"
    }
   },
   "outputs": [],
   "source": [
    "share = 0.7\n",
    "S = np.random.choice(np.arange(n), size=int(n*(1-share)), replace=False)"
   ]
  },
  {
   "cell_type": "code",
   "execution_count": 99,
   "id": "e851afd3",
   "metadata": {
    "ExecuteTime": {
     "end_time": "2022-03-02T11:23:03.796069Z",
     "start_time": "2022-03-02T11:21:02.602757Z"
    }
   },
   "outputs": [
    {
     "name": "stdout",
     "output_type": "stream",
     "text": [
      "NBR done\n",
      "W_PPR done\n",
      "Jaccard done\n",
      "CN done\n"
     ]
    }
   ],
   "source": [
    "RMSE_NBR = mean_squared_error(X, NBR(X, A, S), squared=False)\n",
    "RMSE_NBRs.append(RMSE_NBR)\n",
    "print('NBR done')\n",
    "RMSE_W_PPR = mean_squared_error(X, W_PPR(X, A, S, k), squared=False)\n",
    "RMSE_W_PPRs.append(RMSE_W_PPR)\n",
    "print('W_PPR done')\n",
    "RMSE_Jaccard = mean_squared_error(X, Jaccard(X, A, S, k), squared=False)\n",
    "RMSE_Jaccards.append(RMSE_Jaccard)\n",
    "print('Jaccard done')\n",
    "RMSE_CN = mean_squared_error(X, CN(X, A, S, k), squared=False)\n",
    "RMSE_CNs.append(RMSE_CN)\n",
    "print('CN done')\n",
    "RMSE_SVD_RBF = mean_squared_error(X, SVD_RBF(X, A, S, (np.log(n))**(3/d) / n**(1 / 2 / (d+1)), d), squared=False)\n",
    "RMSE_SVD_RBFs.append(RMSE_SVD_RBF)\n",
    "print('SVD RBF done')\n",
    "RMSE_CN_VEC = mean_squared_error(X, CN_VEC(X, A, S, k), squared=False)\n",
    "RMSE_CN_VECs.append(RMSE_CN_VEC)\n",
    "print('CN VEC done')"
   ]
  },
  {
   "cell_type": "code",
   "execution_count": 100,
   "id": "fb88d676",
   "metadata": {
    "ExecuteTime": {
     "end_time": "2022-03-02T11:23:06.337022Z",
     "start_time": "2022-03-02T11:23:06.325808Z"
    }
   },
   "outputs": [],
   "source": [
    "share = 0.8\n",
    "S = np.random.choice(np.arange(n), size=int(n*(1-share)), replace=False)"
   ]
  },
  {
   "cell_type": "code",
   "execution_count": 101,
   "id": "2a1a513e",
   "metadata": {
    "ExecuteTime": {
     "end_time": "2022-03-02T11:25:08.322777Z",
     "start_time": "2022-03-02T11:23:06.964916Z"
    }
   },
   "outputs": [
    {
     "name": "stdout",
     "output_type": "stream",
     "text": [
      "NBR done\n",
      "W_PPR done\n",
      "Jaccard done\n",
      "CN done\n"
     ]
    }
   ],
   "source": [
    "RMSE_NBR = mean_squared_error(X, NBR(X, A, S), squared=False)\n",
    "RMSE_NBRs.append(RMSE_NBR)\n",
    "print('NBR done')\n",
    "RMSE_W_PPR = mean_squared_error(X, W_PPR(X, A, S, k), squared=False)\n",
    "RMSE_W_PPRs.append(RMSE_W_PPR)\n",
    "print('W_PPR done')\n",
    "RMSE_Jaccard = mean_squared_error(X, Jaccard(X, A, S, k), squared=False)\n",
    "RMSE_Jaccards.append(RMSE_Jaccard)\n",
    "print('Jaccard done')\n",
    "RMSE_CN = mean_squared_error(X, CN(X, A, S, k), squared=False)\n",
    "RMSE_CNs.append(RMSE_CN)\n",
    "print('CN done')\n",
    "RMSE_SVD_RBF = mean_squared_error(X, SVD_RBF(X, A, S, (np.log(n))**(3/d) / n**(1 / 2 / (d+1)), d), squared=False)\n",
    "RMSE_SVD_RBFs.append(RMSE_SVD_RBF)\n",
    "print('SVD RBF done')\n",
    "RMSE_CN_VEC = mean_squared_error(X, CN_VEC(X, A, S, k), squared=False)\n",
    "RMSE_CN_VECs.append(RMSE_CN_VEC)\n",
    "print('CN VEC done')"
   ]
  },
  {
   "cell_type": "code",
   "execution_count": 102,
   "id": "8ea39fc7",
   "metadata": {
    "ExecuteTime": {
     "end_time": "2022-03-02T11:25:10.149901Z",
     "start_time": "2022-03-02T11:25:10.133717Z"
    }
   },
   "outputs": [],
   "source": [
    "share = 0.9\n",
    "S = np.random.choice(np.arange(n), size=int(n*(1-share)), replace=False)"
   ]
  },
  {
   "cell_type": "code",
   "execution_count": 103,
   "id": "bb387cb9",
   "metadata": {
    "ExecuteTime": {
     "end_time": "2022-03-02T11:27:11.673910Z",
     "start_time": "2022-03-02T11:25:10.667082Z"
    }
   },
   "outputs": [
    {
     "name": "stdout",
     "output_type": "stream",
     "text": [
      "NBR done\n",
      "W_PPR done\n",
      "Jaccard done\n",
      "CN done\n"
     ]
    }
   ],
   "source": [
    "RMSE_NBR = mean_squared_error(X, NBR(X, A, S), squared=False)\n",
    "RMSE_NBRs.append(RMSE_NBR)\n",
    "print('NBR done')\n",
    "RMSE_W_PPR = mean_squared_error(X, W_PPR(X, A, S, k), squared=False)\n",
    "RMSE_W_PPRs.append(RMSE_W_PPR)\n",
    "print('W_PPR done')\n",
    "RMSE_Jaccard = mean_squared_error(X, Jaccard(X, A, S, k), squared=False)\n",
    "RMSE_Jaccards.append(RMSE_Jaccard)\n",
    "print('Jaccard done')\n",
    "RMSE_CN = mean_squared_error(X, CN(X, A, S, k), squared=False)\n",
    "RMSE_CNs.append(RMSE_CN)\n",
    "print('CN done')\n",
    "RMSE_SVD_RBF = mean_squared_error(X, SVD_RBF(X, A, S, (np.log(n))**(3/d) / n**(1 / 2 / (d+1)), d), squared=False)\n",
    "RMSE_SVD_RBFs.append(RMSE_SVD_RBF)\n",
    "print('SVD RBF done')\n",
    "RMSE_CN_VEC = mean_squared_error(X, CN_VEC(X, A, S, k), squared=False)\n",
    "RMSE_CN_VECs.append(RMSE_CN_VEC)\n",
    "print('CN VEC done')"
   ]
  },
  {
   "cell_type": "code",
   "execution_count": 104,
   "id": "849a2960",
   "metadata": {
    "ExecuteTime": {
     "end_time": "2022-03-02T11:27:14.581158Z",
     "start_time": "2022-03-02T11:27:14.450805Z"
    }
   },
   "outputs": [
    {
     "data": {
      "image/png": "[encoded data removed]",
      "text/plain": [
       "<Figure size 576x288 with 1 Axes>"
      ]
     },
     "metadata": {
      "needs_background": "light"
     },
     "output_type": "display_data"
    }
   ],
   "source": [
    "plt.figure(figsize=(8,4))\n",
    "plt.title('MMSB')\n",
    "plt.xlabel('fraction of unknown covariates')\n",
    "plt.ylabel('RMSE')\n",
    "colors = plt.cm.summer_r(np.linspace(0.2,1,5))\n",
    "plt.plot([0.5, 0.6, 0.7, 0.8, 0.9], RMSE_NBRs, marker='o', color=colors[0], label='NBR')\n",
    "plt.plot([0.5, 0.6, 0.7, 0.8, 0.9], RMSE_W_PPRs, marker='*', color=colors[1], label='W-PPR')\n",
    "plt.plot([0.5, 0.6, 0.7, 0.8, 0.9], RMSE_Jaccards, marker='^', color=colors[2], label='Jaccard')\n",
    "plt.plot([0.5, 0.6, 0.7, 0.8, 0.9], RMSE_CNs, marker='s', color=colors[3], label='CN')\n",
    "plt.plot([0.5, 0.6, 0.7, 0.8, 0.9], RMSE_SVD_RBFs, color=colors[4], label='SVD-RBF')\n",
    "plt.plot([0.5, 0.6, 0.7, 0.8, 0.9], RMSE_CN_VECs, color=colors[5], label='CN-VEC')\n",
    "plt.legend();"
   ]
  },
  {
   "cell_type": "markdown",
   "id": "e5778a24",
   "metadata": {},
   "source": [
    "### Random Dot Product Graph model (RDPG)"
   ]
  },
  {
   "cell_type": "code",
   "execution_count": 113,
   "id": "2a51b979",
   "metadata": {
    "ExecuteTime": {
     "end_time": "2022-02-06T13:00:12.503261Z",
     "start_time": "2022-02-06T13:00:12.490628Z"
    }
   },
   "outputs": [],
   "source": [
    "Z = np.random.normal(1, np.sqrt(0.1), size=(n, d)) + np.random.normal(2, np.sqrt(0.1), size=(n, d)) + np.random.normal(3, np.sqrt(0.1), size=(n, d)) + np.random.normal(4, np.sqrt(0.1), size=(n, d)) + np.random.normal(5, np.sqrt(0.1), size=(n, d))"
   ]
  },
  {
   "cell_type": "code",
   "execution_count": 114,
   "id": "cfe49cc9",
   "metadata": {
    "ExecuteTime": {
     "end_time": "2022-02-06T13:00:13.250435Z",
     "start_time": "2022-02-06T13:00:13.079280Z"
    }
   },
   "outputs": [],
   "source": [
    "rho = 0.1\n",
    "P = np.zeros((n,n))\n",
    "for i in range(n):\n",
    "    P[i] = np.min(np.stack((np.ones_like(Z @ Z[i]), np.max(np.stack((np.zeros_like(Z @ Z[i]), Z @ Z[i])), axis=0))), axis=0)"
   ]
  },
  {
   "cell_type": "code",
   "execution_count": 115,
   "id": "a8fcae3b",
   "metadata": {
    "ExecuteTime": {
     "end_time": "2022-02-06T13:00:13.797164Z",
     "start_time": "2022-02-06T13:00:13.648263Z"
    }
   },
   "outputs": [],
   "source": [
    "A = np.random.binomial(1, P, (n,n))\n",
    "np.fill_diagonal(A, 0)"
   ]
  },
  {
   "cell_type": "code",
   "execution_count": 116,
   "id": "c1645ec7",
   "metadata": {
    "ExecuteTime": {
     "end_time": "2022-02-06T13:00:14.218182Z",
     "start_time": "2022-02-06T13:00:14.209170Z"
    }
   },
   "outputs": [],
   "source": [
    "beta = np.random.normal(0, np.sqrt(100), (d,1))\n",
    "X = Z @ beta + np.random.normal(0, .1, (n,1))"
   ]
  },
  {
   "cell_type": "markdown",
   "id": "2934df64",
   "metadata": {},
   "source": [
    "#### Available algorithms"
   ]
  },
  {
   "cell_type": "code",
   "execution_count": 101,
   "id": "a26dbb49",
   "metadata": {
    "ExecuteTime": {
     "end_time": "2022-02-06T12:49:00.753684Z",
     "start_time": "2022-02-06T12:49:00.747669Z"
    }
   },
   "outputs": [],
   "source": [
    "k=10\n",
    "share = 0.5\n",
    "S = np.random.choice(np.arange(n), size=int(n*(1-share)), replace=False)"
   ]
  },
  {
   "cell_type": "code",
   "execution_count": null,
   "id": "b22dc161",
   "metadata": {
    "ExecuteTime": {
     "end_time": "2022-02-06T12:50:56.287098Z",
     "start_time": "2022-02-06T12:49:01.282394Z"
    }
   },
   "outputs": [],
   "source": [
    "RMSE_NBR = np.sqrt(np.sum((X - NBR(X, A, S))**2))\n",
    "print('NBR done')\n",
    "RMSE_W_PPR = np.sqrt(np.sum((X - W_PPR(X, A, S, k))**2))\n",
    "print('W_PPR done')\n",
    "RMSE_Jaccard = np.sqrt(np.sum((X - Jaccard(X, A, S, k))**2))\n",
    "print('Jaccard done')\n",
    "RMSE_CN = np.sqrt(np.sum((X - CN(X, A, S, k))**2))\n",
    "print('CN done')"
   ]
  },
  {
   "cell_type": "code",
   "execution_count": 103,
   "id": "963fbaeb",
   "metadata": {
    "ExecuteTime": {
     "end_time": "2022-02-06T12:50:57.640346Z",
     "start_time": "2022-02-06T12:50:57.630349Z"
    }
   },
   "outputs": [],
   "source": [
    "RMSE_NBRs = [RMSE_NBR]\n",
    "RMSE_W_PPRs = [RMSE_W_PPR]\n",
    "RMSE_Jaccards = [RMSE_Jaccard]\n",
    "RMSE_CNs = [RMSE_CN]"
   ]
  },
  {
   "cell_type": "code",
   "execution_count": 104,
   "id": "a54de2d6",
   "metadata": {
    "ExecuteTime": {
     "end_time": "2022-02-06T12:50:58.142199Z",
     "start_time": "2022-02-06T12:50:58.130576Z"
    }
   },
   "outputs": [],
   "source": [
    "share = 0.6\n",
    "S = np.random.choice(np.arange(n), size=int(n*(1-share)), replace=False)"
   ]
  },
  {
   "cell_type": "code",
   "execution_count": null,
   "id": "ed4b9528",
   "metadata": {
    "ExecuteTime": {
     "end_time": "2022-02-06T12:53:00.429264Z",
     "start_time": "2022-02-06T12:50:58.741379Z"
    }
   },
   "outputs": [],
   "source": [
    "RMSE_NBR = mean_squared_error(X, NBR(X, A, S), squared=False)\n",
    "RMSE_NBRs.append(RMSE_NBR)\n",
    "print('NBR done')\n",
    "RMSE_W_PPR = mean_squared_error(X, W_PPR(X, A, S, k), squared=False)\n",
    "RMSE_W_PPRs.append(RMSE_W_PPR)\n",
    "print('W_PPR done')\n",
    "RMSE_Jaccard = mean_squared_error(X, Jaccard(X, A, S, k), squared=False)\n",
    "RMSE_Jaccards.append(RMSE_Jaccard)\n",
    "print('Jaccard done')\n",
    "RMSE_CN = mean_squared_error(X, CN(X, A, S, k), squared=False)\n",
    "RMSE_CNs.append(RMSE_CN)\n",
    "print('CN done')\n",
    "RMSE_SVD_RBF = mean_squared_error(X, SVD_RBF(X, A, S, (np.log(n))**(3/k) / n**(1 / 2 / (k+1)), k), squared=False)\n",
    "RMSE_SVD_RBFs.append(RMSE_SVD_RBF)\n",
    "print('SVD RBF done')"
   ]
  },
  {
   "cell_type": "code",
   "execution_count": 106,
   "id": "9a6b5d04",
   "metadata": {
    "ExecuteTime": {
     "end_time": "2022-02-06T12:53:35.521101Z",
     "start_time": "2022-02-06T12:53:35.511081Z"
    }
   },
   "outputs": [],
   "source": [
    "share = 0.7\n",
    "S = np.random.choice(np.arange(n), size=int(n*(1-share)), replace=False)"
   ]
  },
  {
   "cell_type": "code",
   "execution_count": null,
   "id": "54800fb5",
   "metadata": {
    "ExecuteTime": {
     "end_time": "2022-02-06T12:55:31.410122Z",
     "start_time": "2022-02-06T12:53:36.087903Z"
    }
   },
   "outputs": [],
   "source": [
    "RMSE_NBR = mean_squared_error(X, NBR(X, A, S), squared=False)\n",
    "RMSE_NBRs.append(RMSE_NBR)\n",
    "print('NBR done')\n",
    "RMSE_W_PPR = mean_squared_error(X, W_PPR(X, A, S, k), squared=False)\n",
    "RMSE_W_PPRs.append(RMSE_W_PPR)\n",
    "print('W_PPR done')\n",
    "RMSE_Jaccard = mean_squared_error(X, Jaccard(X, A, S, k), squared=False)\n",
    "RMSE_Jaccards.append(RMSE_Jaccard)\n",
    "print('Jaccard done')\n",
    "RMSE_CN = mean_squared_error(X, CN(X, A, S, k), squared=False)\n",
    "RMSE_CNs.append(RMSE_CN)\n",
    "print('CN done')\n",
    "RMSE_SVD_RBF = mean_squared_error(X, SVD_RBF(X, A, S, (np.log(n))**(3/k) / n**(1 / 2 / (k+1)), k), squared=False)\n",
    "RMSE_SVD_RBFs.append(RMSE_SVD_RBF)\n",
    "print('SVD RBF done')"
   ]
  },
  {
   "cell_type": "code",
   "execution_count": 108,
   "id": "3892ecad",
   "metadata": {
    "ExecuteTime": {
     "end_time": "2022-02-06T12:55:42.048277Z",
     "start_time": "2022-02-06T12:55:42.039277Z"
    }
   },
   "outputs": [],
   "source": [
    "share = 0.8\n",
    "S = np.random.choice(np.arange(n), size=int(n*(1-share)), replace=False)"
   ]
  },
  {
   "cell_type": "code",
   "execution_count": null,
   "id": "b5673177",
   "metadata": {
    "ExecuteTime": {
     "start_time": "2022-02-06T12:55:42.656Z"
    }
   },
   "outputs": [],
   "source": [
    "RMSE_NBR = mean_squared_error(X, NBR(X, A, S), squared=False)\n",
    "RMSE_NBRs.append(RMSE_NBR)\n",
    "print('NBR done')\n",
    "RMSE_W_PPR = mean_squared_error(X, W_PPR(X, A, S, k), squared=False)\n",
    "RMSE_W_PPRs.append(RMSE_W_PPR)\n",
    "print('W_PPR done')\n",
    "RMSE_Jaccard = mean_squared_error(X, Jaccard(X, A, S, k), squared=False)\n",
    "RMSE_Jaccards.append(RMSE_Jaccard)\n",
    "print('Jaccard done')\n",
    "RMSE_CN = mean_squared_error(X, CN(X, A, S, k), squared=False)\n",
    "RMSE_CNs.append(RMSE_CN)\n",
    "print('CN done')\n",
    "RMSE_SVD_RBF = mean_squared_error(X, SVD_RBF(X, A, S, (np.log(n))**(3/k) / n**(1 / 2 / (k+1)), k), squared=False)\n",
    "RMSE_SVD_RBFs.append(RMSE_SVD_RBF)\n",
    "print('SVD RBF done')"
   ]
  },
  {
   "cell_type": "code",
   "execution_count": 91,
   "id": "3eac7003",
   "metadata": {
    "ExecuteTime": {
     "end_time": "2022-02-06T12:44:58.200108Z",
     "start_time": "2022-02-06T12:44:58.188079Z"
    }
   },
   "outputs": [],
   "source": [
    "share = 0.9\n",
    "S = np.random.choice(np.arange(n), size=int(n*(1-share)), replace=False)"
   ]
  },
  {
   "cell_type": "code",
   "execution_count": null,
   "id": "e9f3e633",
   "metadata": {
    "ExecuteTime": {
     "end_time": "2022-02-06T12:47:01.392140Z",
     "start_time": "2022-02-06T12:44:59.006104Z"
    }
   },
   "outputs": [],
   "source": [
    "RMSE_NBR = mean_squared_error(X, NBR(X, A, S), squared=False)\n",
    "RMSE_NBRs.append(RMSE_NBR)\n",
    "print('NBR done')\n",
    "RMSE_W_PPR = mean_squared_error(X, W_PPR(X, A, S, k), squared=False)\n",
    "RMSE_W_PPRs.append(RMSE_W_PPR)\n",
    "print('W_PPR done')\n",
    "RMSE_Jaccard = mean_squared_error(X, Jaccard(X, A, S, k), squared=False)\n",
    "RMSE_Jaccards.append(RMSE_Jaccard)\n",
    "print('Jaccard done')\n",
    "RMSE_CN = mean_squared_error(X, CN(X, A, S, k), squared=False)\n",
    "RMSE_CNs.append(RMSE_CN)\n",
    "print('CN done')\n",
    "RMSE_SVD_RBF = mean_squared_error(X, SVD_RBF(X, A, S, (np.log(n))**(3/k) / n**(1 / 2 / (k+1)), k), squared=False)\n",
    "RMSE_SVD_RBFs.append(RMSE_SVD_RBF)\n",
    "print('SVD RBF done')"
   ]
  },
  {
   "cell_type": "code",
   "execution_count": null,
   "id": "a911c889",
   "metadata": {
    "ExecuteTime": {
     "end_time": "2022-02-06T12:47:16.358114Z",
     "start_time": "2022-02-06T12:47:16.186575Z"
    }
   },
   "outputs": [],
   "source": [
    "plt.figure(figsize=(8,4))\n",
    "plt.title('RDPG')\n",
    "plt.xlabel('fraction of unknown covariates')\n",
    "plt.ylabel('RMSE')\n",
    "colors = plt.cm.summer_r(np.linspace(0.2,1,4))\n",
    "plt.plot([0.5, 0.6, 0.7, 0.8, 0.9], RMSE_NBRs, marker='o', color=colors[0], label='NBR')\n",
    "plt.plot([0.5, 0.6, 0.7, 0.8, 0.9], RMSE_W_PPRs, marker='*', color=colors[1], label='W-PPR')\n",
    "plt.plot([0.5, 0.6, 0.7, 0.8, 0.9], RMSE_Jaccards, marker='^', color=colors[2], label='Jaccard')\n",
    "plt.plot([0.5, 0.6, 0.7, 0.8, 0.9], RMSE_CNs, marker='s', color=colors[3], label='CN')\n",
    "# plt.plot([0.5, 0.6, 0.7, 0.8, 0.9], RMSE_SVD_RBFs, color=colors[4], label='SVD-RBF')\n",
    "plt.legend();"
   ]
  }
 ],
 "metadata": {
  "kernelspec": {
   "display_name": "Python 3 (ipykernel)",
   "language": "python",
   "name": "python3"
  },
  "language_info": {
   "codemirror_mode": {
    "name": "ipython",
    "version": 3
   },
   "file_extension": ".py",
   "mimetype": "text/x-python",
   "name": "python",
   "nbconvert_exporter": "python",
   "pygments_lexer": "ipython3",
   "version": "3.9.7"
  },
  "toc": {
   "base_numbering": 1,
   "nav_menu": {},
   "number_sections": true,
   "sideBar": true,
   "skip_h1_title": false,
   "title_cell": "Table of Contents",
   "title_sidebar": "Contents",
   "toc_cell": false,
   "toc_position": {
    "height": "621.778px",
    "left": "27px",
    "top": "111.139px",
    "width": "341.306px"
   },
   "toc_section_display": true,
   "toc_window_display": true
  },
  "varInspector": {
   "cols": {
    "lenName": 16,
    "lenType": 16,
    "lenVar": 40
   },
   "kernels_config": {
    "python": {
     "delete_cmd_postfix": "",
     "delete_cmd_prefix": "del ",
     "library": "var_list.py",
     "varRefreshCmd": "print(var_dic_list())"
    },
    "r": {
     "delete_cmd_postfix": ") ",
     "delete_cmd_prefix": "rm(",
     "library": "var_list.r",
     "varRefreshCmd": "cat(var_dic_list()) "
    }
   },
   "types_to_exclude": [
    "module",
    "function",
    "builtin_function_or_method",
    "instance",
    "_Feature"
   ],
   "window_display": false
  }
 },
 "nbformat": 4,
 "nbformat_minor": 5
}
